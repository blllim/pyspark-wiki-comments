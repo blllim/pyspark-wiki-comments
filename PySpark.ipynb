{
 "cells": [
  {
   "cell_type": "code",
   "execution_count": 1,
   "metadata": {},
   "outputs": [],
   "source": [
    "# Initialise spark session\n",
    "from pyspark.sql import SparkSession\n",
    "\n",
    "spark = SparkSession.builder.appName(\"PySpark\")\\\n",
    "        .config(\"spark.driver.memory\", \"15g\")\\\n",
    "        .config(\"spark.executor.memory\", \"5g\")\\\n",
    "        .config(\"spark.jars.packages\", \"com.johnsnowlabs.nlp:spark-nlp_2.12:3.4.1\")\\\n",
    "        .getOrCreate()"
   ]
  },
  {
   "cell_type": "code",
   "execution_count": 2,
   "metadata": {},
   "outputs": [
    {
     "name": "stderr",
     "output_type": "stream",
     "text": [
      "[nltk_data] Downloading package stopwords to\n",
      "[nltk_data]     /home/blim001/nltk_data...\n",
      "[nltk_data]   Package stopwords is already up-to-date!\n"
     ]
    },
    {
     "data": {
      "text/plain": [
       "True"
      ]
     },
     "execution_count": 2,
     "metadata": {},
     "output_type": "execute_result"
    }
   ],
   "source": [
    "# Importing necessary libraries and packages\n",
    "from pyspark.sql import functions as F\n",
    "from pyspark.ml.feature import Tokenizer,StopWordsRemover,CountVectorizer,IDF,NGram\n",
    "from pyspark.ml.feature import StringIndexer\n",
    "from pyspark.ml.classification import LogisticRegression, LinearSVC, RandomForestClassifier\n",
    "from pyspark.ml import Pipeline, PipelineModel\n",
    "from pyspark.ml.tuning import CrossValidator, ParamGridBuilder, CrossValidatorModel\n",
    "from pyspark.ml.evaluation import MulticlassClassificationEvaluator, BinaryClassificationEvaluator\n",
    "from pyspark.sql.functions import regexp_replace, trim\n",
    "\n",
    "from pyspark import keyword_only\n",
    "from pyspark.sql import DataFrame\n",
    "from pyspark.sql.types import ArrayType, StructType, StructField, StringType, FloatType\n",
    "from pyspark.ml import Transformer\n",
    "from pyspark.ml.param.shared import HasInputCol, HasOutputCol, Param\n",
    "\n",
    "# To install Matplotlib, Wordcloud and NLTK if necessary\n",
    "import matplotlib\n",
    "import matplotlib.pyplot as plt\n",
    "import wordcloud \n",
    "from PIL import Image\n",
    "from wordcloud import STOPWORDS, WordCloud, ImageColorGenerator\n",
    "\n",
    "import nltk\n",
    "nltk.download('stopwords')\n"
   ]
  },
  {
   "cell_type": "code",
   "execution_count": 3,
   "metadata": {},
   "outputs": [],
   "source": [
    "# File paths for train, test and test labels dataset on HDFS\n",
    "filepath_train = \"hdfs:///user/blim001/jigsaw_dataset/train.csv\"\n",
    "filepath_test = \"hdfs:///user/blim001/jigsaw_dataset/test.csv\"\n",
    "filepath_eval = \"hdfs:///user/blim001/jigsaw_dataset/test_labels.csv\""
   ]
  },
  {
   "cell_type": "markdown",
   "metadata": {},
   "source": [
    "# Exploratory Data Analysis"
   ]
  },
  {
   "cell_type": "code",
   "execution_count": 4,
   "metadata": {},
   "outputs": [],
   "source": [
    "# Create Spark DataFrame from train dataset\n",
    "df = spark.read.option(\"quote\", \"\\\"\")\\\n",
    ".option(\"escape\", \"\\\"\").option(\"multiline\", True)\\\n",
    ".option(\"header\", True).csv(filepath_train)"
   ]
  },
  {
   "cell_type": "code",
   "execution_count": 5,
   "metadata": {},
   "outputs": [
    {
     "name": "stdout",
     "output_type": "stream",
     "text": [
      "+-----+------------+-------+------+------+-------------+\n",
      "|toxic|severe_toxic|obscene|threat|insult|identity_hate|\n",
      "+-----+------------+-------+------+------+-------------+\n",
      "|    0|           0|      0|     0|     0|            0|\n",
      "+-----+------------+-------+------+------+-------------+\n",
      "\n"
     ]
    }
   ],
   "source": [
    "# Check for null values in the train DataFrame\n",
    "columns = ['toxic', 'severe_toxic', 'obscene', 'threat',\n",
    "       'insult', 'identity_hate']\n",
    "df.select([F.count(F.when(F.isnull(c), c)).alias(c) for c in columns]).show()"
   ]
  },
  {
   "cell_type": "code",
   "execution_count": 6,
   "metadata": {},
   "outputs": [
    {
     "name": "stdout",
     "output_type": "stream",
     "text": [
      "root\n",
      " |-- id: string (nullable = true)\n",
      " |-- comment_text: string (nullable = true)\n",
      " |-- toxic: string (nullable = true)\n",
      " |-- severe_toxic: string (nullable = true)\n",
      " |-- obscene: string (nullable = true)\n",
      " |-- threat: string (nullable = true)\n",
      " |-- insult: string (nullable = true)\n",
      " |-- identity_hate: string (nullable = true)\n",
      "\n"
     ]
    }
   ],
   "source": [
    "# Check Schema of the train DataFrame\n",
    "df.printSchema()"
   ]
  },
  {
   "cell_type": "code",
   "execution_count": 7,
   "metadata": {},
   "outputs": [
    {
     "name": "stdout",
     "output_type": "stream",
     "text": [
      "+-----+------------+-------+------+------+-------------+\n",
      "|toxic|severe_toxic|obscene|threat|insult|identity_hate|\n",
      "+-----+------------+-------+------+------+-------------+\n",
      "|15294|        1595|   8449|   478|  7877|         1405|\n",
      "+-----+------------+-------+------+------+-------------+\n",
      "\n",
      "+-----------------+------------------+---------------+------------------+-----------------+------------------+\n",
      "|            toxic|      severe_toxic|        obscene|            threat|           insult|     identity_hate|\n",
      "+-----------------+------------------+---------------+------------------+-----------------+------------------+\n",
      "|9.584448302009763|0.9995550569965721|5.2948217407925|0.2995531769557125|4.936360616904074|0.8804858025581089|\n",
      "+-----------------+------------------+---------------+------------------+-----------------+------------------+\n",
      "\n"
     ]
    }
   ],
   "source": [
    "# Count the number of comments of each toxicity type\n",
    "columns = ['toxic', 'severe_toxic', 'obscene', 'threat',\n",
    "       'insult', 'identity_hate']\n",
    "\n",
    "df.select([F.count(F.when(F.col(c)=='1',c)).alias(c) for c in columns]).show()\n",
    "\n",
    "# Percentage of comments of each toxicity type\n",
    "df.select([(F.count(F.when(F.col(c)=='1',c))*100/F.count(F.col(c))).alias(c) for c in columns]).show()"
   ]
  },
  {
   "cell_type": "code",
   "execution_count": 8,
   "metadata": {},
   "outputs": [
    {
     "data": {
      "image/png": "[encoded data removed]",
      "text/plain": [
       "<Figure size 576x432 with 1 Axes>"
      ]
     },
     "metadata": {
      "needs_background": "light"
     },
     "output_type": "display_data"
    }
   ],
   "source": [
    "# Plot the counts in a bar plot\n",
    "fig, ax = plt.subplots(figsize=(8,6))\n",
    "df_count = df.select([F.count(F.when(F.col(c)=='1',c)).alias(c) for c in columns])\n",
    "df_pd = df_count.toPandas()\n",
    "df_pd.transpose().sort_values(by=0,ascending=False).plot.bar(ax=ax, legend=False, rot=0)\n",
    "ax.set_title(\"Number of comments of each toxicity type\")\n",
    "plt.show()"
   ]
  },
  {
   "cell_type": "code",
   "execution_count": 9,
   "metadata": {},
   "outputs": [
    {
     "data": {
      "image/png": "[encoded data removed]",
      "text/plain": [
       "<Figure size 1440x1440 with 1 Axes>"
      ]
     },
     "metadata": {
      "needs_background": "light"
     },
     "output_type": "display_data"
    },
    {
     "data": {
      "image/png": "[encoded data removed]",
      "text/plain": [
       "<Figure size 1440x1440 with 1 Axes>"
      ]
     },
     "metadata": {
      "needs_background": "light"
     },
     "output_type": "display_data"
    },
    {
     "data": {
      "image/png": "[encoded data removed]",
      "text/plain": [
       "<Figure size 1440x1440 with 1 Axes>"
      ]
     },
     "metadata": {
      "needs_background": "light"
     },
     "output_type": "display_data"
    },
    {
     "data": {
      "image/png": "[encoded data removed]",
      "text/plain": [
       "<Figure size 1440x1440 with 1 Axes>"
      ]
     },
     "metadata": {
      "needs_background": "light"
     },
     "output_type": "display_data"
    },
    {
     "data": {
      "image/png": "[encoded data removed]",
      "text/plain": [
       "<Figure size 1440x1440 with 1 Axes>"
      ]
     },
     "metadata": {
      "needs_background": "light"
     },
     "output_type": "display_data"
    },
    {
     "data": {
      "image/png": "[encoded data removed]",
      "text/plain": [
       "<Figure size 1440x1440 with 1 Axes>"
      ]
     },
     "metadata": {
      "needs_background": "light"
     },
     "output_type": "display_data"
    }
   ],
   "source": [
    "# Generate Word cloud for each toxicity type\n",
    "\n",
    "def Wordcloud(df, col, n):\n",
    "    stopwords = set(STOPWORDS)\n",
    "    stopwords.update([\"people\", \"hi\", \"go\", \"one\", \"say\"])\n",
    "    subset = df[df[col]==\"1\"].comment_text.values\n",
    "    texts = \" \".join(subset)\n",
    "    wordcloud = WordCloud(background_color=\"black\", stopwords = stopwords, max_words=50)\n",
    "    wc = wordcloud.generate(texts)\n",
    "    \n",
    "    plt.figure(figsize=(20,20))\n",
    "    plt.subplot(3,3,n)\n",
    "    plt.imshow(wc,interpolation=\"bilinear\")\n",
    "    plt.axis(\"off\")\n",
    "    plt.title(\"Common words in {} comments\".format(col))\n",
    "    plt.show()\n",
    "\n",
    "# Generate plots\n",
    "df_pandas = df.toPandas()\n",
    "\n",
    "Wordcloud(df_pandas, \"toxic\", 1)\n",
    "Wordcloud(df_pandas, \"severe_toxic\", 2)\n",
    "Wordcloud(df_pandas, \"obscene\", 3)\n",
    "Wordcloud(df_pandas, \"threat\", 4)\n",
    "Wordcloud(df_pandas, \"insult\", 5)\n",
    "Wordcloud(df_pandas, \"identity_hate\", 6)"
   ]
  },
  {
   "cell_type": "markdown",
   "metadata": {},
   "source": [
    "# Data Preparation"
   ]
  },
  {
   "cell_type": "markdown",
   "metadata": {},
   "source": [
    "## Preparing train data"
   ]
  },
  {
   "cell_type": "code",
   "execution_count": 4,
   "metadata": {},
   "outputs": [],
   "source": [
    "# Create DataFrame from train dataset\n",
    "\n",
    "df = spark.read.option(\"quote\", \"\\\"\")\\\n",
    ".option(\"escape\", \"\\\"\").option(\"multiline\", True)\\\n",
    ".option(\"header\", True).csv(filepath_train)"
   ]
  },
  {
   "cell_type": "code",
   "execution_count": 5,
   "metadata": {},
   "outputs": [],
   "source": [
    "# Label Encoding for train DataFrame\n",
    "inputs = ['toxic', 'severe_toxic', 'obscene', 'threat', 'insult', 'identity_hate']\n",
    "\n",
    "outputs = ['toxic_idx', 'severe_toxic_idx', 'obscene_idx', 'threat_idx',\n",
    "       'insult_idx', 'identity_hate_idx']\n",
    "\n",
    "labelEncoder = StringIndexer(inputCols=inputs, outputCols=outputs).fit(df)\n",
    "\n",
    "df = labelEncoder.transform(df)"
   ]
  },
  {
   "cell_type": "code",
   "execution_count": 6,
   "metadata": {
    "scrolled": true
   },
   "outputs": [
    {
     "name": "stdout",
     "output_type": "stream",
     "text": [
      "Total rows in the original train dataset: 159571\n"
     ]
    }
   ],
   "source": [
    "# Remove punctuations, non-ASCII characters and numbers in the comment texts\n",
    "df_regex = df.withColumn(\"column_regex\", \n",
    "                         trim(\n",
    "                        (regexp_replace(\n",
    "                        regexp_replace(\n",
    "                        regexp_replace(F.col(\"comment_text\"), r'[^\\x00-\\x7F]', ''), \n",
    "                            '[^\\sa-zA-Z]', ''), r'\\s+', ' '))))\n",
    "\n",
    "df_regex = df_regex.select('column_regex','toxic_idx', 'severe_toxic_idx', 'obscene_idx', \n",
    "                         'threat_idx','insult_idx', 'identity_hate_idx')\n",
    "\n",
    "\n",
    "print('Total rows in the original train dataset: {}'.format(df_regex.count()))"
   ]
  },
  {
   "cell_type": "markdown",
   "metadata": {},
   "source": [
    "### NLP Pipeline"
   ]
  },
  {
   "cell_type": "code",
   "execution_count": 7,
   "metadata": {
    "scrolled": true
   },
   "outputs": [
    {
     "name": "stdout",
     "output_type": "stream",
     "text": [
      "lemma_antbnc download started this may take some time.\n",
      "Approximate size to download 907.6 KB\n",
      "[OK!]\n"
     ]
    }
   ],
   "source": [
    "from sparknlp.base import DocumentAssembler\n",
    "from sparknlp.annotator import Tokenizer\n",
    "from sparknlp.annotator import Normalizer\n",
    "from sparknlp.annotator import LemmatizerModel\n",
    "from nltk.corpus import stopwords\n",
    "from sparknlp.annotator import StopWordsCleaner\n",
    "from sparknlp.annotator import PerceptronModel\n",
    "from sparknlp.annotator import Chunker\n",
    "from sparknlp.base import Finisher\n",
    "from sparknlp.annotator import NGramGenerator\n",
    "\n",
    "\n",
    "documentAssembler = DocumentAssembler() \\\n",
    "     .setInputCol('column_regex') \\\n",
    "     .setOutputCol('document')\n",
    "\n",
    "tokenizer = Tokenizer() \\\n",
    "     .setInputCols(['document']) \\\n",
    "     .setOutputCol('tokenized')\n",
    "\n",
    "normalizer = Normalizer() \\\n",
    "     .setInputCols(['tokenized']) \\\n",
    "     .setOutputCol('normalized') \\\n",
    "     .setLowercase(True)\n",
    "    \n",
    "lemmatizer = LemmatizerModel.pretrained() \\\n",
    "     .setInputCols(['normalized']) \\\n",
    "     .setOutputCol('lemmatized')\n",
    "\n",
    "stopwords_cleaner = StopWordsCleaner() \\\n",
    "     .setInputCols(['lemmatized']) \\\n",
    "     .setOutputCol('unigrams')\n",
    "\n",
    "\n",
    "bigram_generator = NGramGenerator() \\\n",
    "    .setInputCols(['unigrams']) \\\n",
    "    .setOutputCol('bigrams') \\\n",
    "    .setN(2)\n",
    "\n",
    "\n",
    "finisher = Finisher() \\\n",
    "     .setInputCols(['unigrams', 'bigrams'])"
   ]
  },
  {
   "cell_type": "code",
   "execution_count": 8,
   "metadata": {},
   "outputs": [
    {
     "data": {
      "text/plain": [
       "DataFrame[column_regex: string, toxic_idx: double, severe_toxic_idx: double, obscene_idx: double, threat_idx: double, insult_idx: double, identity_hate_idx: double, finished_unigrams: array<string>, finished_bigrams: array<string>]"
      ]
     },
     "execution_count": 8,
     "metadata": {},
     "output_type": "execute_result"
    }
   ],
   "source": [
    "# Building NLP pipeline\n",
    "nlp_pipeline = Pipeline().setStages(\n",
    "                 [documentAssembler,\n",
    "                 tokenizer,\n",
    "                 normalizer,\n",
    "                 lemmatizer,\n",
    "                 stopwords_cleaner,\n",
    "                 bigram_generator,\n",
    "                 finisher]\n",
    ")\n",
    "\n",
    "# Pre-process train dataset using NLP pipeline\n",
    "df_use = nlp_pipeline.fit(df_regex).transform(df_regex)\n",
    "df_use.cache()\n"
   ]
  },
  {
   "cell_type": "markdown",
   "metadata": {},
   "source": [
    "### Resampled datasets"
   ]
  },
  {
   "cell_type": "code",
   "execution_count": 9,
   "metadata": {},
   "outputs": [
    {
     "name": "stdout",
     "output_type": "stream",
     "text": [
      "+--------------+-----+\n",
      "|Toxic comments|count|\n",
      "+--------------+-----+\n",
      "|           0.0|15760|\n",
      "|           1.0|15294|\n",
      "+--------------+-----+\n",
      "\n",
      "+---------------------+-----+\n",
      "|Severe Toxic comments|count|\n",
      "+---------------------+-----+\n",
      "|                  0.0| 1587|\n",
      "|                  1.0| 1595|\n",
      "+---------------------+-----+\n",
      "\n",
      "+----------------+-----+\n",
      "|Obscene comments|count|\n",
      "+----------------+-----+\n",
      "|             0.0| 8991|\n",
      "|             1.0| 8449|\n",
      "+----------------+-----+\n",
      "\n",
      "+---------------+-----+\n",
      "|Threat comments|count|\n",
      "+---------------+-----+\n",
      "|            0.0|  470|\n",
      "|            1.0|  478|\n",
      "+---------------+-----+\n",
      "\n",
      "+---------------+-----+\n",
      "|Insult comments|count|\n",
      "+---------------+-----+\n",
      "|            0.0| 7532|\n",
      "|            1.0| 7877|\n",
      "+---------------+-----+\n",
      "\n",
      "+----------------------+-----+\n",
      "|Identity Hate comments|count|\n",
      "+----------------------+-----+\n",
      "|                   0.0| 1422|\n",
      "|                   1.0| 1405|\n",
      "+----------------------+-----+\n",
      "\n"
     ]
    }
   ],
   "source": [
    "# Resampling original dataset for more balanced distribution\n",
    "\n",
    "# Toxic\n",
    "df_Tox = df_use.filter(F.col('toxic_idx')==1).union(\n",
    "        (df_use.filter(F.col('toxic_idx')==0).randomSplit([0.11, 0.89], 42))[0])\n",
    "df_Tox.cache()\n",
    "df_Tox.groupBy(F.col('toxic_idx').alias('Toxic comments')).count().show()\n",
    "\n",
    "# Severe Toxic\n",
    "df_ST = df_use.filter(F.col('severe_toxic_idx')==1).union(\n",
    "        (df_use.filter(F.col('severe_toxic_idx')==0).randomSplit([0.01, 0.99], 42))[0])\n",
    "df_ST.cache()\n",
    "df_ST.groupBy(F.col('severe_toxic_idx').alias('Severe Toxic comments')).count().show()\n",
    "\n",
    "# Obscene\n",
    "df_Ob = df_use.filter(F.col('obscene_idx')==1).union(\n",
    "        (df_use.filter(F.col('obscene_idx')==0).randomSplit([0.06, 0.94], 42))[0])\n",
    "df_Ob.cache()\n",
    "df_Ob.groupBy(F.col('obscene_idx').alias('Obscene comments')).count().show()\n",
    "\n",
    "# Threat\n",
    "df_Thr = df_use.filter(F.col('threat_idx')==1).union(\n",
    "        (df_use.filter(F.col('threat_idx')==0).randomSplit([0.003, 0.997], 42))[0])\n",
    "df_Thr.cache()\n",
    "df_Thr.groupBy(F.col('threat_idx').alias('Threat comments')).count().show()\n",
    "\n",
    "# Insult\n",
    "df_Ins = df_use.filter(F.col('insult_idx')==1).union(\n",
    "        (df_use.filter(F.col('insult_idx')==0).randomSplit([0.05, 0.95], 42))[0])\n",
    "df_Ins.cache()\n",
    "df_Ins.groupBy(F.col('insult_idx').alias('Insult comments')).count().show()\n",
    "\n",
    "# Identity Hate\n",
    "df_IH = df_use.filter(F.col('identity_hate_idx')==1).union(\n",
    "        (df_use.filter(F.col('identity_hate_idx')==0).randomSplit([0.009, 0.991], 42))[0])\n",
    "df_IH.cache()\n",
    "df_IH.groupBy(F.col('identity_hate_idx').alias('Identity Hate comments')).count().show()"
   ]
  },
  {
   "cell_type": "markdown",
   "metadata": {},
   "source": [
    "## Preparing test data"
   ]
  },
  {
   "cell_type": "code",
   "execution_count": 10,
   "metadata": {},
   "outputs": [
    {
     "name": "stdout",
     "output_type": "stream",
     "text": [
      "Total rows in the test dataset: 153164\n"
     ]
    }
   ],
   "source": [
    "# Create DataFrame from test dataset\n",
    "df_test = spark.read.option(\"quote\", \"\\\"\")\\\n",
    ".option(\"escape\", \"\\\"\").option(\"multiline\", True)\\\n",
    ".option(\"header\", True).csv(filepath_test)\n",
    "\n",
    "\n",
    "print('Total rows in the test dataset: {}'.format(df_test.count()))"
   ]
  },
  {
   "cell_type": "code",
   "execution_count": 11,
   "metadata": {},
   "outputs": [],
   "source": [
    "# Remove punctuations, non-ASCII characters and numbers in the comment texts\n",
    "df_test = df_test.withColumn(\"column_regex\", \n",
    "                         trim(\n",
    "                        (regexp_replace(\n",
    "                        regexp_replace(\n",
    "                        regexp_replace(F.col(\"comment_text\"), r'[^\\x00-\\x7F]', ''), \n",
    "                            '[^\\sa-zA-Z]', ''), r'\\s+', ' ')\n",
    "                             )))"
   ]
  },
  {
   "cell_type": "code",
   "execution_count": 12,
   "metadata": {},
   "outputs": [
    {
     "data": {
      "text/plain": [
       "DataFrame[id: string, comment_text: string, column_regex: string, finished_unigrams: array<string>, finished_bigrams: array<string>]"
      ]
     },
     "execution_count": 12,
     "metadata": {},
     "output_type": "execute_result"
    }
   ],
   "source": [
    "# Pre-processing test dataset using NLP pipeline\n",
    "df_test = nlp_pipeline.fit(df_regex).transform(df_test)\n",
    "df_test.cache()"
   ]
  },
  {
   "cell_type": "code",
   "execution_count": 13,
   "metadata": {},
   "outputs": [
    {
     "name": "stdout",
     "output_type": "stream",
     "text": [
      "Total rows in the test labels dataset: 63978\n"
     ]
    }
   ],
   "source": [
    "# Create DataFrame from test labels dataset \n",
    "df_eval = spark.read.csv(filepath_eval, inferSchema=True, header=True)\n",
    "\n",
    "# Filter out instances labelled -1\n",
    "df_eval = df_eval.filter((df_eval.toxic != -1) & (df_eval.severe_toxic != -1)\\\n",
    "                         & (df_eval.obscene != -1) & (df_eval.threat != -1)\\\n",
    "                         & (df_eval.insult != -1) & (df_eval.identity_hate != -1))\n",
    "\n",
    "# Label Encoding for test labels DataFrame\n",
    "df_eval = labelEncoder.transform(df_eval)\n",
    "df_eval.cache()\n",
    "\n",
    "print('Total rows in the test labels dataset: {}'.format(df_eval.count()))"
   ]
  },
  {
   "cell_type": "markdown",
   "metadata": {},
   "source": [
    "# Model Training and Evaluation"
   ]
  },
  {
   "cell_type": "markdown",
   "metadata": {},
   "source": [
    "## Creating ML Pipeline"
   ]
  },
  {
   "cell_type": "code",
   "execution_count": 14,
   "metadata": {},
   "outputs": [],
   "source": [
    "# ML Pipeline stages\n",
    "\n",
    "# count vectorizer for model training without bigrams\n",
    "vectorizer_unigram = CountVectorizer(inputCol='finished_unigrams',outputCol='features_raw')\n",
    "\n",
    "# count vectorizer for model training with bigrams\n",
    "vectorizer_bigram = CountVectorizer(inputCol='finished_bigrams',outputCol='features_raw')\n",
    "\n",
    "# IDF vectorizer\n",
    "idf = IDF(inputCol='features_raw',outputCol='features_vectorized')\n",
    "\n",
    "# If using Logistic Regression\n",
    "lr_Tox = LogisticRegression(featuresCol='features_vectorized',labelCol='toxic_idx')\n",
    "lr_ST = LogisticRegression(featuresCol='features_vectorized',labelCol='severe_toxic_idx')\n",
    "lr_Ob = LogisticRegression(featuresCol='features_vectorized',labelCol='obscene_idx')\n",
    "lr_Thr = LogisticRegression(featuresCol='features_vectorized',labelCol='threat_idx')\n",
    "lr_Ins = LogisticRegression(featuresCol='features_vectorized',labelCol='insult_idx')\n",
    "lr_IH = LogisticRegression(featuresCol='features_vectorized',labelCol='identity_hate_idx')\n",
    "\n",
    "# If using Linear SVC\n",
    "svm_Tox = LinearSVC(featuresCol='features_vectorized',labelCol='toxic_idx')\n",
    "svm_ST = LinearSVC(featuresCol='features_vectorized',labelCol='severe_toxic_idx')\n",
    "svm_Ob = LinearSVC(featuresCol='features_vectorized',labelCol='obscene_idx')\n",
    "svm_Thr = LinearSVC(featuresCol='features_vectorized',labelCol='threat_idx')\n",
    "svm_Ins = LinearSVC(featuresCol='features_vectorized',labelCol='insult_idx')\n",
    "svm_IH = LinearSVC(featuresCol='features_vectorized',labelCol='identity_hate_idx')\n",
    "\n",
    "# If using Random Forest\n",
    "rf_Tox = RandomForestClassifier(featuresCol='features_vectorized', labelCol='toxic_idx', seed=42)\n",
    "rf_ST = RandomForestClassifier(featuresCol='features_vectorized', labelCol='severe_toxic_idx', seed=42)\n",
    "rf_Ob = RandomForestClassifier(featuresCol='features_vectorized', labelCol='obscene_idx', seed=42)\n",
    "rf_Thr = RandomForestClassifier(featuresCol='features_vectorized', labelCol='threat_idx', seed=42)\n",
    "rf_Ins = RandomForestClassifier(featuresCol='features_vectorized', labelCol='insult_idx', seed=42)\n",
    "rf_IH = RandomForestClassifier(featuresCol='features_vectorized', labelCol='identity_hate_idx', seed=42)\n",
    "\n"
   ]
  },
  {
   "cell_type": "markdown",
   "metadata": {},
   "source": [
    "## Training on original dataset"
   ]
  },
  {
   "cell_type": "markdown",
   "metadata": {},
   "source": [
    "### Logistic Regression"
   ]
  },
  {
   "cell_type": "markdown",
   "metadata": {},
   "source": [
    "#### Toxic comments"
   ]
  },
  {
   "cell_type": "code",
   "execution_count": 21,
   "metadata": {},
   "outputs": [
    {
     "name": "stdout",
     "output_type": "stream",
     "text": [
      "Test set F1 score for Toxic comments = 0.891918469034243\n",
      "Test set Accuracy score for Toxic comments = 0.8907280627715777\n",
      "Test set Area under ROC for Toxic comments = 0.8302923398992091\n",
      "+----------+---------+-----+\n",
      "|prediction|toxic_idx|count|\n",
      "+----------+---------+-----+\n",
      "|       1.0|      1.0| 2747|\n",
      "|       0.0|      1.0| 3343|\n",
      "|       1.0|      0.0| 3648|\n",
      "|       0.0|      0.0|54240|\n",
      "+----------+---------+-----+\n",
      "\n"
     ]
    }
   ],
   "source": [
    "# Toxic comments - Original dataset\n",
    "\n",
    "pipeline_Tox = Pipeline(stages = [vectorizer_bigram, idf, lr_Tox])\n",
    "\n",
    "model_Tox_all = pipeline_Tox.fit(df_use)\n",
    "\n",
    "predictions_Tox_all = model_Tox_all.transform(df_test)\n",
    "\n",
    "predictions_Tox_all = predictions_Tox_all.select('id','comment_text','probability',\n",
    "                                         'rawPrediction','prediction')\n",
    "\n",
    "pred_Tox = predictions_Tox_all.join(df_eval, \"id\",'inner').select(predictions_Tox_all.id,\n",
    "                                                predictions_Tox_all.comment_text,\n",
    "                                                predictions_Tox_all.probability,\n",
    "                                                predictions_Tox_all.rawPrediction,\n",
    "                                                predictions_Tox_all.prediction, \n",
    "                                                df_eval.toxic_idx)\n",
    "\n",
    "pred_Tox.cache()\n",
    "\n",
    " \n",
    "evaluator_Tox = MulticlassClassificationEvaluator(labelCol=\"toxic_idx\", \n",
    "                                              predictionCol=\"prediction\",\n",
    "                                              metricName=\"f1\", metricLabel=1.0)  # Label 1 is positive class.\n",
    "\n",
    "evaluator_Tox_A = MulticlassClassificationEvaluator(labelCol=\"toxic_idx\", \n",
    "                                              predictionCol=\"prediction\",\n",
    "                                              metricName=\"accuracy\", metricLabel=1.0)   # Label 1 is positive class.\n",
    "\n",
    "evaluator_Tox_ROC = BinaryClassificationEvaluator(labelCol=\"toxic_idx\", \n",
    "                                              rawPredictionCol=\"rawPrediction\",\n",
    "                                              metricName=\"areaUnderROC\")\n",
    "\n",
    "f1_Tox_all = evaluator_Tox.evaluate(pred_Tox)\n",
    "print(\"Test set F1 score for Toxic comments = \" + str(f1_Tox_all))\n",
    "Acc_Tox_all = evaluator_Tox_A.evaluate(pred_Tox)\n",
    "print(\"Test set Accuracy score for Toxic comments = \" + str(Acc_Tox_all))\n",
    "ROC_Tox_all = evaluator_Tox_ROC.evaluate(pred_Tox)\n",
    "print(\"Test set Area under ROC for Toxic comments = \" + str(ROC_Tox_all))\n",
    "\n",
    "pred_Tox.groupBy(F.col('prediction'),F.col('toxic_idx')).count().show()"
   ]
  },
  {
   "cell_type": "markdown",
   "metadata": {},
   "source": [
    "#### Severe Toxic Comments"
   ]
  },
  {
   "cell_type": "code",
   "execution_count": 22,
   "metadata": {},
   "outputs": [
    {
     "name": "stdout",
     "output_type": "stream",
     "text": [
      "Test set F1 score for Severe Toxic comments = 0.9873004133370489\n",
      "Test set Accuracy score for Severe Toxic comments = 0.9840570196004876\n",
      "Test set Area under ROC for Severe Toxic comments = 0.6928223517285346\n",
      "+----------+----------------+-----+\n",
      "|prediction|severe_toxic_idx|count|\n",
      "+----------+----------------+-----+\n",
      "|       1.0|             1.0|  113|\n",
      "|       0.0|             1.0|  254|\n",
      "|       1.0|             0.0|  766|\n",
      "|       0.0|             0.0|62845|\n",
      "+----------+----------------+-----+\n",
      "\n"
     ]
    }
   ],
   "source": [
    "# Severe Toxic comments - Original dataset\n",
    "\n",
    "pipeline_ST = Pipeline(stages = [vectorizer_bigram, idf, lr_ST])\n",
    "\n",
    "model_ST_all = pipeline_ST.fit(df_use)\n",
    "\n",
    "predictions_ST_all = model_ST_all.transform(df_test)\n",
    "\n",
    "predictions_ST_all = predictions_ST_all.select('id','comment_text','probability',\n",
    "                                         'rawPrediction','prediction')\n",
    "\n",
    "pred_ST = predictions_ST_all.join(df_eval, \"id\",'inner').select(predictions_ST_all.id,\n",
    "                                                predictions_ST_all.comment_text,\n",
    "                                                predictions_ST_all.probability,\n",
    "                                                predictions_ST_all.rawPrediction,\n",
    "                                                predictions_ST_all.prediction, \n",
    "                                                df_eval.severe_toxic_idx)\n",
    "\n",
    "pred_ST.cache()\n",
    "\n",
    "evaluator_ST = MulticlassClassificationEvaluator(labelCol=\"severe_toxic_idx\", \n",
    "                                              predictionCol=\"prediction\",\n",
    "                                              metricName=\"f1\",metricLabel=1.0)\n",
    "\n",
    "evaluator_ST_A = MulticlassClassificationEvaluator(labelCol=\"severe_toxic_idx\", \n",
    "                                              predictionCol=\"prediction\",\n",
    "                                              metricName=\"accuracy\",metricLabel=1.0)\n",
    "\n",
    "evaluator_ST_ROC = BinaryClassificationEvaluator(labelCol=\"severe_toxic_idx\", \n",
    "                                              rawPredictionCol=\"rawPrediction\",\n",
    "                                              metricName=\"areaUnderROC\")\n",
    "\n",
    "\n",
    "f1_ST_all = evaluator_ST.evaluate(pred_ST)\n",
    "print(\"Test set F1 score for Severe Toxic comments = \" + str(f1_ST_all))\n",
    "Acc_ST_all = evaluator_ST_A.evaluate(pred_ST)\n",
    "print(\"Test set Accuracy score for Severe Toxic comments = \" + str(Acc_ST_all))\n",
    "ROC_ST_all = evaluator_ST_ROC.evaluate(pred_ST)\n",
    "print(\"Test set Area under ROC for Severe Toxic comments = \" + str(ROC_ST_all))\n",
    "\n",
    "pred_ST.groupBy(F.col('prediction'), F.col('severe_toxic_idx')).count().show()"
   ]
  },
  {
   "cell_type": "markdown",
   "metadata": {},
   "source": [
    "#### Obscence Comments"
   ]
  },
  {
   "cell_type": "code",
   "execution_count": 23,
   "metadata": {},
   "outputs": [
    {
     "name": "stdout",
     "output_type": "stream",
     "text": [
      "Test set F1 score for Obscene comments = 0.9352688607235821\n",
      "Test set Accuracy score for Obscene comments = 0.935227734533746\n",
      "Test set Area under ROC for Obscene comments = 0.8378841464806401\n",
      "+----------+-----------+-----+\n",
      "|prediction|obscene_idx|count|\n",
      "+----------+-----------+-----+\n",
      "|       1.0|        1.0| 1624|\n",
      "|       0.0|        1.0| 2067|\n",
      "|       1.0|        0.0| 2077|\n",
      "|       0.0|        0.0|58210|\n",
      "+----------+-----------+-----+\n",
      "\n"
     ]
    }
   ],
   "source": [
    "# Obscene comments - Original dataset\n",
    "\n",
    "pipeline_Ob = Pipeline(stages = [vectorizer_bigram, idf, lr_Ob])\n",
    "\n",
    "model_Ob_all = pipeline_Ob.fit(df_use)\n",
    "\n",
    "predictions_Ob_all = model_Ob_all.transform(df_test)\n",
    "\n",
    "predictions_Ob_all = predictions_Ob_all.select('id','comment_text','probability',\n",
    "                                         'rawPrediction','prediction')\n",
    "\n",
    "pred_Ob = predictions_Ob_all.join(df_eval, \"id\",'inner').select(predictions_Ob_all.id,\n",
    "                                                predictions_Ob_all.comment_text,\n",
    "                                                predictions_Ob_all.probability,\n",
    "                                                predictions_Ob_all.rawPrediction,\n",
    "                                                predictions_Ob_all.prediction, \n",
    "                                                df_eval.obscene_idx)\n",
    "\n",
    "pred_Ob.cache()\n",
    "\n",
    "evaluator_Ob = MulticlassClassificationEvaluator(labelCol=\"obscene_idx\", \n",
    "                                              predictionCol=\"prediction\",\n",
    "                                              metricName=\"f1\",metricLabel=1.0)\n",
    "\n",
    "evaluator_Ob_A = MulticlassClassificationEvaluator(labelCol=\"obscene_idx\", \n",
    "                                              predictionCol=\"prediction\",\n",
    "                                              metricName=\"accuracy\",metricLabel=1.0)\n",
    "\n",
    "evaluator_Ob_ROC = BinaryClassificationEvaluator(labelCol=\"obscene_idx\", \n",
    "                                              rawPredictionCol=\"rawPrediction\",\n",
    "                                              metricName=\"areaUnderROC\")\n",
    "\n",
    "f1_Ob_all = evaluator_Ob.evaluate(pred_Ob)\n",
    "print(\"Test set F1 score for Obscene comments = \" + str(f1_Ob_all))\n",
    "Acc_Ob_all = evaluator_Ob_A.evaluate(pred_Ob)\n",
    "print(\"Test set Accuracy score for Obscene comments = \" + str(Acc_Ob_all))\n",
    "ROC_Ob_all = evaluator_Ob_ROC.evaluate(pred_Ob)\n",
    "print(\"Test set Area under ROC for Obscene comments = \" + str(ROC_Ob_all))\n",
    "\n",
    "pred_Ob.groupBy(F.col('prediction'), F.col('obscene_idx')).count().show()"
   ]
  },
  {
   "cell_type": "markdown",
   "metadata": {},
   "source": [
    "#### Threat Comments"
   ]
  },
  {
   "cell_type": "code",
   "execution_count": 24,
   "metadata": {},
   "outputs": [
    {
     "name": "stdout",
     "output_type": "stream",
     "text": [
      "Test set F1 score for Threat comments = 0.9937751936431536\n",
      "Test set Accuracy score for Threat comments = 0.9928725499390415\n",
      "Test set Area under ROC for Threat comments = 0.7506277482216983\n",
      "+----------+----------+-----+\n",
      "|prediction|threat_idx|count|\n",
      "+----------+----------+-----+\n",
      "|       1.0|       1.0|   55|\n",
      "|       0.0|       1.0|  156|\n",
      "|       1.0|       0.0|  300|\n",
      "|       0.0|       0.0|63467|\n",
      "+----------+----------+-----+\n",
      "\n"
     ]
    }
   ],
   "source": [
    "# Threat comments - Original dataset\n",
    "\n",
    "pipeline_Thr = Pipeline(stages = [vectorizer_bigram, idf, lr_Thr])\n",
    "\n",
    "model_Thr_all = pipeline_Thr.fit(df_use)\n",
    "\n",
    "predictions_Thr_all = model_Thr_all.transform(df_test)\n",
    "\n",
    "predictions_Thr_all = predictions_Thr_all.select('id','comment_text','probability',\n",
    "                                         'rawPrediction','prediction')\n",
    "\n",
    "pred_Thr = predictions_Thr_all.join(df_eval, \"id\",'inner').select(predictions_Thr_all.id,\n",
    "                                                predictions_Thr_all.comment_text,\n",
    "                                                predictions_Thr_all.probability,\n",
    "                                                predictions_Thr_all.rawPrediction,\n",
    "                                                predictions_Thr_all.prediction, \n",
    "                                                df_eval.threat_idx)\n",
    "\n",
    "pred_Thr.cache()\n",
    "\n",
    "evaluator_Thr = MulticlassClassificationEvaluator(labelCol=\"threat_idx\", \n",
    "                                              predictionCol=\"prediction\",\n",
    "                                              metricName=\"f1\",metricLabel=1.0)\n",
    "\n",
    "evaluator_Thr_A = MulticlassClassificationEvaluator(labelCol=\"threat_idx\", \n",
    "                                              predictionCol=\"prediction\",\n",
    "                                              metricName=\"accuracy\",metricLabel=1.0)\n",
    "\n",
    "evaluator_Thr_ROC = BinaryClassificationEvaluator(labelCol=\"threat_idx\", \n",
    "                                              rawPredictionCol=\"rawPrediction\",\n",
    "                                              metricName=\"areaUnderROC\")\n",
    "\n",
    "f1_Thr_all = evaluator_Thr.evaluate(pred_Thr)\n",
    "print(\"Test set F1 score for Threat comments = \" + str(f1_Thr_all))\n",
    "Acc_Thr_all = evaluator_Thr_A.evaluate(pred_Thr)\n",
    "print(\"Test set Accuracy score for Threat comments = \" + str(Acc_Thr_all))\n",
    "ROC_Thr_all = evaluator_Thr_ROC.evaluate(pred_Thr)\n",
    "print(\"Test set Area under ROC for Threat comments = \" + str(ROC_Thr_all))\n",
    "\n",
    "pred_Thr.groupBy(F.col('prediction'), F.col('threat_idx')).count().show()"
   ]
  },
  {
   "cell_type": "markdown",
   "metadata": {},
   "source": [
    "#### Insult Comments"
   ]
  },
  {
   "cell_type": "code",
   "execution_count": 25,
   "metadata": {},
   "outputs": [
    {
     "name": "stdout",
     "output_type": "stream",
     "text": [
      "Test set F1 score for Insult comments = 0.9346214859523864\n",
      "Test set Accuracy score for Insult comments = 0.9351808434149239\n",
      "Test set Area under ROC for Insult comments = 0.8062091662974974\n",
      "+----------+----------+-----+\n",
      "|prediction|insult_idx|count|\n",
      "+----------+----------+-----+\n",
      "|       1.0|       1.0| 1292|\n",
      "|       0.0|       1.0| 2135|\n",
      "|       1.0|       0.0| 2012|\n",
      "|       0.0|       0.0|58539|\n",
      "+----------+----------+-----+\n",
      "\n"
     ]
    }
   ],
   "source": [
    "# Insult comments - Original dataset\n",
    "\n",
    "pipeline_Ins = Pipeline(stages = [vectorizer_bigram, idf, lr_Ins])\n",
    "\n",
    "model_Ins_all = pipeline_Ins.fit(df_use)\n",
    "\n",
    "predictions_Ins_all = model_Ins_all.transform(df_test)\n",
    "\n",
    "predictions_Ins_all = predictions_Ins_all.select('id','comment_text','probability',\n",
    "                                         'rawPrediction','prediction')\n",
    "\n",
    "pred_Ins = predictions_Ins_all.join(df_eval, \"id\",'inner').select(predictions_Ins_all.id,\n",
    "                                                predictions_Ins_all.comment_text,\n",
    "                                                predictions_Ins_all.probability,\n",
    "                                                predictions_Ins_all.rawPrediction,\n",
    "                                                predictions_Ins_all.prediction, \n",
    "                                                df_eval.insult_idx)\n",
    "\n",
    "pred_Ins.cache()\n",
    "\n",
    "evaluator_Ins = MulticlassClassificationEvaluator(labelCol=\"insult_idx\", \n",
    "                                              predictionCol=\"prediction\",\n",
    "                                              metricName=\"f1\",metricLabel=1)\n",
    "\n",
    "evaluator_Ins_A = MulticlassClassificationEvaluator(labelCol=\"insult_idx\", \n",
    "                                              predictionCol=\"prediction\",\n",
    "                                              metricName=\"accuracy\",metricLabel=1)\n",
    "\n",
    "evaluator_Ins_ROC = BinaryClassificationEvaluator(labelCol=\"insult_idx\", \n",
    "                                              rawPredictionCol=\"rawPrediction\",\n",
    "                                              metricName=\"areaUnderROC\")\n",
    "\n",
    "f1_Ins_all = evaluator_Ins.evaluate(pred_Ins)\n",
    "print(\"Test set F1 score for Insult comments = \" + str(f1_Ins_all))\n",
    "Acc_Ins_all = evaluator_Ins_A.evaluate(pred_Ins)\n",
    "print(\"Test set Accuracy score for Insult comments = \" + str(Acc_Ins_all))\n",
    "ROC_Ins_all = evaluator_Ins_ROC.evaluate(pred_Ins)\n",
    "print(\"Test set Area under ROC for Insult comments = \" + str(ROC_Ins_all))\n",
    "\n",
    "pred_Ins.groupBy(F.col('prediction'), F.col('insult_idx')).count().show()"
   ]
  },
  {
   "cell_type": "markdown",
   "metadata": {},
   "source": [
    "#### Identity Hate Comments"
   ]
  },
  {
   "cell_type": "code",
   "execution_count": 26,
   "metadata": {},
   "outputs": [
    {
     "name": "stdout",
     "output_type": "stream",
     "text": [
      "Test set F1 score for Identity Hate comments = 0.9815263681684815\n",
      "Test set Accuracy score for Identity Hate comments = 0.9811497702335178\n",
      "Test set Area under ROC for Identity Hate comments = 0.7460247099192738\n",
      "+----------+-----------------+-----+\n",
      "|prediction|identity_hate_idx|count|\n",
      "+----------+-----------------+-----+\n",
      "|       1.0|              1.0|  139|\n",
      "|       0.0|              1.0|  573|\n",
      "|       1.0|              0.0|  633|\n",
      "|       0.0|              0.0|62633|\n",
      "+----------+-----------------+-----+\n",
      "\n"
     ]
    }
   ],
   "source": [
    "# Identity Hate comments - Original dataset\n",
    "\n",
    "pipeline_IH = Pipeline(stages = [vectorizer_bigram, idf, lr_IH])\n",
    "\n",
    "model_IH_all = pipeline_IH.fit(df_use)\n",
    "\n",
    "predictions_IH_all = model_IH_all.transform(df_test)\n",
    "\n",
    "predictions_IH_all = predictions_IH_all.select('id','comment_text','probability',\n",
    "                                         'rawPrediction','prediction')\n",
    "\n",
    "pred_IH = predictions_IH_all.join(df_eval, \"id\",'inner').select(predictions_IH_all.id,\n",
    "                                                predictions_IH_all.comment_text,\n",
    "                                                predictions_IH_all.probability,\n",
    "                                                predictions_IH_all.rawPrediction,\n",
    "                                                predictions_IH_all.prediction, \n",
    "                                                df_eval.identity_hate_idx)\n",
    "\n",
    "pred_IH.cache()\n",
    "\n",
    "evaluator_IH = MulticlassClassificationEvaluator(labelCol=\"identity_hate_idx\", \n",
    "                                              predictionCol=\"prediction\",\n",
    "                                              metricName=\"f1\",metricLabel=1)\n",
    "\n",
    "evaluator_IH_A = MulticlassClassificationEvaluator(labelCol=\"identity_hate_idx\", \n",
    "                                              predictionCol=\"prediction\",\n",
    "                                              metricName=\"accuracy\",metricLabel=1)\n",
    "\n",
    "evaluator_IH_ROC = BinaryClassificationEvaluator(labelCol=\"identity_hate_idx\", \n",
    "                                              rawPredictionCol=\"rawPrediction\",\n",
    "                                              metricName=\"areaUnderROC\")\n",
    "\n",
    "f1_IH_all = evaluator_IH.evaluate(pred_IH)\n",
    "print(\"Test set F1 score for Identity Hate comments = \" + str(f1_IH_all))\n",
    "Acc_IH_all = evaluator_IH_A.evaluate(pred_IH)\n",
    "print(\"Test set Accuracy score for Identity Hate comments = \" + str(Acc_IH_all ))\n",
    "ROC_IH_all = evaluator_IH_ROC.evaluate(pred_IH)\n",
    "print(\"Test set Area under ROC for Identity Hate comments = \" + str(ROC_IH_all))\n",
    "\n",
    "pred_IH.groupBy(F.col('prediction'), F.col('identity_hate_idx')).count().show()"
   ]
  },
  {
   "cell_type": "markdown",
   "metadata": {},
   "source": [
    "## Training on resampled datasets"
   ]
  },
  {
   "cell_type": "markdown",
   "metadata": {},
   "source": [
    "### Logistic Regression - with Bigrams"
   ]
  },
  {
   "cell_type": "markdown",
   "metadata": {},
   "source": [
    "#### Toxic Comments"
   ]
  },
  {
   "cell_type": "code",
   "execution_count": 27,
   "metadata": {},
   "outputs": [
    {
     "name": "stdout",
     "output_type": "stream",
     "text": [
      "Test set F1 score for Toxic comments = 0.7580819511091986\n",
      "Test set Accuracy score for Toxic comments = 0.6955672262340179\n",
      "Test set Area under ROC for Toxic comments = 0.8107832243975337\n",
      "+----------+---------+-----+\n",
      "|prediction|toxic_idx|count|\n",
      "+----------+---------+-----+\n",
      "|       1.0|      1.0| 4896|\n",
      "|       0.0|      1.0| 1194|\n",
      "|       1.0|      0.0|18283|\n",
      "|       0.0|      0.0|39605|\n",
      "+----------+---------+-----+\n",
      "\n"
     ]
    }
   ],
   "source": [
    "# Toxic comments - Resampled dataset (with Bigrams)\n",
    "\n",
    "pipeline_Tox = Pipeline(stages = [vectorizer_bigram, idf, lr_Tox])\n",
    "\n",
    "model_Tox = pipeline_Tox.fit(df_Tox)\n",
    "\n",
    "predictions_Tox = model_Tox.transform(df_test)\n",
    "\n",
    "predictions_Tox = predictions_Tox.select('id','comment_text','probability',\n",
    "                                         'rawPrediction','prediction')\n",
    "\n",
    "pred_final_Tox = predictions_Tox.join(df_eval, \"id\",'inner')\\\n",
    "                                                .select(predictions_Tox.id,\n",
    "                                                predictions_Tox.comment_text,\n",
    "                                                predictions_Tox.probability,\n",
    "                                                predictions_Tox.rawPrediction,\n",
    "                                                predictions_Tox.prediction, \n",
    "                                                df_eval.toxic_idx)\n",
    "pred_final_Tox.cache()\n",
    "\n",
    "\n",
    "evaluator_Tox = MulticlassClassificationEvaluator(labelCol=\"toxic_idx\", \n",
    "                                              predictionCol=\"prediction\",\n",
    "                                              metricName=\"f1\",metricLabel=1.0)\n",
    "\n",
    "evaluator_Tox_A = MulticlassClassificationEvaluator(labelCol=\"toxic_idx\", \n",
    "                                              predictionCol=\"prediction\",\n",
    "                                              metricName=\"accuracy\",metricLabel=1.0)\n",
    "\n",
    "evaluator_Tox_ROC = BinaryClassificationEvaluator(labelCol=\"toxic_idx\", \n",
    "                                              rawPredictionCol=\"rawPrediction\",\n",
    "                                              metricName=\"areaUnderROC\")\n",
    "\n",
    "f1_Tox = evaluator_Tox.evaluate(pred_final_Tox)\n",
    "print(\"Test set F1 score for Toxic comments = \" + str(f1_Tox))\n",
    "\n",
    "Acc_Tox = evaluator_Tox_A.evaluate(pred_final_Tox)\n",
    "print(\"Test set Accuracy score for Toxic comments = \" + str(Acc_Tox))\n",
    "\n",
    "ROC_Tox = evaluator_Tox_ROC.evaluate(pred_final_Tox)\n",
    "print(\"Test set Area under ROC for Toxic comments = \" + str(ROC_Tox))\n",
    "\n",
    "pred_final_Tox.groupBy(F.col('prediction'), F.col('toxic_idx')).count().show()"
   ]
  },
  {
   "cell_type": "markdown",
   "metadata": {},
   "source": [
    "#### Severe Toxic Comments"
   ]
  },
  {
   "cell_type": "code",
   "execution_count": 28,
   "metadata": {},
   "outputs": [
    {
     "name": "stdout",
     "output_type": "stream",
     "text": [
      "Test set F1 score for Severe Toxic comments = 0.9192709952032971\n",
      "Test set Accuracy score for Severe Toxic comments = 0.8597642939760543\n",
      "Test set Area under ROC for Severe Toxic comments = 0.9010828418662037\n",
      "+----------+----------------+-----+\n",
      "|prediction|severe_toxic_idx|count|\n",
      "+----------+----------------+-----+\n",
      "|       1.0|             1.0|  298|\n",
      "|       0.0|             1.0|   69|\n",
      "|       1.0|             0.0| 8903|\n",
      "|       0.0|             0.0|54708|\n",
      "+----------+----------------+-----+\n",
      "\n"
     ]
    }
   ],
   "source": [
    "# Severe Toxic comments - Resampled dataset (with Bigrams)\n",
    "\n",
    "pipeline_ST = Pipeline(stages = [vectorizer_bigram, idf, lr_ST])\n",
    "\n",
    "model_ST = pipeline_ST.fit(df_ST)\n",
    "\n",
    "predictions_ST = model_ST.transform(df_test)\n",
    "\n",
    "predictions_ST = predictions_ST.select('id','comment_text','probability',\n",
    "                                         'rawPrediction','prediction')\n",
    "\n",
    "pred_final_ST = predictions_ST.join(df_eval, \"id\",'inner').select(predictions_ST.id,\n",
    "                                                predictions_ST.comment_text,\n",
    "                                                predictions_ST.probability,\n",
    "                                                predictions_ST.rawPrediction,\n",
    "                                                predictions_ST.prediction, \n",
    "                                                df_eval.severe_toxic_idx)\n",
    "\n",
    "pred_final_ST.cache()\n",
    "\n",
    "evaluator_ST = MulticlassClassificationEvaluator(labelCol=\"severe_toxic_idx\", \n",
    "                                              predictionCol=\"prediction\",\n",
    "                                              metricName=\"f1\",metricLabel=1.0)\n",
    "\n",
    "evaluator_ST_A = MulticlassClassificationEvaluator(labelCol=\"severe_toxic_idx\", \n",
    "                                              predictionCol=\"prediction\",\n",
    "                                              metricName=\"accuracy\",metricLabel=1.0)\n",
    "\n",
    "evaluator_ST_ROC = BinaryClassificationEvaluator(labelCol=\"severe_toxic_idx\", \n",
    "                                              rawPredictionCol=\"rawPrediction\",\n",
    "                                              metricName=\"areaUnderROC\")\n",
    "\n",
    "f1_ST = evaluator_ST.evaluate(pred_final_ST)\n",
    "print(\"Test set F1 score for Severe Toxic comments = \" + str(f1_ST))\n",
    "Acc_ST = evaluator_ST_A.evaluate(pred_final_ST)\n",
    "print(\"Test set Accuracy score for Severe Toxic comments = \" + str(Acc_ST))\n",
    "ROC_ST = evaluator_ST_ROC.evaluate(pred_final_ST)\n",
    "print(\"Test set Area under ROC for Severe Toxic comments = \" + str(ROC_ST))\n",
    "\n",
    "pred_final_ST.groupBy(F.col('prediction'), F.col('severe_toxic_idx')).count().show()"
   ]
  },
  {
   "cell_type": "markdown",
   "metadata": {},
   "source": [
    "#### Obscene Comments"
   ]
  },
  {
   "cell_type": "code",
   "execution_count": 29,
   "metadata": {},
   "outputs": [
    {
     "name": "stdout",
     "output_type": "stream",
     "text": [
      "Test set F1 score for Obscene comments = 0.8649950998365812\n",
      "Test set Accuracy score for Obscene comments = 0.8239551095689143\n",
      "Test set Area under ROC for Obscene comments = 0.8373617154325534\n",
      "+----------+-----------+-----+\n",
      "|prediction|obscene_idx|count|\n",
      "+----------+-----------+-----+\n",
      "|       1.0|        1.0| 2491|\n",
      "|       0.0|        1.0| 1200|\n",
      "|       1.0|        0.0|10063|\n",
      "|       0.0|        0.0|50224|\n",
      "+----------+-----------+-----+\n",
      "\n"
     ]
    }
   ],
   "source": [
    "# Obscene comments - Resampled dataset (with Bigrams)\n",
    "\n",
    "pipeline_Ob = Pipeline(stages = [vectorizer_bigram, idf, lr_Ob])\n",
    "\n",
    "model_Ob = pipeline_Ob.fit(df_Ob)\n",
    "\n",
    "predictions_Ob = model_Ob.transform(df_test)\n",
    "\n",
    "predictions_Ob = predictions_Ob.select('id','comment_text','probability',\n",
    "                                         'rawPrediction','prediction')\n",
    "\n",
    "pred_final_Ob = predictions_Ob.join(df_eval, \"id\",'inner').select(predictions_Ob.id,\n",
    "                                                predictions_Ob.comment_text,\n",
    "                                                predictions_Ob.probability,\n",
    "                                                predictions_Ob.rawPrediction,\n",
    "                                                predictions_Ob.prediction, \n",
    "                                                df_eval.obscene_idx)\n",
    "\n",
    "pred_final_Ob.cache()\n",
    "\n",
    "evaluator_Ob = MulticlassClassificationEvaluator(labelCol=\"obscene_idx\", \n",
    "                                              predictionCol=\"prediction\",\n",
    "                                              metricName=\"f1\",metricLabel=1.0)\n",
    "\n",
    "evaluator_Ob_A = MulticlassClassificationEvaluator(labelCol=\"obscene_idx\", \n",
    "                                              predictionCol=\"prediction\",\n",
    "                                              metricName=\"accuracy\",metricLabel=1.0)\n",
    "\n",
    "evaluator_Ob_ROC = BinaryClassificationEvaluator(labelCol=\"obscene_idx\", \n",
    "                                              rawPredictionCol=\"rawPrediction\",\n",
    "                                              metricName=\"areaUnderROC\")\n",
    "\n",
    "f1_Ob = evaluator_Ob.evaluate(pred_final_Ob)\n",
    "print(\"Test set F1 score for Obscene comments = \" + str(f1_Ob))\n",
    "Acc_Ob = evaluator_Ob_A.evaluate(pred_final_Ob)\n",
    "print(\"Test set Accuracy score for Obscene comments = \" + str(Acc_Ob))\n",
    "ROC_Ob = evaluator_Ob_ROC.evaluate(pred_final_Ob)\n",
    "print(\"Test set Area under ROC for Obscene comments = \" + str(ROC_Ob))\n",
    "\n",
    "pred_final_Ob.groupBy(F.col('prediction'), F.col('obscene_idx')).count().show()"
   ]
  },
  {
   "cell_type": "markdown",
   "metadata": {},
   "source": [
    "#### Threat Comments"
   ]
  },
  {
   "cell_type": "code",
   "execution_count": 30,
   "metadata": {},
   "outputs": [
    {
     "name": "stdout",
     "output_type": "stream",
     "text": [
      "Test set F1 score for Threat comments = 0.9459114706376918\n",
      "Test set Accuracy score for Threat comments = 0.9029822751570853\n",
      "Test set Area under ROC for Threat comments = 0.867378177825566\n",
      "+----------+----------+-----+\n",
      "|prediction|threat_idx|count|\n",
      "+----------+----------+-----+\n",
      "|       1.0|       1.0|  126|\n",
      "|       0.0|       1.0|   85|\n",
      "|       1.0|       0.0| 6122|\n",
      "|       0.0|       0.0|57645|\n",
      "+----------+----------+-----+\n",
      "\n"
     ]
    }
   ],
   "source": [
    "# Threat comments - Resampled dataset (with Bigrams)\n",
    "\n",
    "pipeline_Thr = Pipeline(stages = [vectorizer_bigram, idf, lr_Thr])\n",
    "\n",
    "model_Thr = pipeline_Thr.fit(df_Thr)\n",
    "\n",
    "predictions_Thr = model_Thr.transform(df_test)\n",
    "\n",
    "predictions_Thr = predictions_Thr.select('id','comment_text','probability',\n",
    "                                         'rawPrediction','prediction')\n",
    "\n",
    "pred_final_Thr = predictions_Thr.join(df_eval, \"id\",'inner').select(predictions_Thr.id,\n",
    "                                                predictions_Thr.comment_text,\n",
    "                                                predictions_Thr.probability,\n",
    "                                                predictions_Thr.rawPrediction,\n",
    "                                                predictions_Thr.prediction, \n",
    "                                                df_eval.threat_idx)\n",
    "\n",
    "pred_final_Thr.cache()\n",
    "\n",
    "evaluator_Thr = MulticlassClassificationEvaluator(labelCol=\"threat_idx\", \n",
    "                                              predictionCol=\"prediction\",\n",
    "                                              metricName=\"f1\",metricLabel=1.0)\n",
    "\n",
    "evaluator_Thr_A = MulticlassClassificationEvaluator(labelCol=\"threat_idx\", \n",
    "                                              predictionCol=\"prediction\",\n",
    "                                              metricName=\"accuracy\",metricLabel=1.0)\n",
    "\n",
    "evaluator_Thr_ROC = BinaryClassificationEvaluator(labelCol=\"threat_idx\", \n",
    "                                              rawPredictionCol=\"rawPrediction\",\n",
    "                                              metricName=\"areaUnderROC\")\n",
    "\n",
    "f1_Thr = evaluator_Thr.evaluate(pred_final_Thr)\n",
    "print(\"Test set F1 score for Threat comments = \" + str(f1_Thr))\n",
    "Acc_Thr = evaluator_Thr_A.evaluate(pred_final_Thr)\n",
    "print(\"Test set Accuracy score for Threat comments = \" + str(Acc_Thr))\n",
    "ROC_Thr = evaluator_Thr_ROC.evaluate(pred_final_Thr)\n",
    "print(\"Test set Area under ROC for Threat comments = \" + str(ROC_Thr))\n",
    "\n",
    "pred_final_Thr.groupBy(F.col('prediction'), F.col('threat_idx')).count().show()"
   ]
  },
  {
   "cell_type": "markdown",
   "metadata": {},
   "source": [
    "#### Insult Comments "
   ]
  },
  {
   "cell_type": "code",
   "execution_count": 31,
   "metadata": {},
   "outputs": [
    {
     "name": "stdout",
     "output_type": "stream",
     "text": [
      "Test set F1 score for Insult comments = 0.7667775203601731\n",
      "Test set Accuracy score for Insult comments = 0.6787333145768858\n",
      "Test set Area under ROC for Insult comments = 0.8306367437092624\n",
      "+----------+----------+-----+\n",
      "|prediction|insult_idx|count|\n",
      "+----------+----------+-----+\n",
      "|       1.0|       1.0| 2871|\n",
      "|       0.0|       1.0|  556|\n",
      "|       1.0|       0.0|19998|\n",
      "|       0.0|       0.0|40553|\n",
      "+----------+----------+-----+\n",
      "\n"
     ]
    }
   ],
   "source": [
    "# Insult comments - Resampled dataset (with Bigrams)\n",
    "\n",
    "pipeline_Ins = Pipeline(stages = [vectorizer_bigram, idf, lr_Ins])\n",
    "\n",
    "model_Ins = pipeline_Ins.fit(df_Ins)\n",
    "\n",
    "predictions_Ins = model_Ins.transform(df_test)\n",
    "\n",
    "predictions_Ins = predictions_Ins.select('id','comment_text','probability',\n",
    "                                         'rawPrediction','prediction')\n",
    "\n",
    "pred_final_Ins = predictions_Ins.join(df_eval, \"id\",'inner').select(predictions_Ins.id,\n",
    "                                                predictions_Ins.comment_text,\n",
    "                                                predictions_Ins.probability,\n",
    "                                                predictions_Ins.rawPrediction,\n",
    "                                                predictions_Ins.prediction, \n",
    "                                                df_eval.insult_idx)\n",
    "\n",
    "pred_final_Ins.cache()\n",
    "\n",
    "evaluator_Ins = MulticlassClassificationEvaluator(labelCol=\"insult_idx\", \n",
    "                                              predictionCol=\"prediction\",\n",
    "                                              metricName=\"f1\",metricLabel=1.0)\n",
    "\n",
    "evaluator_Ins_A = MulticlassClassificationEvaluator(labelCol=\"insult_idx\", \n",
    "                                              predictionCol=\"prediction\",\n",
    "                                              metricName=\"accuracy\",metricLabel=1.0)\n",
    "\n",
    "evaluator_Ins_ROC = BinaryClassificationEvaluator(labelCol=\"insult_idx\", \n",
    "                                              rawPredictionCol=\"rawPrediction\",\n",
    "                                              metricName=\"areaUnderROC\")\n",
    "\n",
    "f1_Ins = evaluator_Ins.evaluate(pred_final_Ins)\n",
    "print(\"Test set F1 score for Insult comments = \" + str(f1_Ins))\n",
    "Acc_Ins = evaluator_Ins_A.evaluate(pred_final_Ins)\n",
    "print(\"Test set Accuracy score for Insult comments = \" + str(Acc_Ins))\n",
    "ROC_Ins = evaluator_Ins_ROC.evaluate(pred_final_Ins)\n",
    "print(\"Test set Area under ROC for Insult comments = \" + str(ROC_Ins))\n",
    "\n",
    "pred_final_Ins.groupBy(F.col('prediction'), F.col('insult_idx')).count().show()"
   ]
  },
  {
   "cell_type": "markdown",
   "metadata": {},
   "source": [
    "#### Identity Hate Comments "
   ]
  },
  {
   "cell_type": "code",
   "execution_count": 32,
   "metadata": {},
   "outputs": [
    {
     "name": "stdout",
     "output_type": "stream",
     "text": [
      "Test set F1 score for Identity Hate comments = 0.9010520068672321\n",
      "Test set Accuracy score for Identity Hate comments = 0.8365375597861765\n",
      "Test set Area under ROC for Identity Hate comments = 0.8278777216546355\n",
      "+----------+-----------------+-----+\n",
      "|prediction|identity_hate_idx|count|\n",
      "+----------+-----------------+-----+\n",
      "|       1.0|              1.0|  428|\n",
      "|       0.0|              1.0|  284|\n",
      "|       1.0|              0.0|10174|\n",
      "|       0.0|              0.0|53092|\n",
      "+----------+-----------------+-----+\n",
      "\n"
     ]
    }
   ],
   "source": [
    "# Identity Hate comments - Resampled dataset (with Bigrams)\n",
    "\n",
    "pipeline_IH = Pipeline(stages = [vectorizer_bigram, idf, lr_IH])\n",
    "\n",
    "model_IH = pipeline_IH.fit(df_IH)\n",
    "\n",
    "predictions_IH = model_IH.transform(df_test)\n",
    "\n",
    "predictions_IH = predictions_IH.select('id','comment_text','probability',\n",
    "                                         'rawPrediction','prediction')\n",
    "\n",
    "pred_final_IH = predictions_IH.join(df_eval, \"id\",'inner').select(predictions_IH.id,\n",
    "                                                predictions_IH.comment_text,\n",
    "                                                predictions_IH.probability,\n",
    "                                                predictions_IH.rawPrediction,\n",
    "                                                predictions_IH.prediction, \n",
    "                                                df_eval.identity_hate_idx)\n",
    "\n",
    "pred_final_IH.cache()\n",
    "\n",
    "evaluator_IH = MulticlassClassificationEvaluator(labelCol=\"identity_hate_idx\", \n",
    "                                              predictionCol=\"prediction\",\n",
    "                                              metricName=\"f1\",metricLabel=1.0)\n",
    "\n",
    "evaluator_IH_A = MulticlassClassificationEvaluator(labelCol=\"identity_hate_idx\", \n",
    "                                              predictionCol=\"prediction\",\n",
    "                                              metricName=\"accuracy\",metricLabel=1.0)\n",
    "\n",
    "evaluator_IH_ROC = BinaryClassificationEvaluator(labelCol=\"identity_hate_idx\", \n",
    "                                              rawPredictionCol=\"rawPrediction\",\n",
    "                                              metricName=\"areaUnderROC\")\n",
    "\n",
    "f1_IH = evaluator_IH.evaluate(pred_final_IH)\n",
    "print(\"Test set F1 score for Identity Hate comments = \" + str(f1_IH))\n",
    "Acc_IH = evaluator_IH_A.evaluate(pred_final_IH)\n",
    "print(\"Test set Accuracy score for Identity Hate comments = \" + str(Acc_IH))\n",
    "ROC_IH = evaluator_IH_ROC.evaluate(pred_final_IH)\n",
    "print(\"Test set Area under ROC for Identity Hate comments = \" + str(ROC_IH))\n",
    "\n",
    "pred_final_IH.groupBy(F.col('prediction'), F.col('identity_hate_idx')).count().show()"
   ]
  },
  {
   "cell_type": "markdown",
   "metadata": {},
   "source": [
    "### Logistic Regression - without Bigrams"
   ]
  },
  {
   "cell_type": "markdown",
   "metadata": {},
   "source": [
    "#### Toxic Comments"
   ]
  },
  {
   "cell_type": "code",
   "execution_count": 33,
   "metadata": {},
   "outputs": [
    {
     "name": "stdout",
     "output_type": "stream",
     "text": [
      "Test set F1 score for Toxic comments = 0.7567866645804956\n",
      "Test set Accuracy score for Toxic comments = 0.6939729281940668\n",
      "Test set Area under ROC for Toxic comments = 0.7827355919612845\n",
      "+----------+---------+-----+\n",
      "|prediction|toxic_idx|count|\n",
      "+----------+---------+-----+\n",
      "|       1.0|      1.0| 4806|\n",
      "|       0.0|      1.0| 1284|\n",
      "|       1.0|      0.0|18295|\n",
      "|       0.0|      0.0|39593|\n",
      "+----------+---------+-----+\n",
      "\n"
     ]
    }
   ],
   "source": [
    "# Toxic comments - Resampled dataset (w/o Bigrams)\n",
    "pipeline_Tox1 = Pipeline(stages = [vectorizer_unigram, idf, lr_Tox])\n",
    "\n",
    "model_Tox1 = pipeline_Tox1.fit(df_Tox)\n",
    "\n",
    "predictions_Tox1 = model_Tox1.transform(df_test)\n",
    "\n",
    "predictions_Tox1 = predictions_Tox1.select('id','comment_text','probability',\n",
    "                                         'rawPrediction','prediction')\n",
    "\n",
    "pred_final_Tox1 = predictions_Tox1.join(df_eval, \"id\",'inner')\\\n",
    "                                                .select(predictions_Tox1.id,\n",
    "                                                predictions_Tox1.comment_text,\n",
    "                                                predictions_Tox1.probability,\n",
    "                                                predictions_Tox1.rawPrediction,\n",
    "                                                predictions_Tox1.prediction, \n",
    "                                                df_eval.toxic_idx)\n",
    "\n",
    "pred_final_Tox1.cache()\n",
    "\n",
    "evaluator_Tox = MulticlassClassificationEvaluator(labelCol=\"toxic_idx\", \n",
    "                                              predictionCol=\"prediction\",\n",
    "                                              metricName=\"f1\",metricLabel=1.0)\n",
    "\n",
    "evaluator_Tox_A = MulticlassClassificationEvaluator(labelCol=\"toxic_idx\", \n",
    "                                              predictionCol=\"prediction\",\n",
    "                                              metricName=\"accuracy\",metricLabel=1.0)\n",
    "\n",
    "evaluator_Tox_ROC = BinaryClassificationEvaluator(labelCol=\"toxic_idx\", \n",
    "                                              rawPredictionCol=\"rawPrediction\",\n",
    "                                              metricName=\"areaUnderROC\")\n",
    "\n",
    "f1_Tox1 = evaluator_Tox.evaluate(pred_final_Tox1)\n",
    "print(\"Test set F1 score for Toxic comments = \" + str(f1_Tox1))\n",
    "\n",
    "Acc_Tox1 = evaluator_Tox_A.evaluate(pred_final_Tox1)\n",
    "print(\"Test set Accuracy score for Toxic comments = \" + str(Acc_Tox1))\n",
    "\n",
    "ROC_Tox1 = evaluator_Tox_ROC.evaluate(pred_final_Tox1)\n",
    "print(\"Test set Area under ROC for Toxic comments = \" + str(ROC_Tox1))\n",
    "\n",
    "pred_final_Tox1.groupBy(F.col('prediction'),F.col('toxic_idx')).count().show()"
   ]
  },
  {
   "cell_type": "markdown",
   "metadata": {},
   "source": [
    "#### Severe Toxic Comments"
   ]
  },
  {
   "cell_type": "code",
   "execution_count": 34,
   "metadata": {},
   "outputs": [
    {
     "name": "stdout",
     "output_type": "stream",
     "text": [
      "Test set F1 score for Severe Toxic comments = 0.8085184510530671\n",
      "Test set Accuracy score for Severe Toxic comments = 0.6864859795554722\n",
      "Test set Area under ROC for Severe Toxic comments = 0.8470021957798091\n",
      "+----------+----------------+-----+\n",
      "|prediction|severe_toxic_idx|count|\n",
      "+----------+----------------+-----+\n",
      "|       1.0|             1.0|  316|\n",
      "|       0.0|             1.0|   51|\n",
      "|       1.0|             0.0|20007|\n",
      "|       0.0|             0.0|43604|\n",
      "+----------+----------------+-----+\n",
      "\n"
     ]
    }
   ],
   "source": [
    "# Severe Toxic comments - Resampled dataset (w/o Bigrams)\n",
    "\n",
    "pipeline_ST1 = Pipeline(stages = [vectorizer_unigram, idf, lr_ST])\n",
    "\n",
    "model_ST1 = pipeline_ST1.fit(df_ST)\n",
    "\n",
    "predictions_ST1 = model_ST1.transform(df_test)\n",
    "\n",
    "predictions_ST1 = predictions_ST1.select('id','comment_text','probability',\n",
    "                                         'rawPrediction','prediction')\n",
    "\n",
    "pred_final_ST1 = predictions_ST1.join(df_eval, \"id\",'inner').select(predictions_ST1.id,\n",
    "                                                predictions_ST1.comment_text,\n",
    "                                                predictions_ST1.probability,\n",
    "                                                predictions_ST1.rawPrediction,\n",
    "                                                predictions_ST1.prediction, \n",
    "                                                df_eval.severe_toxic_idx)\n",
    "\n",
    "pred_final_ST1.cache()\n",
    "\n",
    "evaluator_ST = MulticlassClassificationEvaluator(labelCol=\"severe_toxic_idx\", \n",
    "                                              predictionCol=\"prediction\",\n",
    "                                              metricName=\"f1\",metricLabel=1.0)\n",
    "\n",
    "evaluator_ST_A = MulticlassClassificationEvaluator(labelCol=\"severe_toxic_idx\", \n",
    "                                              predictionCol=\"prediction\",\n",
    "                                              metricName=\"accuracy\",metricLabel=1.0)\n",
    "\n",
    "evaluator_ST_ROC = BinaryClassificationEvaluator(labelCol=\"severe_toxic_idx\", \n",
    "                                              rawPredictionCol=\"rawPrediction\",\n",
    "                                              metricName=\"areaUnderROC\")\n",
    "\n",
    "f1_ST1 = evaluator_ST.evaluate(pred_final_ST1)\n",
    "print(\"Test set F1 score for Severe Toxic comments = \" + str(f1_ST1))\n",
    "Acc_ST1 = evaluator_ST_A.evaluate(pred_final_ST1)\n",
    "print(\"Test set Accuracy score for Severe Toxic comments = \" + str(Acc_ST1))\n",
    "ROC_ST1 = evaluator_ST_ROC.evaluate(pred_final_ST1)\n",
    "print(\"Test set Area under ROC for Severe Toxic comments = \" + str(ROC_ST1))\n",
    "\n",
    "pred_final_ST1.groupBy(F.col('prediction'), F.col('severe_toxic_idx')).count().show()"
   ]
  },
  {
   "cell_type": "markdown",
   "metadata": {},
   "source": [
    "#### Obscene Comments"
   ]
  },
  {
   "cell_type": "code",
   "execution_count": 35,
   "metadata": {},
   "outputs": [
    {
     "name": "stdout",
     "output_type": "stream",
     "text": [
      "Test set F1 score for Obscene comments = 0.7712534762266305\n",
      "Test set Accuracy score for Obscene comments = 0.68800212573072\n",
      "Test set Area under ROC for Obscene comments = 0.7705109529884102\n",
      "+----------+-----------+-----+\n",
      "|prediction|obscene_idx|count|\n",
      "+----------+-----------+-----+\n",
      "|       1.0|        1.0| 2791|\n",
      "|       0.0|        1.0|  900|\n",
      "|       1.0|        0.0|19061|\n",
      "|       0.0|        0.0|41226|\n",
      "+----------+-----------+-----+\n",
      "\n"
     ]
    }
   ],
   "source": [
    "# Obscene comments - Resampled dataset (w/o Bigrams)\n",
    "\n",
    "pipeline_Ob1 = Pipeline(stages = [vectorizer_unigram, idf, lr_Ob])\n",
    "\n",
    "model_Ob1 = pipeline_Ob1.fit(df_Ob)\n",
    "\n",
    "predictions_Ob1 = model_Ob1.transform(df_test)\n",
    "\n",
    "predictions_Ob1 = predictions_Ob1.select('id','comment_text','probability',\n",
    "                                         'rawPrediction','prediction')\n",
    "\n",
    "pred_final_Ob1 = predictions_Ob1.join(df_eval, \"id\",'inner').select(predictions_Ob1.id,\n",
    "                                                predictions_Ob1.comment_text,\n",
    "                                                predictions_Ob1.probability,\n",
    "                                                predictions_Ob1.rawPrediction,\n",
    "                                                predictions_Ob1.prediction, \n",
    "                                                df_eval.obscene_idx)\n",
    "\n",
    "pred_final_Ob1.cache()\n",
    "\n",
    "evaluator_Ob = MulticlassClassificationEvaluator(labelCol=\"obscene_idx\", \n",
    "                                              predictionCol=\"prediction\",\n",
    "                                              metricName=\"f1\",metricLabel=1.0)\n",
    "\n",
    "evaluator_Ob_A = MulticlassClassificationEvaluator(labelCol=\"obscene_idx\", \n",
    "                                              predictionCol=\"prediction\",\n",
    "                                              metricName=\"accuracy\",metricLabel=1.0)\n",
    "\n",
    "evaluator_Ob_ROC = BinaryClassificationEvaluator(labelCol=\"obscene_idx\", \n",
    "                                              rawPredictionCol=\"rawPrediction\",\n",
    "                                              metricName=\"areaUnderROC\")\n",
    "\n",
    "f1_Ob1 = evaluator_Ob.evaluate(pred_final_Ob1)\n",
    "print(\"Test set F1 score for Obscene comments = \" + str(f1_Ob1))\n",
    "Acc_Ob1 = evaluator_Ob_A.evaluate(pred_final_Ob1)\n",
    "print(\"Test set Accuracy score for Obscene comments = \" + str(Acc_Ob1))\n",
    "ROC_Ob1 = evaluator_Ob_ROC.evaluate(pred_final_Ob1)\n",
    "print(\"Test set Area under ROC for Obscene comments = \" + str(ROC_Ob1))\n",
    "\n",
    "pred_final_Ob1.groupBy(F.col('prediction'), F.col('obscene_idx')).count().show()"
   ]
  },
  {
   "cell_type": "markdown",
   "metadata": {},
   "source": [
    "#### Threat Comments"
   ]
  },
  {
   "cell_type": "code",
   "execution_count": 36,
   "metadata": {},
   "outputs": [
    {
     "name": "stdout",
     "output_type": "stream",
     "text": [
      "Test set F1 score for Threat comments = 0.847738015474555\n",
      "Test set Accuracy score for Threat comments = 0.7405045484385258\n",
      "Test set Area under ROC for Threat comments = 0.788132773366189\n",
      "+----------+----------+-----+\n",
      "|prediction|threat_idx|count|\n",
      "+----------+----------+-----+\n",
      "|       1.0|       1.0|  159|\n",
      "|       0.0|       1.0|   52|\n",
      "|       1.0|       0.0|16550|\n",
      "|       0.0|       0.0|47217|\n",
      "+----------+----------+-----+\n",
      "\n"
     ]
    }
   ],
   "source": [
    "# Threat comments - Resampled dataset (w/o Bigrams)\n",
    "\n",
    "pipeline_Thr1 = Pipeline(stages = [vectorizer_unigram, idf, lr_Thr])\n",
    "\n",
    "model_Thr1 = pipeline_Thr1.fit(df_Thr)\n",
    "\n",
    "predictions_Thr1 = model_Thr1.transform(df_test)\n",
    "\n",
    "predictions_Thr1 = predictions_Thr1.select('id','comment_text','probability',\n",
    "                                         'rawPrediction','prediction')\n",
    "\n",
    "pred_final_Thr1 = predictions_Thr1.join(df_eval, \"id\",'inner').select(predictions_Thr1.id,\n",
    "                                                predictions_Thr1.comment_text,\n",
    "                                                predictions_Thr1.probability,\n",
    "                                                predictions_Thr1.rawPrediction,\n",
    "                                                predictions_Thr1.prediction, \n",
    "                                                df_eval.threat_idx)\n",
    "\n",
    "pred_final_Thr1.cache()\n",
    "\n",
    "evaluator_Thr = MulticlassClassificationEvaluator(labelCol=\"threat_idx\", \n",
    "                                              predictionCol=\"prediction\",\n",
    "                                              metricName=\"f1\",metricLabel=1.0)\n",
    "\n",
    "evaluator_Thr_A = MulticlassClassificationEvaluator(labelCol=\"threat_idx\", \n",
    "                                              predictionCol=\"prediction\",\n",
    "                                              metricName=\"accuracy\",metricLabel=1.0)\n",
    "\n",
    "evaluator_Thr_ROC = BinaryClassificationEvaluator(labelCol=\"threat_idx\", \n",
    "                                              rawPredictionCol=\"rawPrediction\",\n",
    "                                              metricName=\"areaUnderROC\")\n",
    "\n",
    "f1_Thr1 = evaluator_Thr.evaluate(pred_final_Thr1)\n",
    "print(\"Test set F1 score for Threat comments = \" + str(f1_Thr1))\n",
    "Acc_Thr1 = evaluator_Thr_A.evaluate(pred_final_Thr1)\n",
    "print(\"Test set Accuracy score for Threat comments = \" + str(Acc_Thr1))\n",
    "ROC_Thr1 = evaluator_Thr_ROC.evaluate(pred_final_Thr1)\n",
    "print(\"Test set Area under ROC for Threat comments = \" + str(ROC_Thr1))\n",
    "\n",
    "pred_final_Thr1.groupBy(F.col('prediction'), F.col('threat_idx')).count().show()"
   ]
  },
  {
   "cell_type": "markdown",
   "metadata": {},
   "source": [
    "#### Insult Comments"
   ]
  },
  {
   "cell_type": "code",
   "execution_count": 37,
   "metadata": {},
   "outputs": [
    {
     "name": "stdout",
     "output_type": "stream",
     "text": [
      "Test set F1 score for Insult comments = 0.7672766187531409\n",
      "Test set Accuracy score for Insult comments = 0.6793272687486324\n",
      "Test set Area under ROC for Insult comments = 0.7944047046373971\n",
      "+----------+----------+-----+\n",
      "|prediction|insult_idx|count|\n",
      "+----------+----------+-----+\n",
      "|       1.0|       1.0| 2764|\n",
      "|       0.0|       1.0|  663|\n",
      "|       1.0|       0.0|19853|\n",
      "|       0.0|       0.0|40698|\n",
      "+----------+----------+-----+\n",
      "\n"
     ]
    }
   ],
   "source": [
    "# Insult comments - Resampled dataset (w/o Bigrams)\n",
    "\n",
    "pipeline_Ins1 = Pipeline(stages = [vectorizer_unigram, idf, lr_Ins])\n",
    "\n",
    "model_Ins1 = pipeline_Ins1.fit(df_Ins)\n",
    "\n",
    "predictions_Ins1 = model_Ins1.transform(df_test)\n",
    "\n",
    "predictions_Ins1 = predictions_Ins1.select('id','comment_text','probability',\n",
    "                                         'rawPrediction','prediction')\n",
    "\n",
    "pred_final_Ins1 = predictions_Ins1.join(df_eval, \"id\",'inner').select(predictions_Ins1.id,\n",
    "                                                predictions_Ins1.comment_text,\n",
    "                                                predictions_Ins1.probability,\n",
    "                                                predictions_Ins1.rawPrediction,\n",
    "                                                predictions_Ins1.prediction, \n",
    "                                                df_eval.insult_idx)\n",
    "\n",
    "pred_final_Ins1.cache()\n",
    "\n",
    "evaluator_Ins = MulticlassClassificationEvaluator(labelCol=\"insult_idx\", \n",
    "                                              predictionCol=\"prediction\",\n",
    "                                              metricName=\"f1\",metricLabel=1.0)\n",
    "\n",
    "evaluator_Ins_A = MulticlassClassificationEvaluator(labelCol=\"insult_idx\", \n",
    "                                              predictionCol=\"prediction\",\n",
    "                                              metricName=\"accuracy\",metricLabel=1.0)\n",
    "\n",
    "evaluator_Ins_ROC = BinaryClassificationEvaluator(labelCol=\"insult_idx\", \n",
    "                                              rawPredictionCol=\"rawPrediction\",\n",
    "                                              metricName=\"areaUnderROC\")\n",
    "\n",
    "f1_Ins1 = evaluator_Ins.evaluate(pred_final_Ins1)\n",
    "print(\"Test set F1 score for Insult comments = \" + str(f1_Ins1))\n",
    "Acc_Ins1 = evaluator_Ins_A.evaluate(pred_final_Ins1)\n",
    "print(\"Test set Accuracy score for Insult comments = \" + str(Acc_Ins1))\n",
    "ROC_Ins1 = evaluator_Ins_ROC.evaluate(pred_final_Ins1)\n",
    "print(\"Test set Area under ROC for Insult comments = \" + str(ROC_Ins1))\n",
    "\n",
    "pred_final_Ins1.groupBy(F.col('prediction'), F.col('insult_idx')).count().show()"
   ]
  },
  {
   "cell_type": "markdown",
   "metadata": {},
   "source": [
    "#### Identity Hate Comments"
   ]
  },
  {
   "cell_type": "code",
   "execution_count": 38,
   "metadata": {},
   "outputs": [
    {
     "name": "stdout",
     "output_type": "stream",
     "text": [
      "Test set F1 score for Identity Hate comments = 0.7641145920223457\n",
      "Test set Accuracy score for Identity Hate comments = 0.6323579980618338\n",
      "Test set Area under ROC for Identity Hate comments = 0.8078542861831475\n",
      "+----------+-----------------+-----+\n",
      "|prediction|identity_hate_idx|count|\n",
      "+----------+-----------------+-----+\n",
      "|       1.0|              1.0|  598|\n",
      "|       0.0|              1.0|  114|\n",
      "|       1.0|              0.0|23407|\n",
      "|       0.0|              0.0|39859|\n",
      "+----------+-----------------+-----+\n",
      "\n"
     ]
    }
   ],
   "source": [
    "# Identity Hate comments - Resampled dataset (w/o Bigrams)\n",
    "\n",
    "pipeline_IH1 = Pipeline(stages = [vectorizer_unigram, idf, lr_IH])\n",
    "\n",
    "model_IH1 = pipeline_IH1.fit(df_IH)\n",
    "\n",
    "predictions_IH1 = model_IH1.transform(df_test)\n",
    "\n",
    "predictions_IH1 = predictions_IH1.select('id','comment_text','probability',\n",
    "                                         'rawPrediction','prediction')\n",
    "\n",
    "pred_final_IH1 = predictions_IH1.join(df_eval, \"id\",'inner').select(predictions_IH1.id,\n",
    "                                                predictions_IH1.comment_text,\n",
    "                                                predictions_IH1.probability,\n",
    "                                                predictions_IH1.rawPrediction,\n",
    "                                                predictions_IH1.prediction, \n",
    "                                                df_eval.identity_hate_idx)\n",
    "\n",
    "pred_final_IH1.cache()\n",
    "\n",
    "evaluator_IH = MulticlassClassificationEvaluator(labelCol=\"identity_hate_idx\", \n",
    "                                              predictionCol=\"prediction\",\n",
    "                                              metricName=\"f1\",metricLabel=1.0)\n",
    "\n",
    "evaluator_IH_A = MulticlassClassificationEvaluator(labelCol=\"identity_hate_idx\", \n",
    "                                              predictionCol=\"prediction\",\n",
    "                                              metricName=\"accuracy\",metricLabel=1.0)\n",
    "\n",
    "evaluator_IH_ROC = BinaryClassificationEvaluator(labelCol=\"identity_hate_idx\", \n",
    "                                              rawPredictionCol=\"rawPrediction\",\n",
    "                                              metricName=\"areaUnderROC\")\n",
    "\n",
    "f1_IH1 = evaluator_IH.evaluate(pred_final_IH1)\n",
    "print(\"Test set F1 score for Identity Hate comments = \" + str(f1_IH1))\n",
    "Acc_IH1 = evaluator_IH_A.evaluate(pred_final_IH1)\n",
    "print(\"Test set Accuracy score for Identity Hate comments = \" + str(Acc_IH1))\n",
    "ROC_IH1 = evaluator_IH_ROC.evaluate(pred_final_IH1)\n",
    "print(\"Test set Area under ROC for Identity Hate comments = \" + str(ROC_IH1))\n",
    "\n",
    "pred_final_IH1.groupBy(F.col('prediction'), F.col('identity_hate_idx')).count().show()"
   ]
  },
  {
   "cell_type": "markdown",
   "metadata": {},
   "source": [
    "#### Summary Results of Logistic Regression Resampled datasets (with Bigrams)"
   ]
  },
  {
   "cell_type": "code",
   "execution_count": 39,
   "metadata": {},
   "outputs": [
    {
     "name": "stdout",
     "output_type": "stream",
     "text": [
      "+--------------+----------+--------------+--------------+\n",
      "|      Category|  F1 Score|Accuracy Score|Area under ROC|\n",
      "+--------------+----------+--------------+--------------+\n",
      "|         Toxic|  0.758082|    0.69556725|     0.8107832|\n",
      "|  Severe Toxic|  0.919271|     0.8597643|     0.9010828|\n",
      "|       Obscene| 0.8649951|     0.8239551|     0.8373617|\n",
      "|        Threat|0.94591147|     0.9029823|     0.8673782|\n",
      "|        Insult| 0.7667775|     0.6787333|    0.83063674|\n",
      "|Indentity Hate|  0.901052|    0.83653754|     0.8278777|\n",
      "+--------------+----------+--------------+--------------+\n",
      "\n"
     ]
    }
   ],
   "source": [
    "schema = StructType([\n",
    "StructField(\"Category\", StringType(), False),\n",
    "StructField(\"F1 Score\", FloatType(), False),\n",
    "StructField(\"Accuracy Score\", FloatType(), False),\n",
    "StructField(\"Area under ROC\", FloatType(), False)\n",
    "])\n",
    "\n",
    "stats_lr_Bg = spark.createDataFrame(\n",
    "    [\n",
    "        (\"Toxic\", f1_Tox, Acc_Tox, ROC_Tox),\n",
    "        (\"Severe Toxic\", f1_ST, Acc_ST, ROC_ST),\n",
    "        (\"Obscene\", f1_Ob, Acc_Ob, ROC_Ob),\n",
    "        (\"Threat\", f1_Thr, Acc_Thr, ROC_Thr),\n",
    "        (\"Insult\", f1_Ins, Acc_Ins, ROC_Ins),\n",
    "        (\"Indentity Hate\", f1_IH, Acc_IH, ROC_IH)\n",
    "    ], \n",
    "    schema=schema)\n",
    "\n",
    "stats_lr_Bg.show()"
   ]
  },
  {
   "cell_type": "markdown",
   "metadata": {},
   "source": [
    "#### Summary Results of Logistic Regression Resampled datasets (w/o Bigrams)"
   ]
  },
  {
   "cell_type": "code",
   "execution_count": 40,
   "metadata": {},
   "outputs": [
    {
     "name": "stdout",
     "output_type": "stream",
     "text": [
      "+--------------+----------+--------------+--------------+\n",
      "|      Category|  F1 Score|Accuracy Score|Area under ROC|\n",
      "+--------------+----------+--------------+--------------+\n",
      "|         Toxic|0.75678664|    0.69397295|     0.7827356|\n",
      "|  Severe Toxic|0.80851847|      0.686486|     0.8470022|\n",
      "|       Obscene|0.77125347|     0.6880021|      0.770511|\n",
      "|        Threat|  0.847738|    0.74050456|     0.7881328|\n",
      "|        Insult|0.76727664|    0.67932725|     0.7944047|\n",
      "|Indentity Hate| 0.7641146|      0.632358|     0.8078543|\n",
      "+--------------+----------+--------------+--------------+\n",
      "\n"
     ]
    }
   ],
   "source": [
    "schema = StructType([\n",
    "StructField(\"Category\", StringType(), False),\n",
    "StructField(\"F1 Score\", FloatType(), False),\n",
    "StructField(\"Accuracy Score\", FloatType(), False),\n",
    "StructField(\"Area under ROC\", FloatType(), False)\n",
    "])\n",
    "\n",
    "stats_lr = spark.createDataFrame(\n",
    "    [\n",
    "        (\"Toxic\", f1_Tox1, Acc_Tox1, ROC_Tox1),\n",
    "        (\"Severe Toxic\", f1_ST1, Acc_ST1, ROC_ST1),\n",
    "        (\"Obscene\", f1_Ob1, Acc_Ob1, ROC_Ob1),\n",
    "        (\"Threat\", f1_Thr1, Acc_Thr1, ROC_Thr1),\n",
    "        (\"Insult\", f1_Ins1, Acc_Ins1, ROC_Ins1),\n",
    "        (\"Indentity Hate\", f1_IH1, Acc_IH1, ROC_IH1)\n",
    "    ], \n",
    "    schema=schema)\n",
    "\n",
    "stats_lr.show()"
   ]
  },
  {
   "cell_type": "markdown",
   "metadata": {},
   "source": [
    "### Linear SVC - with Bigrams"
   ]
  },
  {
   "cell_type": "markdown",
   "metadata": {},
   "source": [
    "#### Toxic Comments"
   ]
  },
  {
   "cell_type": "code",
   "execution_count": 41,
   "metadata": {},
   "outputs": [
    {
     "name": "stdout",
     "output_type": "stream",
     "text": [
      "Test set F1 score for Toxic comments = 0.6899913215785639\n",
      "Test set Accuracy score for Toxic comments = 0.6113976679483573\n",
      "Test set Area under ROC for Toxic comments = 0.8313842224405245\n",
      "+----------+---------+-----+\n",
      "|prediction|toxic_idx|count|\n",
      "+----------+---------+-----+\n",
      "|       1.0|      1.0| 5342|\n",
      "|       0.0|      1.0|  748|\n",
      "|       1.0|      0.0|24114|\n",
      "|       0.0|      0.0|33774|\n",
      "+----------+---------+-----+\n",
      "\n"
     ]
    }
   ],
   "source": [
    "# Toxic comments - Resampled dataset (with Bigrams)\n",
    "\n",
    "pipeline_Tox2 = Pipeline(stages = [vectorizer_bigram, idf, svm_Tox])\n",
    "\n",
    "model_Tox2 = pipeline_Tox2.fit(df_Tox)\n",
    "\n",
    "predictions_Tox2 = model_Tox2.transform(df_test)\n",
    "\n",
    "predictions_Tox2 = predictions_Tox2.select('id','comment_text',\n",
    "                                         'rawPrediction','prediction')\n",
    "\n",
    "pred_final_Tox2 = predictions_Tox2.join(df_eval, \"id\",'inner')\\\n",
    "                                                .select(predictions_Tox2.id,\n",
    "                                                predictions_Tox2.comment_text,\n",
    "                                                predictions_Tox2.rawPrediction,\n",
    "                                                predictions_Tox2.prediction, \n",
    "                                                df_eval.toxic_idx)\n",
    "\n",
    "pred_final_Tox2.cache()\n",
    "\n",
    "\n",
    "evaluator_Tox = MulticlassClassificationEvaluator(labelCol=\"toxic_idx\", \n",
    "                                              predictionCol=\"prediction\",\n",
    "                                              metricName=\"f1\",metricLabel=1.0)\n",
    "\n",
    "evaluator_Tox_A = MulticlassClassificationEvaluator(labelCol=\"toxic_idx\", \n",
    "                                              predictionCol=\"prediction\",\n",
    "                                              metricName=\"accuracy\",metricLabel=1.0)\n",
    "\n",
    "evaluator_Tox_ROC = BinaryClassificationEvaluator(labelCol=\"toxic_idx\", \n",
    "                                              rawPredictionCol=\"rawPrediction\",\n",
    "                                              metricName=\"areaUnderROC\")\n",
    "\n",
    "f1_Tox2 = evaluator_Tox.evaluate(pred_final_Tox2)\n",
    "print(\"Test set F1 score for Toxic comments = \" + str(f1_Tox2))\n",
    "\n",
    "Acc_Tox2 = evaluator_Tox_A.evaluate(pred_final_Tox2)\n",
    "print(\"Test set Accuracy score for Toxic comments = \" + str(Acc_Tox2))\n",
    "\n",
    "ROC_Tox2 = evaluator_Tox_ROC.evaluate(pred_final_Tox2)\n",
    "print(\"Test set Area under ROC for Toxic comments = \" + str(ROC_Tox2))\n",
    "\n",
    "pred_final_Tox2.groupBy(F.col('prediction'), F.col('toxic_idx')).count().show()"
   ]
  },
  {
   "cell_type": "markdown",
   "metadata": {},
   "source": [
    "#### Severe Toxic Comments"
   ]
  },
  {
   "cell_type": "code",
   "execution_count": 42,
   "metadata": {},
   "outputs": [
    {
     "name": "stdout",
     "output_type": "stream",
     "text": [
      "Test set F1 score for Severe Toxic comments = 0.5068131896577701\n",
      "Test set Accuracy score for Severe Toxic comments = 0.34565006721060365\n",
      "Test set Area under ROC for Severe Toxic comments = 0.9208994751263424\n",
      "+----------+----------------+-----+\n",
      "|prediction|severe_toxic_idx|count|\n",
      "+----------+----------------+-----+\n",
      "|       1.0|             1.0|  359|\n",
      "|       0.0|             1.0|    8|\n",
      "|       1.0|             0.0|41856|\n",
      "|       0.0|             0.0|21755|\n",
      "+----------+----------------+-----+\n",
      "\n"
     ]
    }
   ],
   "source": [
    "# Severe comments - Resampled dataset (with Bigrams)\n",
    "\n",
    "pipeline_ST2 = Pipeline(stages = [vectorizer_bigram, idf, svm_ST])\n",
    "\n",
    "model_ST2 = pipeline_ST2.fit(df_ST)\n",
    "\n",
    "predictions_ST2 = model_ST2.transform(df_test)\n",
    "\n",
    "predictions_ST2 = predictions_ST2.select('id','comment_text',\n",
    "                                         'rawPrediction','prediction')\n",
    "\n",
    "pred_final_ST2 = predictions_ST2.join(df_eval, \"id\",'inner')\\\n",
    "                                                .select(predictions_ST2.id,\n",
    "                                                predictions_ST2.comment_text,\n",
    "                                                predictions_ST2.rawPrediction,\n",
    "                                                predictions_ST2.prediction, \n",
    "                                                df_eval.severe_toxic_idx)\n",
    "\n",
    "pred_final_ST2.cache()\n",
    "\n",
    "evaluator_ST = MulticlassClassificationEvaluator(labelCol=\"severe_toxic_idx\", \n",
    "                                              predictionCol=\"prediction\",\n",
    "                                              metricName=\"f1\",metricLabel=1.0)\n",
    "\n",
    "evaluator_ST_A = MulticlassClassificationEvaluator(labelCol=\"severe_toxic_idx\", \n",
    "                                              predictionCol=\"prediction\",\n",
    "                                              metricName=\"accuracy\",metricLabel=1.0)\n",
    "\n",
    "evaluator_ST_ROC = BinaryClassificationEvaluator(labelCol=\"severe_toxic_idx\", \n",
    "                                              rawPredictionCol=\"rawPrediction\",\n",
    "                                              metricName=\"areaUnderROC\")\n",
    "\n",
    "f1_ST2 = evaluator_ST.evaluate(pred_final_ST2)\n",
    "print(\"Test set F1 score for Severe Toxic comments = \" + str(f1_ST2))\n",
    "\n",
    "Acc_ST2 = evaluator_ST_A.evaluate(pred_final_ST2)\n",
    "print(\"Test set Accuracy score for Severe Toxic comments = \" + str(Acc_ST2))\n",
    "\n",
    "ROC_ST2 = evaluator_ST_ROC.evaluate(pred_final_ST2)\n",
    "print(\"Test set Area under ROC for Severe Toxic comments = \" + str(ROC_ST2))\n",
    "\n",
    "pred_final_ST2.groupBy(F.col('prediction'), F.col('severe_toxic_idx')).count().show()"
   ]
  },
  {
   "cell_type": "markdown",
   "metadata": {},
   "source": [
    "#### Obscene Comments"
   ]
  },
  {
   "cell_type": "code",
   "execution_count": 43,
   "metadata": {},
   "outputs": [
    {
     "name": "stdout",
     "output_type": "stream",
     "text": [
      "Test set F1 score for Obscene comments = 0.7281405574924665\n",
      "Test set Accuracy score for Obscene comments = 0.6320141298571383\n",
      "Test set Area under ROC for Obscene comments = 0.863663795984058\n",
      "+----------+-----------+-----+\n",
      "|prediction|obscene_idx|count|\n",
      "+----------+-----------+-----+\n",
      "|       1.0|        1.0| 3295|\n",
      "|       0.0|        1.0|  396|\n",
      "|       1.0|        0.0|23147|\n",
      "|       0.0|        0.0|37140|\n",
      "+----------+-----------+-----+\n",
      "\n"
     ]
    }
   ],
   "source": [
    "# Obscene comments - Resampled dataset (with Bigrams)\n",
    "\n",
    "pipeline_Ob2 = Pipeline(stages = [vectorizer_bigram, idf, svm_Ob])\n",
    "\n",
    "model_Ob2 = pipeline_Ob2.fit(df_Ob)\n",
    "\n",
    "predictions_Ob2 = model_Ob2.transform(df_test)\n",
    "\n",
    "predictions_Ob2 = predictions_Ob2.select('id','comment_text',\n",
    "                                         'rawPrediction','prediction')\n",
    "\n",
    "pred_final_Ob2 = predictions_Ob2.join(df_eval, \"id\",'inner')\\\n",
    "                                                .select(predictions_Ob2.id,\n",
    "                                                predictions_Ob2.comment_text,\n",
    "                                                predictions_Ob2.rawPrediction,\n",
    "                                                predictions_Ob2.prediction, \n",
    "                                                df_eval.obscene_idx)\n",
    "\n",
    "pred_final_Ob2.cache()\n",
    "\n",
    "evaluator_Ob = MulticlassClassificationEvaluator(labelCol=\"obscene_idx\", \n",
    "                                              predictionCol=\"prediction\",\n",
    "                                              metricName=\"f1\",metricLabel=1.0)\n",
    "\n",
    "evaluator_Ob_A = MulticlassClassificationEvaluator(labelCol=\"obscene_idx\", \n",
    "                                              predictionCol=\"prediction\",\n",
    "                                              metricName=\"accuracy\",metricLabel=1.0)\n",
    "\n",
    "evaluator_Ob_ROC = BinaryClassificationEvaluator(labelCol=\"obscene_idx\", \n",
    "                                              rawPredictionCol=\"rawPrediction\",\n",
    "                                              metricName=\"areaUnderROC\")\n",
    "\n",
    "f1_Ob2 = evaluator_Ob.evaluate(pred_final_Ob2)\n",
    "print(\"Test set F1 score for Obscene comments = \" + str(f1_Ob2))\n",
    "\n",
    "Acc_Ob2 = evaluator_Ob_A.evaluate(pred_final_Ob2)\n",
    "print(\"Test set Accuracy score for Obscene comments = \" + str(Acc_Ob2))\n",
    "\n",
    "ROC_Ob2 = evaluator_Ob_ROC.evaluate(pred_final_Ob2)\n",
    "print(\"Test set Area under ROC for Obscene comments = \" + str(ROC_Ob2))\n",
    "\n",
    "pred_final_Ob2.groupBy(F.col('prediction'), F.col('obscene_idx')).count().show()"
   ]
  },
  {
   "cell_type": "markdown",
   "metadata": {},
   "source": [
    "#### Threat Comments"
   ]
  },
  {
   "cell_type": "code",
   "execution_count": 44,
   "metadata": {},
   "outputs": [
    {
     "name": "stdout",
     "output_type": "stream",
     "text": [
      "Test set F1 score for Threat comments = 0.9206338173181396\n",
      "Test set Accuracy score for Threat comments = 0.85832629966551\n",
      "Test set Area under ROC for Threat comments = 0.8699166701164777\n",
      "+----------+----------+-----+\n",
      "|prediction|threat_idx|count|\n",
      "+----------+----------+-----+\n",
      "|       1.0|       1.0|  143|\n",
      "|       0.0|       1.0|   68|\n",
      "|       1.0|       0.0| 8996|\n",
      "|       0.0|       0.0|54771|\n",
      "+----------+----------+-----+\n",
      "\n"
     ]
    }
   ],
   "source": [
    "# Threat comments - Resampled dataset (with Bigrams)\n",
    "\n",
    "pipeline_Thr2 = Pipeline(stages = [vectorizer_bigram, idf, svm_Thr])\n",
    "\n",
    "model_Thr2 = pipeline_Thr2.fit(df_Thr)\n",
    "\n",
    "predictions_Thr2 = model_Thr2.transform(df_test)\n",
    "\n",
    "predictions_Thr2 = predictions_Thr2.select('id','comment_text',\n",
    "                                         'rawPrediction','prediction')\n",
    "\n",
    "pred_final_Thr2 = predictions_Thr2.join(df_eval, \"id\",'inner')\\\n",
    "                                                .select(predictions_Thr2.id,\n",
    "                                                predictions_Thr2.comment_text,\n",
    "                                                predictions_Thr2.rawPrediction,\n",
    "                                                predictions_Thr2.prediction, \n",
    "                                                df_eval.threat_idx)\n",
    "\n",
    "pred_final_Thr2.cache()\n",
    "\n",
    "evaluator_Thr = MulticlassClassificationEvaluator(labelCol=\"threat_idx\", \n",
    "                                              predictionCol=\"prediction\",\n",
    "                                              metricName=\"f1\",metricLabel=1.0)\n",
    "\n",
    "evaluator_Thr_A = MulticlassClassificationEvaluator(labelCol=\"threat_idx\", \n",
    "                                              predictionCol=\"prediction\",\n",
    "                                              metricName=\"accuracy\",metricLabel=1.0)\n",
    "\n",
    "evaluator_Thr_ROC = BinaryClassificationEvaluator(labelCol=\"threat_idx\", \n",
    "                                              rawPredictionCol=\"rawPrediction\",\n",
    "                                              metricName=\"areaUnderROC\")\n",
    "\n",
    "f1_Thr2 = evaluator_Thr.evaluate(pred_final_Thr2)\n",
    "print(\"Test set F1 score for Threat comments = \" + str(f1_Thr2))\n",
    "\n",
    "Acc_Thr2 = evaluator_Thr_A.evaluate(pred_final_Thr2)\n",
    "print(\"Test set Accuracy score for Threat comments = \" + str(Acc_Thr2))\n",
    "\n",
    "ROC_Thr2 = evaluator_Thr_ROC.evaluate(pred_final_Thr2)\n",
    "print(\"Test set Area under ROC for Threat comments = \" + str(ROC_Thr2))\n",
    "\n",
    "pred_final_Thr2.groupBy(F.col('prediction'), F.col('threat_idx')).count().show()"
   ]
  },
  {
   "cell_type": "markdown",
   "metadata": {},
   "source": [
    "#### Insult Comments "
   ]
  },
  {
   "cell_type": "code",
   "execution_count": 45,
   "metadata": {},
   "outputs": [
    {
     "name": "stdout",
     "output_type": "stream",
     "text": [
      "Test set F1 score for Insult comments = 0.6407609052339341\n",
      "Test set Accuracy score for Insult comments = 0.5253680952827534\n",
      "Test set Area under ROC for Insult comments = 0.8511637996011109\n",
      "+----------+----------+-----+\n",
      "|prediction|insult_idx|count|\n",
      "+----------+----------+-----+\n",
      "|       1.0|       1.0| 3164|\n",
      "|       0.0|       1.0|  263|\n",
      "|       1.0|       0.0|30103|\n",
      "|       0.0|       0.0|30448|\n",
      "+----------+----------+-----+\n",
      "\n"
     ]
    }
   ],
   "source": [
    "# Insult comments - Resampled dataset (with Bigrams)\n",
    "\n",
    "pipeline_Ins2 = Pipeline(stages = [vectorizer_bigram, idf, svm_Ins])\n",
    "\n",
    "model_Ins2 = pipeline_Ins2.fit(df_Ins)\n",
    "\n",
    "predictions_Ins2 = model_Ins2.transform(df_test)\n",
    "\n",
    "predictions_Ins2 = predictions_Ins2.select('id','comment_text',\n",
    "                                         'rawPrediction','prediction')\n",
    "\n",
    "pred_final_Ins2 = predictions_Ins2.join(df_eval, \"id\",'inner')\\\n",
    "                                                .select(predictions_Ins2.id,\n",
    "                                                predictions_Ins2.comment_text,\n",
    "                                                predictions_Ins2.rawPrediction,\n",
    "                                                predictions_Ins2.prediction, \n",
    "                                                df_eval.insult_idx)\n",
    "\n",
    "pred_final_Ins2.cache()\n",
    "\n",
    "evaluator_Ins = MulticlassClassificationEvaluator(labelCol=\"insult_idx\", \n",
    "                                              predictionCol=\"prediction\",\n",
    "                                              metricName=\"f1\",metricLabel=1.0)\n",
    "\n",
    "evaluator_Ins_A = MulticlassClassificationEvaluator(labelCol=\"insult_idx\", \n",
    "                                              predictionCol=\"prediction\",\n",
    "                                              metricName=\"accuracy\",metricLabel=1.0)\n",
    "\n",
    "evaluator_Ins_ROC = BinaryClassificationEvaluator(labelCol=\"insult_idx\", \n",
    "                                              rawPredictionCol=\"rawPrediction\",\n",
    "                                              metricName=\"areaUnderROC\")\n",
    "\n",
    "f1_Ins2 = evaluator_Ins.evaluate(pred_final_Ins2)\n",
    "print(\"Test set F1 score for Insult comments = \" + str(f1_Ins2))\n",
    "\n",
    "Acc_Ins2 = evaluator_Ins_A.evaluate(pred_final_Ins2)\n",
    "print(\"Test set Accuracy score for Insult comments = \" + str(Acc_Ins2))\n",
    "\n",
    "ROC_Ins2 = evaluator_Ins_ROC.evaluate(pred_final_Ins2)\n",
    "print(\"Test set Area under ROC for Insult comments = \" + str(ROC_Ins2))\n",
    "\n",
    "pred_final_Ins2.groupBy(F.col('prediction'), F.col('insult_idx')).count().show()"
   ]
  },
  {
   "cell_type": "markdown",
   "metadata": {},
   "source": [
    "#### Identity Hate Comments "
   ]
  },
  {
   "cell_type": "code",
   "execution_count": 46,
   "metadata": {},
   "outputs": [
    {
     "name": "stdout",
     "output_type": "stream",
     "text": [
      "Test set F1 score for Identity Hate comments = 0.9088445984366853\n",
      "Test set Accuracy score for Identity Hate comments = 0.8496983338022446\n",
      "Test set Area under ROC for Identity Hate comments = 0.8400834651411193\n",
      "+----------+-----------------+-----+\n",
      "|prediction|identity_hate_idx|count|\n",
      "+----------+-----------------+-----+\n",
      "|       1.0|              1.0|  432|\n",
      "|       0.0|              1.0|  280|\n",
      "|       1.0|              0.0| 9336|\n",
      "|       0.0|              0.0|53930|\n",
      "+----------+-----------------+-----+\n",
      "\n"
     ]
    }
   ],
   "source": [
    "# Identity Hate comments - Resampled dataset (with Bigrams)\n",
    "\n",
    "pipeline_IH2 = Pipeline(stages = [vectorizer_bigram, idf, svm_IH])\n",
    "\n",
    "model_IH2 = pipeline_IH2.fit(df_IH)\n",
    "\n",
    "predictions_IH2 = model_IH2.transform(df_test)\n",
    "\n",
    "predictions_IH2 = predictions_IH2.select('id','comment_text',\n",
    "                                         'rawPrediction','prediction')\n",
    "\n",
    "pred_final_IH2 = predictions_IH2.join(df_eval, \"id\",'inner')\\\n",
    "                                                .select(predictions_IH2.id,\n",
    "                                                predictions_IH2.comment_text,\n",
    "                                                predictions_IH2.rawPrediction,\n",
    "                                                predictions_IH2.prediction, \n",
    "                                                df_eval.identity_hate_idx)\n",
    "\n",
    "pred_final_IH2.cache()\n",
    "\n",
    "evaluator_IH = MulticlassClassificationEvaluator(labelCol=\"identity_hate_idx\", \n",
    "                                              predictionCol=\"prediction\",\n",
    "                                              metricName=\"f1\",metricLabel=1.0)\n",
    "\n",
    "evaluator_IH_A = MulticlassClassificationEvaluator(labelCol=\"identity_hate_idx\", \n",
    "                                              predictionCol=\"prediction\",\n",
    "                                              metricName=\"accuracy\",metricLabel=1.0)\n",
    "\n",
    "evaluator_IH_ROC = BinaryClassificationEvaluator(labelCol=\"identity_hate_idx\", \n",
    "                                              rawPredictionCol=\"rawPrediction\",\n",
    "                                              metricName=\"areaUnderROC\")\n",
    "\n",
    "f1_IH2 = evaluator_IH.evaluate(pred_final_IH2)\n",
    "print(\"Test set F1 score for Identity Hate comments = \" + str(f1_IH2))\n",
    "\n",
    "Acc_IH2 = evaluator_IH_A.evaluate(pred_final_IH2)\n",
    "print(\"Test set Accuracy score for Identity Hate comments = \" + str(Acc_IH2))\n",
    "\n",
    "ROC_IH2 = evaluator_IH_ROC.evaluate(pred_final_IH2)\n",
    "print(\"Test set Area under ROC for Identity Hate comments = \" + str(ROC_IH2))\n",
    "\n",
    "pred_final_IH2.groupBy(F.col('prediction'), F.col('identity_hate_idx')).count().show()"
   ]
  },
  {
   "cell_type": "markdown",
   "metadata": {},
   "source": [
    "### Linear SVC - without Bigrams"
   ]
  },
  {
   "cell_type": "markdown",
   "metadata": {},
   "source": [
    "#### Toxic Comments"
   ]
  },
  {
   "cell_type": "code",
   "execution_count": 47,
   "metadata": {},
   "outputs": [
    {
     "name": "stdout",
     "output_type": "stream",
     "text": [
      "Test set F1 score for Toxic comments = 0.8608657105352451\n",
      "Test set Accuracy score for Toxic comments = 0.831066929256932\n",
      "Test set Area under ROC for Toxic comments = 0.9272068051573052\n",
      "+----------+---------+-----+\n",
      "|prediction|toxic_idx|count|\n",
      "+----------+---------+-----+\n",
      "|       1.0|      1.0| 5566|\n",
      "|       0.0|      1.0|  524|\n",
      "|       1.0|      0.0|10284|\n",
      "|       0.0|      0.0|47604|\n",
      "+----------+---------+-----+\n",
      "\n"
     ]
    }
   ],
   "source": [
    "# Toxic comments - Resampled dataset (w/o Bigrams)\n",
    "\n",
    "pipeline_Tox3 = Pipeline(stages = [vectorizer_unigram, idf, svm_Tox])\n",
    "\n",
    "model_Tox3 = pipeline_Tox3.fit(df_Tox)\n",
    "\n",
    "predictions_Tox3 = model_Tox3.transform(df_test)\n",
    "\n",
    "predictions_Tox3 = predictions_Tox3.select('id','comment_text',\n",
    "                                         'rawPrediction','prediction')\n",
    "\n",
    "pred_final_Tox3 = predictions_Tox3.join(df_eval, \"id\",'inner')\\\n",
    "                                                .select(predictions_Tox3.id,\n",
    "                                                predictions_Tox3.comment_text,\n",
    "                                                predictions_Tox3.rawPrediction,\n",
    "                                                predictions_Tox3.prediction, \n",
    "                                                df_eval.toxic_idx)\n",
    "\n",
    "pred_final_Tox3.cache()\n",
    "\n",
    "evaluator_Tox = MulticlassClassificationEvaluator(labelCol=\"toxic_idx\", \n",
    "                                              predictionCol=\"prediction\",\n",
    "                                              metricName=\"f1\",metricLabel=1.0)\n",
    "\n",
    "evaluator_Tox_A = MulticlassClassificationEvaluator(labelCol=\"toxic_idx\", \n",
    "                                              predictionCol=\"prediction\",\n",
    "                                              metricName=\"accuracy\",metricLabel=1.0)\n",
    "\n",
    "evaluator_Tox_ROC = BinaryClassificationEvaluator(labelCol=\"toxic_idx\", \n",
    "                                              rawPredictionCol=\"rawPrediction\",\n",
    "                                              metricName=\"areaUnderROC\")\n",
    "\n",
    "f1_Tox3 = evaluator_Tox.evaluate(pred_final_Tox3)\n",
    "print(\"Test set F1 score for Toxic comments = \" + str(f1_Tox3))\n",
    "\n",
    "Acc_Tox3 = evaluator_Tox_A.evaluate(pred_final_Tox3)\n",
    "print(\"Test set Accuracy score for Toxic comments = \" + str(Acc_Tox3))\n",
    "\n",
    "ROC_Tox3 = evaluator_Tox_ROC.evaluate(pred_final_Tox3)\n",
    "print(\"Test set Area under ROC for Toxic comments = \" + str(ROC_Tox3))\n",
    "\n",
    "pred_final_Tox3.groupBy(F.col('prediction'), F.col('toxic_idx')).count().show()"
   ]
  },
  {
   "cell_type": "markdown",
   "metadata": {},
   "source": [
    "#### Severe Toxic Comments"
   ]
  },
  {
   "cell_type": "code",
   "execution_count": 48,
   "metadata": {},
   "outputs": [
    {
     "name": "stdout",
     "output_type": "stream",
     "text": [
      "Test set F1 score for Severe Toxic comments = 0.7951751832406257\n",
      "Test set Accuracy score for Severe Toxic comments = 0.6678545750101598\n",
      "Test set Area under ROC for Severe Toxic comments = 0.9103234205761154\n",
      "+----------+----------------+-----+\n",
      "|prediction|severe_toxic_idx|count|\n",
      "+----------+----------------+-----+\n",
      "|       1.0|             1.0|  338|\n",
      "|       0.0|             1.0|   29|\n",
      "|       1.0|             0.0|21221|\n",
      "|       0.0|             0.0|42390|\n",
      "+----------+----------------+-----+\n",
      "\n"
     ]
    }
   ],
   "source": [
    "# Severe Toxic comments - Resampled dataset (w/o Bigrams)\n",
    "\n",
    "pipeline_ST3 = Pipeline(stages = [vectorizer_unigram, idf, svm_ST])\n",
    "\n",
    "model_ST3 = pipeline_ST3.fit(df_ST)\n",
    "\n",
    "predictions_ST3 = model_ST3.transform(df_test)\n",
    "\n",
    "predictions_ST3 = predictions_ST3.select('id','comment_text',\n",
    "                                         'rawPrediction','prediction')\n",
    "\n",
    "pred_final_ST3 = predictions_ST3.join(df_eval, \"id\",'inner')\\\n",
    "                                                .select(predictions_ST3.id,\n",
    "                                                predictions_ST3.comment_text,\n",
    "                                                predictions_ST3.rawPrediction,\n",
    "                                                predictions_ST3.prediction, \n",
    "                                                df_eval.severe_toxic_idx)\n",
    "\n",
    "pred_final_ST3.cache()\n",
    "\n",
    "evaluator_ST = MulticlassClassificationEvaluator(labelCol=\"severe_toxic_idx\", \n",
    "                                              predictionCol=\"prediction\",\n",
    "                                              metricName=\"f1\",metricLabel=1.0)\n",
    "\n",
    "evaluator_ST_A = MulticlassClassificationEvaluator(labelCol=\"severe_toxic_idx\", \n",
    "                                              predictionCol=\"prediction\",\n",
    "                                              metricName=\"accuracy\",metricLabel=1.0)\n",
    "\n",
    "evaluator_ST_ROC = BinaryClassificationEvaluator(labelCol=\"severe_toxic_idx\", \n",
    "                                              rawPredictionCol=\"rawPrediction\",\n",
    "                                              metricName=\"areaUnderROC\")\n",
    "\n",
    "f1_ST3 = evaluator_ST.evaluate(pred_final_ST3)\n",
    "print(\"Test set F1 score for Severe Toxic comments = \" + str(f1_ST3))\n",
    "\n",
    "Acc_ST3 = evaluator_ST_A.evaluate(pred_final_ST3)\n",
    "print(\"Test set Accuracy score for Severe Toxic comments = \" + str(Acc_ST3))\n",
    "\n",
    "ROC_ST3 = evaluator_ST_ROC.evaluate(pred_final_ST3)\n",
    "print(\"Test set Area under ROC for Severe Toxic comments = \" + str(ROC_ST3))\n",
    "\n",
    "pred_final_ST3.groupBy(F.col('prediction'), F.col('severe_toxic_idx')).count().show()"
   ]
  },
  {
   "cell_type": "markdown",
   "metadata": {},
   "source": [
    "#### Obscene Comments"
   ]
  },
  {
   "cell_type": "code",
   "execution_count": 49,
   "metadata": {},
   "outputs": [
    {
     "name": "stdout",
     "output_type": "stream",
     "text": [
      "Test set F1 score for Obscene comments = 0.9040341872045804\n",
      "Test set Accuracy score for Obscene comments = 0.8781299821813748\n",
      "Test set Area under ROC for Obscene comments = 0.9452758993503434\n",
      "+----------+-----------+-----+\n",
      "|prediction|obscene_idx|count|\n",
      "+----------+-----------+-----+\n",
      "|       1.0|        1.0| 3293|\n",
      "|       0.0|        1.0|  398|\n",
      "|       1.0|        0.0| 7399|\n",
      "|       0.0|        0.0|52888|\n",
      "+----------+-----------+-----+\n",
      "\n"
     ]
    }
   ],
   "source": [
    "# Obscene comments - Resampled dataset (w/o Bigrams)\n",
    "\n",
    "pipeline_Ob3 = Pipeline(stages = [vectorizer_unigram, idf, svm_Ob])\n",
    "\n",
    "model_Ob3 = pipeline_Ob3.fit(df_Ob)\n",
    "\n",
    "predictions_Ob3 = model_Ob3.transform(df_test)\n",
    "\n",
    "predictions_Ob3 = predictions_Ob3.select('id','comment_text',\n",
    "                                         'rawPrediction','prediction')\n",
    "\n",
    "pred_final_Ob3 = predictions_Ob3.join(df_eval, \"id\",'inner')\\\n",
    "                                                .select(predictions_Ob3.id,\n",
    "                                                predictions_Ob3.comment_text,\n",
    "                                                predictions_Ob3.rawPrediction,\n",
    "                                                predictions_Ob3.prediction, \n",
    "                                                df_eval.obscene_idx)\n",
    "\n",
    "pred_final_Ob3.cache()\n",
    "\n",
    "evaluator_Ob = MulticlassClassificationEvaluator(labelCol=\"obscene_idx\", \n",
    "                                              predictionCol=\"prediction\",\n",
    "                                              metricName=\"f1\",metricLabel=1.0)\n",
    "\n",
    "evaluator_Ob_A = MulticlassClassificationEvaluator(labelCol=\"obscene_idx\", \n",
    "                                              predictionCol=\"prediction\",\n",
    "                                              metricName=\"accuracy\",metricLabel=1.0)\n",
    "\n",
    "evaluator_Ob_ROC = BinaryClassificationEvaluator(labelCol=\"obscene_idx\", \n",
    "                                              rawPredictionCol=\"rawPrediction\",\n",
    "                                              metricName=\"areaUnderROC\")\n",
    "\n",
    "f1_Ob3 = evaluator_Ob.evaluate(pred_final_Ob3)\n",
    "print(\"Test set F1 score for Obscene comments = \" + str(f1_Ob3))\n",
    "\n",
    "Acc_Ob3 = evaluator_Ob_A.evaluate(pred_final_Ob3)\n",
    "print(\"Test set Accuracy score for Obscene comments = \" + str(Acc_Ob3))\n",
    "\n",
    "ROC_Ob3 = evaluator_Ob_ROC.evaluate(pred_final_Ob3)\n",
    "print(\"Test set Area under ROC for Obscene comments = \" + str(ROC_Ob3))\n",
    "\n",
    "pred_final_Ob3.groupBy(F.col('prediction'), F.col('obscene_idx')).count().show()"
   ]
  },
  {
   "cell_type": "markdown",
   "metadata": {},
   "source": [
    "#### Threat Comments"
   ]
  },
  {
   "cell_type": "code",
   "execution_count": 50,
   "metadata": {},
   "outputs": [
    {
     "name": "stdout",
     "output_type": "stream",
     "text": [
      "Test set F1 score for Threat comments = 0.7908064505506398\n",
      "Test set Accuracy score for Threat comments = 0.6585857638563256\n",
      "Test set Area under ROC for Threat comments = 0.9453490220654501\n",
      "+----------+----------+-----+\n",
      "|prediction|threat_idx|count|\n",
      "+----------+----------+-----+\n",
      "|       1.0|       1.0|  203|\n",
      "|       0.0|       1.0|    8|\n",
      "|       1.0|       0.0|21835|\n",
      "|       0.0|       0.0|41932|\n",
      "+----------+----------+-----+\n",
      "\n"
     ]
    }
   ],
   "source": [
    "# Threat comments - Resampled dataset (w/o Bigrams)\n",
    "\n",
    "pipeline_Thr3 = Pipeline(stages = [vectorizer_unigram, idf, svm_Thr])\n",
    "\n",
    "model_Thr3 = pipeline_Thr3.fit(df_Thr)\n",
    "\n",
    "predictions_Thr3 = model_Thr3.transform(df_test)\n",
    "\n",
    "predictions_Thr3 = predictions_Thr3.select('id','comment_text',\n",
    "                                         'rawPrediction','prediction')\n",
    "\n",
    "pred_final_Thr3 = predictions_Thr3.join(df_eval, \"id\",'inner')\\\n",
    "                                                .select(predictions_Thr3.id,\n",
    "                                                predictions_Thr3.comment_text,\n",
    "                                                predictions_Thr3.rawPrediction,\n",
    "                                                predictions_Thr3.prediction, \n",
    "                                                df_eval.threat_idx)\n",
    "\n",
    "pred_final_Thr3.cache()\n",
    "\n",
    "evaluator_Thr = MulticlassClassificationEvaluator(labelCol=\"threat_idx\", \n",
    "                                              predictionCol=\"prediction\",\n",
    "                                              metricName=\"f1\",metricLabel=1.0)\n",
    "\n",
    "evaluator_Thr_A = MulticlassClassificationEvaluator(labelCol=\"threat_idx\", \n",
    "                                              predictionCol=\"prediction\",\n",
    "                                              metricName=\"accuracy\",metricLabel=1.0)\n",
    "\n",
    "evaluator_Thr_ROC = BinaryClassificationEvaluator(labelCol=\"threat_idx\", \n",
    "                                              rawPredictionCol=\"rawPrediction\",\n",
    "                                              metricName=\"areaUnderROC\")\n",
    "\n",
    "f1_Thr3 = evaluator_Thr.evaluate(pred_final_Thr3)\n",
    "print(\"Test set F1 score for Threat comments = \" + str(f1_Thr3))\n",
    "\n",
    "Acc_Thr3 = evaluator_Thr_A.evaluate(pred_final_Thr3)\n",
    "print(\"Test set Accuracy score for Threat comments = \" + str(Acc_Thr3))\n",
    "\n",
    "ROC_Thr3 = evaluator_Thr_ROC.evaluate(pred_final_Thr3)\n",
    "print(\"Test set Area under ROC for Threat comments = \" + str(ROC_Thr3))\n",
    "\n",
    "pred_final_Thr3.groupBy(F.col('prediction'), F.col('threat_idx')).count().show()"
   ]
  },
  {
   "cell_type": "markdown",
   "metadata": {},
   "source": [
    "#### Insult Comments"
   ]
  },
  {
   "cell_type": "code",
   "execution_count": 51,
   "metadata": {},
   "outputs": [
    {
     "name": "stdout",
     "output_type": "stream",
     "text": [
      "Test set F1 score for Insult comments = 0.8672915995191014\n",
      "Test set Accuracy score for Insult comments = 0.821532401763106\n",
      "Test set Area under ROC for Insult comments = 0.9259818681835085\n",
      "+----------+----------+-----+\n",
      "|prediction|insult_idx|count|\n",
      "+----------+----------+-----+\n",
      "|       1.0|       1.0| 3075|\n",
      "|       0.0|       1.0|  352|\n",
      "|       1.0|       0.0|11066|\n",
      "|       0.0|       0.0|49485|\n",
      "+----------+----------+-----+\n",
      "\n"
     ]
    }
   ],
   "source": [
    "# Insult comments - Resampled dataset (w/o Bigrams)\n",
    "\n",
    "pipeline_Ins3 = Pipeline(stages = [vectorizer_unigram, idf, svm_Ins])\n",
    "\n",
    "model_Ins3 = pipeline_Ins3.fit(df_Ins)\n",
    "\n",
    "predictions_Ins3 = model_Ins3.transform(df_test)\n",
    "\n",
    "predictions_Ins3 = predictions_Ins3.select('id','comment_text',\n",
    "                                         'rawPrediction','prediction')\n",
    "\n",
    "pred_final_Ins3 = predictions_Ins3.join(df_eval, \"id\",'inner')\\\n",
    "                                                .select(predictions_Ins3.id,\n",
    "                                                predictions_Ins3.comment_text,\n",
    "                                                predictions_Ins3.rawPrediction,\n",
    "                                                predictions_Ins3.prediction, \n",
    "                                                df_eval.insult_idx)\n",
    "\n",
    "\n",
    "pred_final_Ins3.cache()\n",
    "\n",
    "evaluator_Ins = MulticlassClassificationEvaluator(labelCol=\"insult_idx\", \n",
    "                                              predictionCol=\"prediction\",\n",
    "                                              metricName=\"f1\",metricLabel=1.0)\n",
    "\n",
    "evaluator_Ins_A = MulticlassClassificationEvaluator(labelCol=\"insult_idx\", \n",
    "                                              predictionCol=\"prediction\",\n",
    "                                              metricName=\"accuracy\",metricLabel=1.0)\n",
    "\n",
    "evaluator_Ins_ROC = BinaryClassificationEvaluator(labelCol=\"insult_idx\", \n",
    "                                              rawPredictionCol=\"rawPrediction\",\n",
    "                                              metricName=\"areaUnderROC\")\n",
    "\n",
    "f1_Ins3 = evaluator_Ins.evaluate(pred_final_Ins3)\n",
    "print(\"Test set F1 score for Insult comments = \" + str(f1_Ins3))\n",
    "\n",
    "Acc_Ins3 = evaluator_Ins_A.evaluate(pred_final_Ins3)\n",
    "print(\"Test set Accuracy score for Insult comments = \" + str(Acc_Ins3))\n",
    "\n",
    "ROC_Ins3 = evaluator_Ins_ROC.evaluate(pred_final_Ins3)\n",
    "print(\"Test set Area under ROC for Insult comments = \" + str(ROC_Ins3))\n",
    "\n",
    "pred_final_Ins3.groupBy(F.col('prediction'), F.col('insult_idx')).count().show()"
   ]
  },
  {
   "cell_type": "markdown",
   "metadata": {},
   "source": [
    "#### Identity Hate Comments"
   ]
  },
  {
   "cell_type": "code",
   "execution_count": 52,
   "metadata": {},
   "outputs": [
    {
     "name": "stdout",
     "output_type": "stream",
     "text": [
      "Test set F1 score for Identity Hate comments = 0.8273851381252605\n",
      "Test set Accuracy score for Identity Hate comments = 0.7210447341273563\n",
      "Test set Area under ROC for Identity Hate comments = 0.9317085641079577\n",
      "+----------+-----------------+-----+\n",
      "|prediction|identity_hate_idx|count|\n",
      "+----------+-----------------+-----+\n",
      "|       1.0|              1.0|  674|\n",
      "|       0.0|              1.0|   38|\n",
      "|       1.0|              0.0|17809|\n",
      "|       0.0|              0.0|45457|\n",
      "+----------+-----------------+-----+\n",
      "\n"
     ]
    }
   ],
   "source": [
    "# Identity Hate comments - Resampled dataset (w/o Bigrams)\n",
    "\n",
    "pipeline_IH3 = Pipeline(stages = [vectorizer_unigram, idf, svm_IH])\n",
    "\n",
    "model_IH3 = pipeline_IH3.fit(df_IH)\n",
    "\n",
    "predictions_IH3 = model_IH3.transform(df_test)\n",
    "\n",
    "predictions_IH3 = predictions_IH3.select('id','comment_text',\n",
    "                                         'rawPrediction','prediction')\n",
    "\n",
    "pred_final_IH3 = predictions_IH3.join(df_eval, \"id\",'inner')\\\n",
    "                                                .select(predictions_IH3.id,\n",
    "                                                predictions_IH3.comment_text,\n",
    "                                                predictions_IH3.rawPrediction,\n",
    "                                                predictions_IH3.prediction, \n",
    "                                                df_eval.identity_hate_idx)\n",
    "\n",
    "pred_final_IH3.cache()\n",
    "\n",
    "evaluator_IH = MulticlassClassificationEvaluator(labelCol=\"identity_hate_idx\", \n",
    "                                              predictionCol=\"prediction\",\n",
    "                                              metricName=\"f1\",metricLabel=1.0)\n",
    "\n",
    "evaluator_IH_A = MulticlassClassificationEvaluator(labelCol=\"identity_hate_idx\", \n",
    "                                              predictionCol=\"prediction\",\n",
    "                                              metricName=\"accuracy\",metricLabel=1.0)\n",
    "\n",
    "evaluator_IH_ROC = BinaryClassificationEvaluator(labelCol=\"identity_hate_idx\", \n",
    "                                              rawPredictionCol=\"rawPrediction\",\n",
    "                                              metricName=\"areaUnderROC\")\n",
    "\n",
    "f1_IH3 = evaluator_IH.evaluate(pred_final_IH3)\n",
    "print(\"Test set F1 score for Identity Hate comments = \" + str(f1_IH3))\n",
    "\n",
    "Acc_IH3 = evaluator_IH_A.evaluate(pred_final_IH3)\n",
    "print(\"Test set Accuracy score for Identity Hate comments = \" + str(Acc_IH3))\n",
    "\n",
    "ROC_IH3 = evaluator_IH_ROC.evaluate(pred_final_IH3)\n",
    "print(\"Test set Area under ROC for Identity Hate comments = \" + str(ROC_IH3))\n",
    "\n",
    "pred_final_IH3.groupBy(F.col('prediction'), F.col('identity_hate_idx')).count().show()"
   ]
  },
  {
   "cell_type": "markdown",
   "metadata": {},
   "source": [
    "#### Summary Results of SVM Resampled datasets (with Bigrams)"
   ]
  },
  {
   "cell_type": "code",
   "execution_count": 53,
   "metadata": {},
   "outputs": [
    {
     "name": "stdout",
     "output_type": "stream",
     "text": [
      "+--------------+----------+--------------+--------------+\n",
      "|      Category|  F1 Score|Accuracy Score|Area under ROC|\n",
      "+--------------+----------+--------------+--------------+\n",
      "|         Toxic| 0.6899913|     0.6113977|    0.83138424|\n",
      "|  Severe Toxic|0.50681317|    0.34565008|    0.92089945|\n",
      "|       Obscene|0.72814053|    0.63201416|     0.8636638|\n",
      "|        Threat| 0.9206338|     0.8583263|     0.8699167|\n",
      "|        Insult| 0.6407609|     0.5253681|     0.8511638|\n",
      "|Indentity Hate| 0.9088446|     0.8496983|     0.8400835|\n",
      "+--------------+----------+--------------+--------------+\n",
      "\n"
     ]
    }
   ],
   "source": [
    "schema = StructType([\n",
    "StructField(\"Category\", StringType(), False),\n",
    "StructField(\"F1 Score\", FloatType(), False),\n",
    "StructField(\"Accuracy Score\", FloatType(), False),\n",
    "StructField(\"Area under ROC\", FloatType(), False)\n",
    "])\n",
    "\n",
    "stats_svm_Bg = spark.createDataFrame(\n",
    "    [\n",
    "        (\"Toxic\", f1_Tox2, Acc_Tox2, ROC_Tox2),\n",
    "        (\"Severe Toxic\", f1_ST2, Acc_ST2, ROC_ST2),\n",
    "        (\"Obscene\", f1_Ob2, Acc_Ob2, ROC_Ob2),\n",
    "        (\"Threat\", f1_Thr2, Acc_Thr2, ROC_Thr2),\n",
    "        (\"Insult\", f1_Ins2, Acc_Ins2, ROC_Ins2),\n",
    "        (\"Indentity Hate\", f1_IH2, Acc_IH2, ROC_IH2)\n",
    "    ], \n",
    "    schema=schema)\n",
    "\n",
    "stats_svm_Bg.show()"
   ]
  },
  {
   "cell_type": "markdown",
   "metadata": {},
   "source": [
    "#### Summary Results of SVM Resampled datasets (w/o Bigrams)"
   ]
  },
  {
   "cell_type": "code",
   "execution_count": 54,
   "metadata": {},
   "outputs": [
    {
     "name": "stdout",
     "output_type": "stream",
     "text": [
      "+--------------+---------+--------------+--------------+\n",
      "|      Category| F1 Score|Accuracy Score|Area under ROC|\n",
      "+--------------+---------+--------------+--------------+\n",
      "|         Toxic|0.8608657|     0.8310669|     0.9272068|\n",
      "|  Severe Toxic|0.7951752|    0.66785455|    0.91032344|\n",
      "|       Obscene|0.9040342|    0.87812996|     0.9452759|\n",
      "|        Threat|0.7908065|     0.6585858|    0.94534904|\n",
      "|        Insult|0.8672916|     0.8215324|     0.9259819|\n",
      "|Indentity Hate|0.8273851|     0.7210447|     0.9317086|\n",
      "+--------------+---------+--------------+--------------+\n",
      "\n"
     ]
    }
   ],
   "source": [
    "schema = StructType([\n",
    "StructField(\"Category\", StringType(), False),\n",
    "StructField(\"F1 Score\", FloatType(), False),\n",
    "StructField(\"Accuracy Score\", FloatType(), False),\n",
    "StructField(\"Area under ROC\", FloatType(), False)\n",
    "])\n",
    "\n",
    "stats_svm = spark.createDataFrame(\n",
    "    [\n",
    "        (\"Toxic\", f1_Tox3, Acc_Tox3, ROC_Tox3),\n",
    "        (\"Severe Toxic\", f1_ST3, Acc_ST3, ROC_ST3),\n",
    "        (\"Obscene\", f1_Ob3, Acc_Ob3, ROC_Ob3),\n",
    "        (\"Threat\", f1_Thr3, Acc_Thr3, ROC_Thr3),\n",
    "        (\"Insult\", f1_Ins3, Acc_Ins3, ROC_Ins3),\n",
    "        (\"Indentity Hate\", f1_IH3, Acc_IH3, ROC_IH3)\n",
    "    ], \n",
    "    schema=schema)\n",
    "\n",
    "stats_svm.show()"
   ]
  },
  {
   "cell_type": "markdown",
   "metadata": {},
   "source": [
    "### Random Forest - with Bigrams"
   ]
  },
  {
   "cell_type": "markdown",
   "metadata": {},
   "source": [
    "#### Toxic Comments"
   ]
  },
  {
   "cell_type": "code",
   "execution_count": 55,
   "metadata": {},
   "outputs": [
    {
     "name": "stdout",
     "output_type": "stream",
     "text": [
      "Test set F1 score for Toxic comments = 0.8673780935872316\n",
      "Test set Accuracy score for Toxic comments = 0.904029510144112\n",
      "Test set Area under ROC for Toxic comments = 0.5505987100621692\n",
      "+----------+---------+-----+\n",
      "|prediction|toxic_idx|count|\n",
      "+----------+---------+-----+\n",
      "|       1.0|      1.0|  297|\n",
      "|       0.0|      1.0| 5793|\n",
      "|       1.0|      0.0|  347|\n",
      "|       0.0|      0.0|57541|\n",
      "+----------+---------+-----+\n",
      "\n"
     ]
    }
   ],
   "source": [
    "# Toxic comments - Resampled dataset (with Bigrams)\n",
    "\n",
    "pipeline_Tox4 = Pipeline(stages = [vectorizer_bigram, idf, rf_Tox])\n",
    "\n",
    "model_Tox4 = pipeline_Tox4.fit(df_Tox)\n",
    "\n",
    "predictions_Tox4 = model_Tox4.transform(df_test)\n",
    "\n",
    "predictions_Tox4 = predictions_Tox4.select('id','comment_text','probability',\n",
    "                                         'rawPrediction','prediction')\n",
    "\n",
    "pred_final_Tox4 = predictions_Tox4.join(df_eval, \"id\",'inner')\\\n",
    "                                                .select(predictions_Tox4.id,\n",
    "                                                predictions_Tox4.comment_text,\n",
    "                                                predictions_Tox4.probability,\n",
    "                                                predictions_Tox4.rawPrediction,\n",
    "                                                predictions_Tox4.prediction, \n",
    "                                                df_eval.toxic_idx)\n",
    "\n",
    "pred_final_Tox4.cache()\n",
    "\n",
    "evaluator_Tox = MulticlassClassificationEvaluator(labelCol=\"toxic_idx\", \n",
    "                                              predictionCol=\"prediction\",\n",
    "                                              metricName=\"f1\",metricLabel=1.0)\n",
    "\n",
    "evaluator_Tox_A = MulticlassClassificationEvaluator(labelCol=\"toxic_idx\", \n",
    "                                              predictionCol=\"prediction\",\n",
    "                                              metricName=\"accuracy\",metricLabel=1.0)\n",
    "\n",
    "evaluator_Tox_ROC = BinaryClassificationEvaluator(labelCol=\"toxic_idx\", \n",
    "                                              rawPredictionCol=\"rawPrediction\",\n",
    "                                              metricName=\"areaUnderROC\")\n",
    "\n",
    "f1_Tox4 = evaluator_Tox.evaluate(pred_final_Tox4)\n",
    "print(\"Test set F1 score for Toxic comments = \" + str(f1_Tox4))\n",
    "\n",
    "Acc_Tox4 = evaluator_Tox_A.evaluate(pred_final_Tox4)\n",
    "print(\"Test set Accuracy score for Toxic comments = \" + str(Acc_Tox4))\n",
    "\n",
    "ROC_Tox4 = evaluator_Tox_ROC.evaluate(pred_final_Tox4)\n",
    "print(\"Test set Area under ROC for Toxic comments = \" + str(ROC_Tox4))\n",
    "\n",
    "pred_final_Tox4.groupBy(F.col('prediction'), F.col('toxic_idx')).count().show()"
   ]
  },
  {
   "cell_type": "markdown",
   "metadata": {},
   "source": [
    "#### Severe Toxic Comments"
   ]
  },
  {
   "cell_type": "code",
   "execution_count": 16,
   "metadata": {},
   "outputs": [
    {
     "name": "stdout",
     "output_type": "stream",
     "text": [
      "Test set F1 score for Severe Toxic comments = 0.16320420283086037\n",
      "Test set Accuracy score for Severe Toxic comments = 0.09456375629122511\n",
      "Test set Area under ROC for Severe Toxic comments = 0.6152616698643921\n",
      "+----------+----------------+-----+\n",
      "|prediction|severe_toxic_idx|count|\n",
      "+----------+----------------+-----+\n",
      "|       1.0|             1.0|  365|\n",
      "|       0.0|             1.0|    2|\n",
      "|       1.0|             0.0|57926|\n",
      "|       0.0|             0.0| 5685|\n",
      "+----------+----------------+-----+\n",
      "\n"
     ]
    }
   ],
   "source": [
    "# Severe Toxic comments - Resampled dataset (with Bigrams)\n",
    "\n",
    "pipeline_ST4 = Pipeline(stages = [vectorizer_bigram, idf, rf_ST])\n",
    "\n",
    "model_ST4 = pipeline_ST4.fit(df_ST)\n",
    "\n",
    "predictions_ST4 = model_ST4.transform(df_test)\n",
    "\n",
    "predictions_ST4 = predictions_ST4.select('id','comment_text','probability',\n",
    "                                         'rawPrediction','prediction')\n",
    "\n",
    "pred_final_ST4 = predictions_ST4.join(df_eval, \"id\",'inner')\\\n",
    "                                                .select(predictions_ST4.id,\n",
    "                                                predictions_ST4.comment_text,\n",
    "                                                predictions_ST4.probability,\n",
    "                                                predictions_ST4.rawPrediction,\n",
    "                                                predictions_ST4.prediction, \n",
    "                                                df_eval.severe_toxic_idx)\n",
    "\n",
    "pred_final_ST4.cache()\n",
    "\n",
    "evaluator_ST = MulticlassClassificationEvaluator(labelCol=\"severe_toxic_idx\", \n",
    "                                              predictionCol=\"prediction\",\n",
    "                                              metricName=\"f1\",metricLabel=1.0)\n",
    "\n",
    "evaluator_ST_A = MulticlassClassificationEvaluator(labelCol=\"severe_toxic_idx\", \n",
    "                                              predictionCol=\"prediction\",\n",
    "                                              metricName=\"accuracy\",metricLabel=1.0)\n",
    "\n",
    "evaluator_ST_ROC = BinaryClassificationEvaluator(labelCol=\"severe_toxic_idx\", \n",
    "                                              rawPredictionCol=\"rawPrediction\",\n",
    "                                              metricName=\"areaUnderROC\")\n",
    "\n",
    "f1_ST4 = evaluator_ST.evaluate(pred_final_ST4)\n",
    "print(\"Test set F1 score for Severe Toxic comments = \" + str(f1_ST4))\n",
    "\n",
    "Acc_ST4 = evaluator_ST_A.evaluate(pred_final_ST4)\n",
    "print(\"Test set Accuracy score for Severe Toxic comments = \" + str(Acc_ST4))\n",
    "\n",
    "ROC_ST4 = evaluator_ST_ROC.evaluate(pred_final_ST4)\n",
    "print(\"Test set Area under ROC for Severe Toxic comments = \" + str(ROC_ST4))\n",
    "\n",
    "pred_final_ST4.groupBy(F.col('prediction'), F.col('severe_toxic_idx')).count().show()"
   ]
  },
  {
   "cell_type": "markdown",
   "metadata": {},
   "source": [
    "#### Obscene Comments"
   ]
  },
  {
   "cell_type": "code",
   "execution_count": 57,
   "metadata": {},
   "outputs": [
    {
     "name": "stdout",
     "output_type": "stream",
     "text": [
      "Test set F1 score for Obscene comments = 0.9213643177271389\n",
      "Test set Accuracy score for Obscene comments = 0.9424489668323486\n",
      "Test set Area under ROC for Obscene comments = 0.561835784351253\n",
      "+----------+-----------+-----+\n",
      "|prediction|obscene_idx|count|\n",
      "+----------+-----------+-----+\n",
      "|       1.0|        1.0|  258|\n",
      "|       0.0|        1.0| 3433|\n",
      "|       1.0|        0.0|  249|\n",
      "|       0.0|        0.0|60038|\n",
      "+----------+-----------+-----+\n",
      "\n"
     ]
    }
   ],
   "source": [
    "# Obscene comments - Resampled dataset (with Bigrams)\n",
    "\n",
    "pipeline_Ob4 = Pipeline(stages = [vectorizer_bigram, idf, rf_Ob])\n",
    "\n",
    "model_Ob4 = pipeline_Ob4.fit(df_Ob)\n",
    "\n",
    "predictions_Ob4 = model_Ob4.transform(df_test)\n",
    "\n",
    "predictions_Ob4 = predictions_Ob4.select('id','comment_text',\n",
    "                                         'rawPrediction','prediction')\n",
    "\n",
    "pred_final_Ob4 = predictions_Ob4.join(df_eval, \"id\",'inner')\\\n",
    "                                                .select(predictions_Ob4.id,\n",
    "                                                predictions_Ob4.comment_text,\n",
    "                                                predictions_Ob4.rawPrediction,\n",
    "                                                predictions_Ob4.prediction, \n",
    "                                                df_eval.obscene_idx)\n",
    "\n",
    "pred_final_Ob4.cache()\n",
    "\n",
    "evaluator_Ob = MulticlassClassificationEvaluator(labelCol=\"obscene_idx\", \n",
    "                                              predictionCol=\"prediction\",\n",
    "                                              metricName=\"f1\",metricLabel=1.0)\n",
    "\n",
    "evaluator_Ob_A = MulticlassClassificationEvaluator(labelCol=\"obscene_idx\", \n",
    "                                              predictionCol=\"prediction\",\n",
    "                                              metricName=\"accuracy\",metricLabel=1.0)\n",
    "\n",
    "evaluator_Ob_ROC = BinaryClassificationEvaluator(labelCol=\"obscene_idx\", \n",
    "                                              rawPredictionCol=\"rawPrediction\",\n",
    "                                              metricName=\"areaUnderROC\")\n",
    "\n",
    "f1_Ob4 = evaluator_Ob.evaluate(pred_final_Ob4)\n",
    "print(\"Test set F1 score for Obscene comments = \" + str(f1_Ob4))\n",
    "\n",
    "Acc_Ob4 = evaluator_Ob_A.evaluate(pred_final_Ob4)\n",
    "print(\"Test set Accuracy score for Obscene comments = \" + str(Acc_Ob4))\n",
    "\n",
    "ROC_Ob4 = evaluator_Ob_ROC.evaluate(pred_final_Ob4)\n",
    "print(\"Test set Area under ROC for Obscene comments = \" + str(ROC_Ob4))\n",
    "\n",
    "pred_final_Ob4.groupBy(F.col('prediction'), F.col('obscene_idx')).count().show()"
   ]
  },
  {
   "cell_type": "markdown",
   "metadata": {},
   "source": [
    "#### Threat Comments"
   ]
  },
  {
   "cell_type": "code",
   "execution_count": 58,
   "metadata": {},
   "outputs": [
    {
     "name": "stdout",
     "output_type": "stream",
     "text": [
      "Test set F1 score for Threat comments = 0.08332579084305677\n",
      "Test set Accuracy score for Threat comments = 0.04676607583856951\n",
      "Test set Area under ROC for Threat comments = 0.5871416353836171\n",
      "+----------+----------+-----+\n",
      "|prediction|threat_idx|count|\n",
      "+----------+----------+-----+\n",
      "|       1.0|       1.0|  211|\n",
      "|       1.0|       0.0|60986|\n",
      "|       0.0|       0.0| 2781|\n",
      "+----------+----------+-----+\n",
      "\n"
     ]
    }
   ],
   "source": [
    "# Threat comments - Resampled dataset (with Bigrams)\n",
    "\n",
    "pipeline_Thr4 = Pipeline(stages = [vectorizer_bigram, idf, rf_Thr])\n",
    "\n",
    "model_Thr4 = pipeline_Thr4.fit(df_Thr)\n",
    "\n",
    "predictions_Thr4 = model_Thr4.transform(df_test)\n",
    "\n",
    "predictions_Thr4 = predictions_Thr4.select('id','comment_text',\n",
    "                                         'rawPrediction','prediction')\n",
    "\n",
    "pred_final_Thr4 = predictions_Thr4.join(df_eval, \"id\",'inner')\\\n",
    "                                                .select(predictions_Thr4.id,\n",
    "                                                predictions_Thr4.comment_text,\n",
    "                                                predictions_Thr4.rawPrediction,\n",
    "                                                predictions_Thr4.prediction, \n",
    "                                                df_eval.threat_idx)\n",
    "\n",
    "pred_final_Thr4.cache()\n",
    "\n",
    "evaluator_Thr = MulticlassClassificationEvaluator(labelCol=\"threat_idx\", \n",
    "                                              predictionCol=\"prediction\",\n",
    "                                              metricName=\"f1\",metricLabel=1.0)\n",
    "\n",
    "evaluator_Thr_A = MulticlassClassificationEvaluator(labelCol=\"threat_idx\", \n",
    "                                              predictionCol=\"prediction\",\n",
    "                                              metricName=\"accuracy\",metricLabel=1.0)\n",
    "\n",
    "evaluator_Thr_ROC = BinaryClassificationEvaluator(labelCol=\"threat_idx\", \n",
    "                                              rawPredictionCol=\"rawPrediction\",\n",
    "                                              metricName=\"areaUnderROC\")\n",
    "\n",
    "f1_Thr4 = evaluator_Thr.evaluate(pred_final_Thr4)\n",
    "print(\"Test set F1 score for Threat comments = \" + str(f1_Thr4))\n",
    "\n",
    "Acc_Thr4 = evaluator_Thr_A.evaluate(pred_final_Thr4)\n",
    "print(\"Test set Accuracy score for Threat comments = \" + str(Acc_Thr4))\n",
    "\n",
    "ROC_Thr4 = evaluator_Thr_ROC.evaluate(pred_final_Thr4)\n",
    "print(\"Test set Area under ROC for Threat comments = \" + str(ROC_Thr4))\n",
    "\n",
    "pred_final_Thr4.groupBy(F.col('prediction'), F.col('threat_idx')).count().show()"
   ]
  },
  {
   "cell_type": "markdown",
   "metadata": {},
   "source": [
    "#### Insult Comments "
   ]
  },
  {
   "cell_type": "code",
   "execution_count": 59,
   "metadata": {},
   "outputs": [
    {
     "name": "stdout",
     "output_type": "stream",
     "text": [
      "Test set F1 score for Insult comments = 0.15770419223526122\n",
      "Test set Accuracy score for Insult comments = 0.13564037637938042\n",
      "Test set Area under ROC for Insult comments = 0.5523367436567374\n",
      "+----------+----------+-----+\n",
      "|prediction|insult_idx|count|\n",
      "+----------+----------+-----+\n",
      "|       1.0|       1.0| 3394|\n",
      "|       0.0|       1.0|   33|\n",
      "|       1.0|       0.0|55267|\n",
      "|       0.0|       0.0| 5284|\n",
      "+----------+----------+-----+\n",
      "\n"
     ]
    }
   ],
   "source": [
    "# Insult comments - Resampled dataset (with Bigrams)\n",
    "\n",
    "pipeline_Ins4 = Pipeline(stages = [vectorizer_bigram, idf, rf_Ins])\n",
    "\n",
    "model_Ins4 = pipeline_Ins4.fit(df_Ins)\n",
    "\n",
    "predictions_Ins4 = model_Ins4.transform(df_test)\n",
    "\n",
    "predictions_Ins4 = predictions_Ins4.select('id','comment_text',\n",
    "                                         'rawPrediction','prediction')\n",
    "\n",
    "pred_final_Ins4 = predictions_Ins4.join(df_eval, \"id\",'inner')\\\n",
    "                                                .select(predictions_Ins4.id,\n",
    "                                                predictions_Ins4.comment_text,\n",
    "                                                predictions_Ins4.rawPrediction,\n",
    "                                                predictions_Ins4.prediction, \n",
    "                                                df_eval.insult_idx)\n",
    "\n",
    "pred_final_Ins4.cache()\n",
    "\n",
    "evaluator_Ins = MulticlassClassificationEvaluator(labelCol=\"insult_idx\", \n",
    "                                              predictionCol=\"prediction\",\n",
    "                                              metricName=\"f1\",metricLabel=1.0)\n",
    "\n",
    "evaluator_Ins_A = MulticlassClassificationEvaluator(labelCol=\"insult_idx\", \n",
    "                                              predictionCol=\"prediction\",\n",
    "                                              metricName=\"accuracy\",metricLabel=1.0)\n",
    "\n",
    "evaluator_Ins_ROC = BinaryClassificationEvaluator(labelCol=\"insult_idx\", \n",
    "                                              rawPredictionCol=\"rawPrediction\",\n",
    "                                              metricName=\"areaUnderROC\")\n",
    "\n",
    "f1_Ins4 = evaluator_Ins.evaluate(pred_final_Ins4)\n",
    "print(\"Test set F1 score for Insult comments = \" + str(f1_Ins4))\n",
    "\n",
    "Acc_Ins4 = evaluator_Ins_A.evaluate(pred_final_Ins4)\n",
    "print(\"Test set Accuracy score for Insult comments = \" + str(Acc_Ins4))\n",
    "\n",
    "ROC_Ins4 = evaluator_Ins_ROC.evaluate(pred_final_Ins4)\n",
    "print(\"Test set Area under ROC for Insult comments = \" + str(ROC_Ins4))\n",
    "\n",
    "pred_final_Ins4.groupBy(F.col('prediction'), F.col('insult_idx')).count().show()"
   ]
  },
  {
   "cell_type": "markdown",
   "metadata": {},
   "source": [
    "#### Identity Hate Comments"
   ]
  },
  {
   "cell_type": "code",
   "execution_count": 60,
   "metadata": {},
   "outputs": [
    {
     "name": "stdout",
     "output_type": "stream",
     "text": [
      "Test set F1 score for Identity Hate comments = 0.9820934201891338\n",
      "Test set Accuracy score for Identity Hate comments = 0.98388508549814\n",
      "Test set Area under ROC for Identity Hate comments = 0.5879482189876378\n",
      "+----------+-----------------+-----+\n",
      "|prediction|identity_hate_idx|count|\n",
      "+----------+-----------------+-----+\n",
      "|       1.0|              1.0|   66|\n",
      "|       0.0|              1.0|  646|\n",
      "|       1.0|              0.0|  385|\n",
      "|       0.0|              0.0|62881|\n",
      "+----------+-----------------+-----+\n",
      "\n"
     ]
    }
   ],
   "source": [
    "# Identity Hate comments - Resampled dataset (with Bigrams)\n",
    "\n",
    "pipeline_IH4 = Pipeline(stages = [vectorizer_bigram, idf, rf_IH])\n",
    "\n",
    "model_IH4 = pipeline_IH4.fit(df_IH)\n",
    "\n",
    "predictions_IH4 = model_IH4.transform(df_test)\n",
    "\n",
    "predictions_IH4 = predictions_IH4.select('id','comment_text',\n",
    "                                         'rawPrediction','prediction')\n",
    "\n",
    "pred_final_IH4 = predictions_IH4.join(df_eval, \"id\",'inner')\\\n",
    "                                                .select(predictions_IH4.id,\n",
    "                                                predictions_IH4.comment_text,\n",
    "                                                predictions_IH4.rawPrediction,\n",
    "                                                predictions_IH4.prediction, \n",
    "                                                df_eval.identity_hate_idx)\n",
    "\n",
    "pred_final_IH4.cache()\n",
    "\n",
    "evaluator_IH = MulticlassClassificationEvaluator(labelCol=\"identity_hate_idx\", \n",
    "                                              predictionCol=\"prediction\",\n",
    "                                              metricName=\"f1\",metricLabel=1.0)\n",
    "\n",
    "evaluator_IH_A = MulticlassClassificationEvaluator(labelCol=\"identity_hate_idx\", \n",
    "                                              predictionCol=\"prediction\",\n",
    "                                              metricName=\"accuracy\",metricLabel=1.0)\n",
    "\n",
    "evaluator_IH_ROC = BinaryClassificationEvaluator(labelCol=\"identity_hate_idx\", \n",
    "                                              rawPredictionCol=\"rawPrediction\",\n",
    "                                              metricName=\"areaUnderROC\")\n",
    "\n",
    "f1_IH4 = evaluator_IH.evaluate(pred_final_IH4)\n",
    "print(\"Test set F1 score for Identity Hate comments = \" + str(f1_IH4))\n",
    "\n",
    "Acc_IH4 = evaluator_IH_A.evaluate(pred_final_IH4)\n",
    "print(\"Test set Accuracy score for Identity Hate comments = \" + str(Acc_IH4))\n",
    "\n",
    "ROC_IH4 = evaluator_IH_ROC.evaluate(pred_final_IH4)\n",
    "print(\"Test set Area under ROC for Identity Hate comments = \" + str(ROC_IH4))\n",
    "\n",
    "pred_final_IH4.groupBy(F.col('prediction'), F.col('identity_hate_idx')).count().show()"
   ]
  },
  {
   "cell_type": "markdown",
   "metadata": {},
   "source": [
    "### Random Forest - without Bigrams"
   ]
  },
  {
   "cell_type": "markdown",
   "metadata": {},
   "source": [
    "#### Toxic Comments"
   ]
  },
  {
   "cell_type": "code",
   "execution_count": 61,
   "metadata": {},
   "outputs": [
    {
     "name": "stdout",
     "output_type": "stream",
     "text": [
      "Test set F1 score for Toxic comments = 0.7028555699754366\n",
      "Test set Accuracy score for Toxic comments = 0.6261058488855544\n",
      "Test set Area under ROC for Toxic comments = 0.772599146213832\n",
      "+----------+---------+-----+\n",
      "|prediction|toxic_idx|count|\n",
      "+----------+---------+-----+\n",
      "|       1.0|      1.0| 4827|\n",
      "|       0.0|      1.0| 1263|\n",
      "|       1.0|      0.0|22658|\n",
      "|       0.0|      0.0|35230|\n",
      "+----------+---------+-----+\n",
      "\n"
     ]
    }
   ],
   "source": [
    "# Toxic comments - Resampled dataset (w/o Bigrams)\n",
    "\n",
    "pipeline_Tox5 = Pipeline(stages = [vectorizer_unigram, idf, rf_Tox])\n",
    "\n",
    "model_Tox5 = pipeline_Tox5.fit(df_Tox)\n",
    "\n",
    "predictions_Tox5 = model_Tox5.transform(df_test)\n",
    "\n",
    "predictions_Tox5 = predictions_Tox5.select('id','comment_text','probability',\n",
    "                                         'rawPrediction','prediction')\n",
    "\n",
    "pred_final_Tox5 = predictions_Tox5.join(df_eval, \"id\",'inner')\\\n",
    "                                                .select(predictions_Tox5.id,\n",
    "                                                predictions_Tox5.comment_text,\n",
    "                                                predictions_Tox5.probability,\n",
    "                                                predictions_Tox5.rawPrediction,\n",
    "                                                predictions_Tox5.prediction, \n",
    "                                                df_eval.toxic_idx)\n",
    "\n",
    "pred_final_Tox5.cache()\n",
    "\n",
    "evaluator_Tox = MulticlassClassificationEvaluator(labelCol=\"toxic_idx\", \n",
    "                                              predictionCol=\"prediction\",\n",
    "                                              metricName=\"f1\",metricLabel=1.0)\n",
    "\n",
    "evaluator_Tox_A = MulticlassClassificationEvaluator(labelCol=\"toxic_idx\", \n",
    "                                              predictionCol=\"prediction\",\n",
    "                                              metricName=\"accuracy\",metricLabel=1.0)\n",
    "\n",
    "evaluator_Tox_ROC = BinaryClassificationEvaluator(labelCol=\"toxic_idx\", \n",
    "                                              rawPredictionCol=\"rawPrediction\",\n",
    "                                              metricName=\"areaUnderROC\")\n",
    "\n",
    "f1_Tox5 = evaluator_Tox.evaluate(pred_final_Tox5)\n",
    "print(\"Test set F1 score for Toxic comments = \" + str(f1_Tox5))\n",
    "\n",
    "Acc_Tox5 = evaluator_Tox_A.evaluate(pred_final_Tox5)\n",
    "print(\"Test set Accuracy score for Toxic comments = \" + str(Acc_Tox5))\n",
    "\n",
    "ROC_Tox5 = evaluator_Tox_ROC.evaluate(pred_final_Tox5)\n",
    "print(\"Test set Area under ROC for Toxic comments = \" + str(ROC_Tox5))\n",
    "\n",
    "pred_final_Tox5.groupBy(F.col('prediction'), F.col('toxic_idx')).count().show()"
   ]
  },
  {
   "cell_type": "markdown",
   "metadata": {},
   "source": [
    "#### Severe Toxic Comments"
   ]
  },
  {
   "cell_type": "code",
   "execution_count": 62,
   "metadata": {},
   "outputs": [
    {
     "name": "stdout",
     "output_type": "stream",
     "text": [
      "Test set F1 score for Severe Toxic comments = 0.7172532249837906\n",
      "Test set Accuracy score for Severe Toxic comments = 0.5663040420144425\n",
      "Test set Area under ROC for Severe Toxic comments = 0.8742908457086969\n",
      "+----------+----------------+-----+\n",
      "|prediction|severe_toxic_idx|count|\n",
      "+----------+----------------+-----+\n",
      "|       1.0|             1.0|  333|\n",
      "|       0.0|             1.0|   34|\n",
      "|       1.0|             0.0|27713|\n",
      "|       0.0|             0.0|35898|\n",
      "+----------+----------------+-----+\n",
      "\n"
     ]
    }
   ],
   "source": [
    "# Severe Toxic comments - Resampled dataset (w/o Bigrams)\n",
    "\n",
    "pipeline_ST5 = Pipeline(stages = [vectorizer_unigram, idf, rf_ST])\n",
    "\n",
    "model_ST5 = pipeline_ST5.fit(df_ST)\n",
    "\n",
    "predictions_ST5 = model_ST5.transform(df_test)\n",
    "\n",
    "predictions_ST5 = predictions_ST5.select('id','comment_text','probability',\n",
    "                                         'rawPrediction','prediction')\n",
    "\n",
    "pred_final_ST5 = predictions_ST5.join(df_eval, \"id\",'inner')\\\n",
    "                                                .select(predictions_ST5.id,\n",
    "                                                predictions_ST5.comment_text,\n",
    "                                                predictions_ST5.probability,\n",
    "                                                predictions_ST5.rawPrediction,\n",
    "                                                predictions_ST5.prediction, \n",
    "                                                df_eval.severe_toxic_idx)\n",
    "\n",
    "pred_final_ST5.cache()\n",
    "\n",
    "evaluator_ST = MulticlassClassificationEvaluator(labelCol=\"severe_toxic_idx\", \n",
    "                                              predictionCol=\"prediction\",\n",
    "                                              metricName=\"f1\",metricLabel=1.0)\n",
    "\n",
    "evaluator_ST_A = MulticlassClassificationEvaluator(labelCol=\"severe_toxic_idx\", \n",
    "                                              predictionCol=\"prediction\",\n",
    "                                              metricName=\"accuracy\",metricLabel=1.0)\n",
    "\n",
    "evaluator_ST_ROC = BinaryClassificationEvaluator(labelCol=\"severe_toxic_idx\", \n",
    "                                              rawPredictionCol=\"rawPrediction\",\n",
    "                                              metricName=\"areaUnderROC\")\n",
    "\n",
    "f1_ST5 = evaluator_ST.evaluate(pred_final_ST5)\n",
    "print(\"Test set F1 score for Severe Toxic comments = \" + str(f1_ST5))\n",
    "\n",
    "Acc_ST5 = evaluator_ST_A.evaluate(pred_final_ST5)\n",
    "print(\"Test set Accuracy score for Severe Toxic comments = \" + str(Acc_ST5))\n",
    "\n",
    "ROC_ST5 = evaluator_ST_ROC.evaluate(pred_final_ST5)\n",
    "print(\"Test set Area under ROC for Severe Toxic comments = \" + str(ROC_ST5))\n",
    "\n",
    "pred_final_ST5.groupBy(F.col('prediction'), F.col('severe_toxic_idx')).count().show()"
   ]
  },
  {
   "cell_type": "markdown",
   "metadata": {},
   "source": [
    "#### Obscene Comments"
   ]
  },
  {
   "cell_type": "code",
   "execution_count": 63,
   "metadata": {},
   "outputs": [
    {
     "name": "stdout",
     "output_type": "stream",
     "text": [
      "Test set F1 score for Obscene comments = 0.9253734313615962\n",
      "Test set Accuracy score for Obscene comments = 0.9261621182281409\n",
      "Test set Area under ROC for Obscene comments = 0.7928557838419018\n",
      "+----------+-----------+-----+\n",
      "|prediction|obscene_idx|count|\n",
      "+----------+-----------+-----+\n",
      "|       1.0|        1.0| 1247|\n",
      "|       0.0|        1.0| 2444|\n",
      "|       1.0|        0.0| 2280|\n",
      "|       0.0|        0.0|58007|\n",
      "+----------+-----------+-----+\n",
      "\n"
     ]
    }
   ],
   "source": [
    "# Obscene comments - Resampled dataset (w/o Bigrams)\n",
    "\n",
    "pipeline_Ob5 = Pipeline(stages = [vectorizer_unigram, idf, rf_Ob])\n",
    "\n",
    "model_Ob5 = pipeline_Ob5.fit(df_Ob)\n",
    "\n",
    "predictions_Ob5 = model_Ob5.transform(df_test)\n",
    "\n",
    "predictions_Ob5 = predictions_Ob5.select('id','comment_text','probability',\n",
    "                                         'rawPrediction','prediction')\n",
    "\n",
    "pred_final_Ob5 = predictions_Ob5.join(df_eval, \"id\",'inner')\\\n",
    "                                                .select(predictions_Ob5.id,\n",
    "                                                predictions_Ob5.comment_text,\n",
    "                                                predictions_Ob5.probability,\n",
    "                                                predictions_Ob5.rawPrediction,\n",
    "                                                predictions_Ob5.prediction, \n",
    "                                                df_eval.obscene_idx)\n",
    "\n",
    "pred_final_Ob5.cache()\n",
    "\n",
    "evaluator_Ob = MulticlassClassificationEvaluator(labelCol=\"obscene_idx\", \n",
    "                                              predictionCol=\"prediction\",\n",
    "                                              metricName=\"f1\",metricLabel=1.0)\n",
    "\n",
    "evaluator_Ob_A = MulticlassClassificationEvaluator(labelCol=\"obscene_idx\", \n",
    "                                              predictionCol=\"prediction\",\n",
    "                                              metricName=\"accuracy\",metricLabel=1.0)\n",
    "\n",
    "evaluator_Ob_ROC = BinaryClassificationEvaluator(labelCol=\"obscene_idx\", \n",
    "                                              rawPredictionCol=\"rawPrediction\",\n",
    "                                              metricName=\"areaUnderROC\")\n",
    "\n",
    "f1_Ob5 = evaluator_Ob.evaluate(pred_final_Ob5)\n",
    "print(\"Test set F1 score for Obscene comments = \" + str(f1_Ob5))\n",
    "\n",
    "Acc_Ob5 = evaluator_Ob_A.evaluate(pred_final_Ob5)\n",
    "print(\"Test set Accuracy score for Obscene comments = \" + str(Acc_Ob5))\n",
    "\n",
    "ROC_Ob5 = evaluator_Ob_ROC.evaluate(pred_final_Ob5)\n",
    "print(\"Test set Area under ROC for Obscene comments = \" + str(ROC_Ob5))\n",
    "\n",
    "pred_final_Ob5.groupBy(F.col('prediction'), F.col('obscene_idx')).count().show()"
   ]
  },
  {
   "cell_type": "markdown",
   "metadata": {},
   "source": [
    "#### Threat Comments"
   ]
  },
  {
   "cell_type": "code",
   "execution_count": 64,
   "metadata": {},
   "outputs": [
    {
     "name": "stdout",
     "output_type": "stream",
     "text": [
      "Test set F1 score for Threat comments = 0.728527069418962\n",
      "Test set Accuracy score for Threat comments = 0.5772453030729313\n",
      "Test set Area under ROC for Threat comments = 0.9141881094508982\n",
      "+----------+----------+-----+\n",
      "|prediction|threat_idx|count|\n",
      "+----------+----------+-----+\n",
      "|       1.0|       1.0|  202|\n",
      "|       0.0|       1.0|    9|\n",
      "|       1.0|       0.0|27038|\n",
      "|       0.0|       0.0|36729|\n",
      "+----------+----------+-----+\n",
      "\n"
     ]
    }
   ],
   "source": [
    "# Threat comments - Resampled dataset (w/o Bigrams)\n",
    "\n",
    "pipeline_Thr5 = Pipeline(stages = [vectorizer_unigram, idf, rf_Thr])\n",
    "\n",
    "model_Thr5 = pipeline_Thr5.fit(df_Thr)\n",
    "\n",
    "predictions_Thr5 = model_Thr5.transform(df_test)\n",
    "\n",
    "predictions_Thr5 = predictions_Thr5.select('id','comment_text','probability',\n",
    "                                         'rawPrediction','prediction')\n",
    "\n",
    "pred_final_Thr5 = predictions_Thr5.join(df_eval, \"id\",'inner')\\\n",
    "                                                .select(predictions_Thr5.id,\n",
    "                                                predictions_Thr5.comment_text,\n",
    "                                                predictions_Thr5.probability,\n",
    "                                                predictions_Thr5.rawPrediction,\n",
    "                                                predictions_Thr5.prediction, \n",
    "                                                df_eval.threat_idx)\n",
    "\n",
    "pred_final_Thr5.cache()\n",
    "\n",
    "evaluator_Thr = MulticlassClassificationEvaluator(labelCol=\"threat_idx\", \n",
    "                                              predictionCol=\"prediction\",\n",
    "                                              metricName=\"f1\",metricLabel=1.0)\n",
    "\n",
    "evaluator_Thr_A = MulticlassClassificationEvaluator(labelCol=\"threat_idx\", \n",
    "                                              predictionCol=\"prediction\",\n",
    "                                              metricName=\"accuracy\",metricLabel=1.0)\n",
    "\n",
    "evaluator_Thr_ROC = BinaryClassificationEvaluator(labelCol=\"threat_idx\", \n",
    "                                              rawPredictionCol=\"rawPrediction\",\n",
    "                                              metricName=\"areaUnderROC\")\n",
    "\n",
    "f1_Thr5 = evaluator_Thr.evaluate(pred_final_Thr5)\n",
    "print(\"Test set F1 score for Threat comments = \" + str(f1_Thr5))\n",
    "\n",
    "Acc_Thr5 = evaluator_Thr_A.evaluate(pred_final_Thr5)\n",
    "print(\"Test set Accuracy score for Threat comments = \" + str(Acc_Thr5))\n",
    "\n",
    "ROC_Thr5 = evaluator_Thr_ROC.evaluate(pred_final_Thr5)\n",
    "print(\"Test set Area under ROC for Threat comments = \" + str(ROC_Thr5))\n",
    "\n",
    "pred_final_Thr5.groupBy(F.col('prediction'), F.col('threat_idx')).count().show()"
   ]
  },
  {
   "cell_type": "markdown",
   "metadata": {},
   "source": [
    "#### Insult Comments"
   ]
  },
  {
   "cell_type": "code",
   "execution_count": 65,
   "metadata": {},
   "outputs": [
    {
     "name": "stdout",
     "output_type": "stream",
     "text": [
      "Test set F1 score for Insult comments = 0.5482472791269268\n",
      "Test set Accuracy score for Insult comments = 0.4295070180374504\n",
      "Test set Area under ROC for Insult comments = 0.7995923266231935\n",
      "+----------+----------+-----+\n",
      "|prediction|insult_idx|count|\n",
      "+----------+----------+-----+\n",
      "|       1.0|       1.0| 3207|\n",
      "|       0.0|       1.0|  220|\n",
      "|       1.0|       0.0|36279|\n",
      "|       0.0|       0.0|24272|\n",
      "+----------+----------+-----+\n",
      "\n"
     ]
    }
   ],
   "source": [
    "# Insult comments - Resampled dataset (w/o Bigrams)\n",
    "\n",
    "pipeline_Ins5 = Pipeline(stages = [vectorizer_unigram, idf, rf_Ins])\n",
    "\n",
    "model_Ins5 = pipeline_Ins5.fit(df_Ins)\n",
    "\n",
    "predictions_Ins5 = model_Ins5.transform(df_test)\n",
    "\n",
    "predictions_Ins5 = predictions_Ins5.select('id','comment_text','probability',\n",
    "                                         'rawPrediction','prediction')\n",
    "\n",
    "pred_final_Ins5 = predictions_Ins5.join(df_eval, \"id\",'inner')\\\n",
    "                                                .select(predictions_Ins5.id,\n",
    "                                                predictions_Ins5.comment_text,\n",
    "                                                predictions_Ins5.probability,\n",
    "                                                predictions_Ins5.rawPrediction,\n",
    "                                                predictions_Ins5.prediction, \n",
    "                                                df_eval.insult_idx)\n",
    "\n",
    "pred_final_Ins5.cache()\n",
    "\n",
    "evaluator_Ins = MulticlassClassificationEvaluator(labelCol=\"insult_idx\", \n",
    "                                              predictionCol=\"prediction\",\n",
    "                                              metricName=\"f1\",metricLabel=1.0)\n",
    "\n",
    "evaluator_Ins_A = MulticlassClassificationEvaluator(labelCol=\"insult_idx\", \n",
    "                                              predictionCol=\"prediction\",\n",
    "                                              metricName=\"accuracy\",metricLabel=1.0)\n",
    "\n",
    "evaluator_Ins_ROC = BinaryClassificationEvaluator(labelCol=\"insult_idx\", \n",
    "                                              rawPredictionCol=\"rawPrediction\",\n",
    "                                              metricName=\"areaUnderROC\")\n",
    "\n",
    "f1_Ins5 = evaluator_Ins.evaluate(pred_final_Ins5)\n",
    "print(\"Test set F1 score for Insult comments = \" + str(f1_Ins5))\n",
    "\n",
    "Acc_Ins5 = evaluator_Ins_A.evaluate(pred_final_Ins5)\n",
    "print(\"Test set Accuracy score for Insult comments = \" + str(Acc_Ins5))\n",
    "\n",
    "ROC_Ins5 = evaluator_Ins_ROC.evaluate(pred_final_Ins5)\n",
    "print(\"Test set Area under ROC for Insult comments = \" + str(ROC_Ins5))\n",
    "\n",
    "pred_final_Ins5.groupBy(F.col('prediction'), F.col('insult_idx')).count().show()"
   ]
  },
  {
   "cell_type": "markdown",
   "metadata": {},
   "source": [
    "#### Identity Hate Comments"
   ]
  },
  {
   "cell_type": "code",
   "execution_count": 66,
   "metadata": {},
   "outputs": [
    {
     "name": "stdout",
     "output_type": "stream",
     "text": [
      "Test set F1 score for Identity Hate comments = 0.763302574695278\n",
      "Test set Accuracy score for Identity Hate comments = 0.6314826971771547\n",
      "Test set Area under ROC for Identity Hate comments = 0.8943217765759481\n",
      "+----------+-----------------+-----+\n",
      "|prediction|identity_hate_idx|count|\n",
      "+----------+-----------------+-----+\n",
      "|       1.0|              1.0|  641|\n",
      "|       0.0|              1.0|   71|\n",
      "|       1.0|              0.0|23506|\n",
      "|       0.0|              0.0|39760|\n",
      "+----------+-----------------+-----+\n",
      "\n"
     ]
    }
   ],
   "source": [
    "# Identity Hate comments - Resampled dataset (w/o Bigrams)\n",
    "\n",
    "pipeline_IH5 = Pipeline(stages = [vectorizer_unigram, idf, rf_IH])\n",
    "\n",
    "model_IH5 = pipeline_IH5.fit(df_IH)\n",
    "\n",
    "predictions_IH5 = model_IH5.transform(df_test)\n",
    "\n",
    "predictions_IH5  = predictions_IH5.select('id','comment_text','probability',\n",
    "                                         'rawPrediction','prediction')\n",
    "\n",
    "pred_final_IH5 = predictions_IH5.join(df_eval, \"id\",'inner')\\\n",
    "                                                .select(predictions_IH5.id,\n",
    "                                                predictions_IH5.comment_text,\n",
    "                                                predictions_IH5.probability,\n",
    "                                                predictions_IH5.rawPrediction,\n",
    "                                                predictions_IH5.prediction, \n",
    "                                                df_eval.identity_hate_idx)\n",
    "\n",
    "pred_final_IH5.cache()\n",
    "\n",
    "evaluator_IH = MulticlassClassificationEvaluator(labelCol=\"identity_hate_idx\", \n",
    "                                              predictionCol=\"prediction\",\n",
    "                                              metricName=\"f1\",metricLabel=1.0)\n",
    "\n",
    "evaluator_IH_A = MulticlassClassificationEvaluator(labelCol=\"identity_hate_idx\", \n",
    "                                              predictionCol=\"prediction\",\n",
    "                                              metricName=\"accuracy\",metricLabel=1.0)\n",
    "\n",
    "evaluator_IH_ROC = BinaryClassificationEvaluator(labelCol=\"identity_hate_idx\", \n",
    "                                              rawPredictionCol=\"rawPrediction\",\n",
    "                                              metricName=\"areaUnderROC\")\n",
    "\n",
    "f1_IH5 = evaluator_IH.evaluate(pred_final_IH5)\n",
    "print(\"Test set F1 score for Identity Hate comments = \" + str(f1_IH5))\n",
    "\n",
    "Acc_IH5 = evaluator_IH_A.evaluate(pred_final_IH5)\n",
    "print(\"Test set Accuracy score for Identity Hate comments = \" + str(Acc_IH5))\n",
    "\n",
    "ROC_IH5 = evaluator_IH_ROC.evaluate(pred_final_IH5)\n",
    "print(\"Test set Area under ROC for Identity Hate comments = \" + str(ROC_IH5))\n",
    "\n",
    "pred_final_IH5.groupBy(F.col('prediction'), F.col('identity_hate_idx')).count().show()"
   ]
  },
  {
   "cell_type": "markdown",
   "metadata": {},
   "source": [
    "#### Summary Results of Random Forest Resampled datasets (with Bigrams)"
   ]
  },
  {
   "cell_type": "code",
   "execution_count": 67,
   "metadata": {},
   "outputs": [
    {
     "name": "stdout",
     "output_type": "stream",
     "text": [
      "+--------------+----------+--------------+--------------+\n",
      "|      Category|  F1 Score|Accuracy Score|Area under ROC|\n",
      "+--------------+----------+--------------+--------------+\n",
      "|         Toxic| 0.8673781|     0.9040295|     0.5505987|\n",
      "|  Severe Toxic|0.23418929|    0.13836007|     0.6553299|\n",
      "|       Obscene| 0.9213643|      0.942449|    0.56183577|\n",
      "|        Threat|0.08332579|   0.046766076|    0.58714163|\n",
      "|        Insult|0.15770419|    0.13564038|    0.55233675|\n",
      "|Indentity Hate| 0.9820934|     0.9838851|     0.5879482|\n",
      "+--------------+----------+--------------+--------------+\n",
      "\n"
     ]
    }
   ],
   "source": [
    "schema = StructType([\n",
    "StructField(\"Category\", StringType(), False),\n",
    "StructField(\"F1 Score\", FloatType(), False),\n",
    "StructField(\"Accuracy Score\", FloatType(), False),\n",
    "StructField(\"Area under ROC\", FloatType(), False)\n",
    "])\n",
    "\n",
    "stats_RF_Bg = spark.createDataFrame(\n",
    "    [\n",
    "        (\"Toxic\", f1_Tox4, Acc_Tox4, ROC_Tox4),\n",
    "        (\"Severe Toxic\", f1_ST4, Acc_ST4, ROC_ST4),\n",
    "        (\"Obscene\", f1_Ob4, Acc_Ob4, ROC_Ob4),\n",
    "        (\"Threat\", f1_Thr4, Acc_Thr4, ROC_Thr4),\n",
    "        (\"Insult\", f1_Ins4, Acc_Ins4, ROC_Ins4),\n",
    "        (\"Indentity Hate\", f1_IH4, Acc_IH4, ROC_IH4)\n",
    "    ], \n",
    "    schema=schema)\n",
    "\n",
    "stats_RF_Bg.show()"
   ]
  },
  {
   "cell_type": "markdown",
   "metadata": {},
   "source": [
    "#### Summary Results of Random Forest Resampled datasets (w/o Bigrams)"
   ]
  },
  {
   "cell_type": "code",
   "execution_count": 68,
   "metadata": {},
   "outputs": [
    {
     "name": "stdout",
     "output_type": "stream",
     "text": [
      "+--------------+----------+--------------+--------------+\n",
      "|      Category|  F1 Score|Accuracy Score|Area under ROC|\n",
      "+--------------+----------+--------------+--------------+\n",
      "|         Toxic| 0.7028556|    0.62610584|    0.77259916|\n",
      "|  Severe Toxic| 0.7172532|      0.566304|     0.8742908|\n",
      "|       Obscene|0.92537344|     0.9261621|     0.7928558|\n",
      "|        Threat|0.72852707|     0.5772453|     0.9141881|\n",
      "|        Insult| 0.5482473|    0.42950702|     0.7995923|\n",
      "|Indentity Hate|0.76330256|     0.6314827|     0.8943218|\n",
      "+--------------+----------+--------------+--------------+\n",
      "\n"
     ]
    }
   ],
   "source": [
    "schema = StructType([\n",
    "StructField(\"Category\", StringType(), False),\n",
    "StructField(\"F1 Score\", FloatType(), False),\n",
    "StructField(\"Accuracy Score\", FloatType(), False),\n",
    "StructField(\"Area under ROC\", FloatType(), False)\n",
    "])\n",
    "\n",
    "stats_RF = spark.createDataFrame(\n",
    "    [\n",
    "        (\"Toxic\", f1_Tox5, Acc_Tox5, ROC_Tox5),\n",
    "        (\"Severe Toxic\", f1_ST5, Acc_ST5, ROC_ST5),\n",
    "        (\"Obscene\", f1_Ob5, Acc_Ob5, ROC_Ob5),\n",
    "        (\"Threat\", f1_Thr5, Acc_Thr5, ROC_Thr5),\n",
    "        (\"Insult\", f1_Ins5, Acc_Ins5, ROC_Ins5),\n",
    "        (\"Indentity Hate\", f1_IH5, Acc_IH5, ROC_IH5)\n",
    "    ], \n",
    "    schema=schema)\n",
    "\n",
    "stats_RF.show()"
   ]
  },
  {
   "cell_type": "markdown",
   "metadata": {},
   "source": [
    "## Parameter Grid with Cross Validation"
   ]
  },
  {
   "cell_type": "markdown",
   "metadata": {},
   "source": [
    "### Logistic Regression "
   ]
  },
  {
   "cell_type": "markdown",
   "metadata": {},
   "source": [
    "#### Toxic Comments"
   ]
  },
  {
   "cell_type": "code",
   "execution_count": 69,
   "metadata": {},
   "outputs": [
    {
     "name": "stdout",
     "output_type": "stream",
     "text": [
      "Test set F1 score for Toxic comments = 0.7711429980433406\n",
      "Test set Accuracy score for Toxic comments = 0.7121666822970396\n",
      "Test set Area under ROC for Toxic comments = 0.8432997392167054\n",
      "+----------+---------+-----+\n",
      "|prediction|toxic_idx|count|\n",
      "+----------+---------+-----+\n",
      "|       1.0|      1.0| 5250|\n",
      "|       0.0|      1.0|  840|\n",
      "|       1.0|      0.0|17575|\n",
      "|       0.0|      0.0|40313|\n",
      "+----------+---------+-----+\n",
      "\n",
      "Stages: [CountVectorizerModel: uid=CountVectorizer_0d7a79a89368, vocabularySize=60192, IDFModel: uid=IDF_cb5169703451, numDocs=31054, numFeatures=60192, LogisticRegressionModel: uid=LogisticRegression_a8d661509d45, numClasses=2, numFeatures=60192]\n",
      "\n",
      "\n",
      "minDocFreq: minimum number of documents in which a term should appear for filtering (default: 0, current: 3)\n",
      "regParam: regularization parameter (>= 0). (default: 0.0, current: 0.2)\n"
     ]
    }
   ],
   "source": [
    "# Toxic comments - Resampled dataset (w/o Bigrams) - CV\n",
    "\n",
    "pipeline_Tox1 = Pipeline(stages = [vectorizer_unigram, idf, lr_Tox])\n",
    "\n",
    "grid_Tox = ParamGridBuilder().addGrid(idf.minDocFreq, [1,2,3])\\\n",
    "                         .addGrid(lr_Tox.regParam, [0.0, 0.2, 0.5])\\\n",
    "                         .build()\n",
    "\n",
    "evaluator_Tox = MulticlassClassificationEvaluator(labelCol=\"toxic_idx\", \n",
    "                                              predictionCol=\"prediction\",\n",
    "                                              metricName=\"f1\",metricLabel=1.0)\n",
    "\n",
    "evaluator_Tox_A = MulticlassClassificationEvaluator(labelCol=\"toxic_idx\", \n",
    "                                              predictionCol=\"prediction\",\n",
    "                                              metricName=\"accuracy\",metricLabel=1.0)\n",
    "\n",
    "evaluator_Tox_ROC = BinaryClassificationEvaluator(labelCol=\"toxic_idx\", \n",
    "                                              rawPredictionCol=\"rawPrediction\",\n",
    "                                              metricName=\"areaUnderROC\")\n",
    "\n",
    "cv_Tox = CrossValidator(estimator = pipeline_Tox1,\n",
    "                    estimatorParamMaps = grid_Tox,\n",
    "                    evaluator = evaluator_Tox_A,\n",
    "                    numFolds = 5)\n",
    "\n",
    "\n",
    "\n",
    "model_Tox_CV = cv_Tox.fit(df_Tox)\n",
    "\n",
    "predictions_Tox_CV = model_Tox_CV.transform(df_test)\n",
    "\n",
    "predictions_Tox_CV = predictions_Tox_CV.select('id','comment_text','probability',\n",
    "                                         'rawPrediction','prediction')\n",
    "\n",
    "pred_final_Tox_CV = predictions_Tox_CV.join(df_eval, \"id\",'inner')\\\n",
    "                                                .select(predictions_Tox_CV.id,\n",
    "                                                predictions_Tox_CV.comment_text,\n",
    "                                                predictions_Tox_CV.probability,\n",
    "                                                predictions_Tox_CV.rawPrediction,\n",
    "                                                predictions_Tox_CV.prediction, \n",
    "                                                df_eval.toxic_idx)\n",
    "\n",
    "pred_final_Tox_CV.cache()\n",
    "\n",
    "\n",
    "f1_Tox_CV = evaluator_Tox.evaluate(pred_final_Tox_CV)\n",
    "print(\"Test set F1 score for Toxic comments = \" + str(f1_Tox_CV))\n",
    "\n",
    "Acc_Tox_CV = evaluator_Tox_A.evaluate(pred_final_Tox_CV)\n",
    "print(\"Test set Accuracy score for Toxic comments = \" + str(Acc_Tox_CV))\n",
    "\n",
    "ROC_Tox_CV = evaluator_Tox_ROC.evaluate(pred_final_Tox_CV)\n",
    "print(\"Test set Area under ROC for Toxic comments = \" + str(ROC_Tox_CV))\n",
    "\n",
    "pred_final_Tox_CV.groupBy(F.col('prediction'), F.col('toxic_idx')).count().show()\n",
    "\n",
    "# Best Model\n",
    "print(\"Stages: {}\".format(model_Tox_CV.bestModel.stages))\n",
    "print(\"\\n\")\n",
    "print(model_Tox_CV.bestModel.stages[1].explainParam('minDocFreq'))\n",
    "print(model_Tox_CV.bestModel.stages[2].explainParam('regParam'))"
   ]
  },
  {
   "cell_type": "markdown",
   "metadata": {},
   "source": [
    "#### Severe Toxic Comments"
   ]
  },
  {
   "cell_type": "code",
   "execution_count": 70,
   "metadata": {},
   "outputs": [
    {
     "name": "stdout",
     "output_type": "stream",
     "text": [
      "Test set F1 score for Severe Toxic comments = 0.783567937041251\n",
      "Test set Accuracy score for Severe Toxic comments = 0.6518647034918253\n",
      "Test set Area under ROC for Severe Toxic comments = 0.8813344023879501\n",
      "+----------+----------------+-----+\n",
      "|prediction|severe_toxic_idx|count|\n",
      "+----------+----------------+-----+\n",
      "|       1.0|             1.0|  330|\n",
      "|       0.0|             1.0|   37|\n",
      "|       1.0|             0.0|22236|\n",
      "|       0.0|             0.0|41375|\n",
      "+----------+----------------+-----+\n",
      "\n",
      "Stages: [CountVectorizerModel: uid=CountVectorizer_0d7a79a89368, vocabularySize=12305, IDFModel: uid=IDF_cb5169703451, numDocs=3182, numFeatures=12305, LogisticRegressionModel: uid=LogisticRegression_72ef972a4eee, numClasses=2, numFeatures=12305]\n",
      "\n",
      "\n",
      "minDocFreq: minimum number of documents in which a term should appear for filtering (default: 0, current: 3)\n",
      "regParam: regularization parameter (>= 0). (default: 0.0, current: 0.2)\n"
     ]
    }
   ],
   "source": [
    "# Severe Toxic comments - Resampled dataset (w/o Bigrams) - CV\n",
    "\n",
    "pipeline_ST1 = Pipeline(stages = [vectorizer_unigram, idf, lr_ST])\n",
    "\n",
    "grid_ST = ParamGridBuilder().addGrid(idf.minDocFreq, [1,2,3])\\\n",
    "                         .addGrid(lr_ST.regParam, [0.0, 0.2, 0.5])\\\n",
    "                         .build()\n",
    "\n",
    "evaluator_ST = MulticlassClassificationEvaluator(labelCol=\"severe_toxic_idx\", \n",
    "                                              predictionCol=\"prediction\",\n",
    "                                              metricName=\"f1\",metricLabel=1.0)\n",
    "\n",
    "evaluator_ST_A = MulticlassClassificationEvaluator(labelCol=\"severe_toxic_idx\", \n",
    "                                              predictionCol=\"prediction\",\n",
    "                                              metricName=\"accuracy\",metricLabel=1.0)\n",
    "\n",
    "evaluator_ST_ROC = BinaryClassificationEvaluator(labelCol=\"severe_toxic_idx\", \n",
    "                                              rawPredictionCol=\"rawPrediction\",\n",
    "                                              metricName=\"areaUnderROC\")\n",
    "\n",
    "cv_ST = CrossValidator(estimator = pipeline_ST1,\n",
    "                    estimatorParamMaps = grid_ST,\n",
    "                    evaluator = evaluator_ST_A,\n",
    "                    numFolds = 5)\n",
    "\n",
    "\n",
    "model_ST_CV = cv_ST.fit(df_ST)\n",
    "\n",
    "predictions_ST_CV = model_ST_CV.transform(df_test)\n",
    "\n",
    "predictions_ST_CV = predictions_ST_CV.select('id','comment_text','probability',\n",
    "                                         'rawPrediction','prediction')\n",
    "\n",
    "pred_final_ST_CV = predictions_ST_CV.join(df_eval, \"id\",'inner')\\\n",
    "                                                .select(predictions_ST_CV.id,\n",
    "                                                predictions_ST_CV.comment_text,\n",
    "                                                predictions_ST_CV.probability,\n",
    "                                                predictions_ST_CV.rawPrediction,\n",
    "                                                predictions_ST_CV.prediction, \n",
    "                                                df_eval.severe_toxic_idx)\n",
    "\n",
    "pred_final_ST_CV.cache()\n",
    "\n",
    "\n",
    "f1_ST_CV = evaluator_ST.evaluate(pred_final_ST_CV)\n",
    "print(\"Test set F1 score for Severe Toxic comments = \" + str(f1_ST_CV))\n",
    "\n",
    "Acc_ST_CV = evaluator_ST_A.evaluate(pred_final_ST_CV)\n",
    "print(\"Test set Accuracy score for Severe Toxic comments = \" + str(Acc_ST_CV))\n",
    "\n",
    "ROC_ST_CV = evaluator_ST_ROC.evaluate(pred_final_ST_CV)\n",
    "print(\"Test set Area under ROC for Severe Toxic comments = \" + str(ROC_ST_CV))\n",
    "\n",
    "pred_final_ST_CV.groupBy(F.col('prediction'), F.col('severe_toxic_idx')).count().show()\n",
    "\n",
    "\n",
    "# Best Model\n",
    "print(\"Stages: {}\".format(model_ST_CV.bestModel.stages))\n",
    "print(\"\\n\")\n",
    "print(model_ST_CV.bestModel.stages[1].explainParam('minDocFreq'))\n",
    "print(model_ST_CV.bestModel.stages[2].explainParam('regParam'))"
   ]
  },
  {
   "cell_type": "markdown",
   "metadata": {},
   "source": [
    "#### Obscene Comments"
   ]
  },
  {
   "cell_type": "code",
   "execution_count": 71,
   "metadata": {},
   "outputs": [
    {
     "name": "stdout",
     "output_type": "stream",
     "text": [
      "Test set F1 score for Obscene comments = 0.7813630220833163\n",
      "Test set Accuracy score for Obscene comments = 0.7017881146644159\n",
      "Test set Area under ROC for Obscene comments = 0.8438794237356027\n",
      "+----------+-----------+-----+\n",
      "|prediction|obscene_idx|count|\n",
      "+----------+-----------+-----+\n",
      "|       1.0|        1.0| 3167|\n",
      "|       0.0|        1.0|  524|\n",
      "|       1.0|        0.0|18555|\n",
      "|       0.0|        0.0|41732|\n",
      "+----------+-----------+-----+\n",
      "\n",
      "Stages: [CountVectorizerModel: uid=CountVectorizer_0d7a79a89368, vocabularySize=40323, IDFModel: uid=IDF_cb5169703451, numDocs=17440, numFeatures=40323, LogisticRegressionModel: uid=LogisticRegression_073c16979671, numClasses=2, numFeatures=40323]\n",
      "\n",
      "\n",
      "minDocFreq: minimum number of documents in which a term should appear for filtering (default: 0, current: 3)\n",
      "regParam: regularization parameter (>= 0). (default: 0.0, current: 0.2)\n"
     ]
    }
   ],
   "source": [
    "# Obscene comments - Resampled dataset (w/o Bigrams) - CV\n",
    "\n",
    "pipeline_Ob1 = Pipeline(stages = [vectorizer_unigram, idf, lr_Ob])\n",
    "\n",
    "grid_Ob = ParamGridBuilder().addGrid(idf.minDocFreq, [1,2,3])\\\n",
    "                         .addGrid(lr_Ob.regParam, [0.0, 0.2, 0.5])\\\n",
    "                         .build()\n",
    "\n",
    "evaluator_Ob = MulticlassClassificationEvaluator(labelCol=\"obscene_idx\", \n",
    "                                              predictionCol=\"prediction\",\n",
    "                                              metricName=\"f1\",metricLabel=1.0)\n",
    "\n",
    "evaluator_Ob_A = MulticlassClassificationEvaluator(labelCol=\"obscene_idx\", \n",
    "                                              predictionCol=\"prediction\",\n",
    "                                              metricName=\"accuracy\",metricLabel=1.0)\n",
    "\n",
    "evaluator_Ob_ROC = BinaryClassificationEvaluator(labelCol=\"obscene_idx\", \n",
    "                                              rawPredictionCol=\"rawPrediction\",\n",
    "                                              metricName=\"areaUnderROC\")\n",
    "\n",
    "cv_Ob = CrossValidator(estimator = pipeline_Ob1,\n",
    "                    estimatorParamMaps = grid_Ob,\n",
    "                    evaluator = evaluator_Ob_A,\n",
    "                    numFolds = 5)\n",
    "\n",
    "\n",
    "\n",
    "model_Ob_CV = cv_Ob.fit(df_Ob)\n",
    "\n",
    "predictions_Ob_CV = model_Ob_CV.transform(df_test)\n",
    "\n",
    "predictions_Ob_CV = predictions_Ob_CV.select('id','comment_text','probability',\n",
    "                                         'rawPrediction','prediction')\n",
    "\n",
    "pred_final_Ob_CV = predictions_Ob_CV.join(df_eval, \"id\",'inner')\\\n",
    "                                                .select(predictions_Ob_CV.id,\n",
    "                                                predictions_Ob_CV.comment_text,\n",
    "                                                predictions_Ob_CV.probability,\n",
    "                                                predictions_Ob_CV.rawPrediction,\n",
    "                                                predictions_Ob_CV.prediction, \n",
    "                                                df_eval.obscene_idx)\n",
    "\n",
    "pred_final_Ob_CV.cache()\n",
    "\n",
    "\n",
    "f1_Ob_CV = evaluator_Ob.evaluate(pred_final_Ob_CV)\n",
    "print(\"Test set F1 score for Obscene comments = \" + str(f1_Ob_CV))\n",
    "\n",
    "Acc_Ob_CV = evaluator_Ob_A.evaluate(pred_final_Ob_CV)\n",
    "print(\"Test set Accuracy score for Obscene comments = \" + str(Acc_Ob_CV ))\n",
    "\n",
    "ROC_Ob_CV = evaluator_Ob_ROC.evaluate(pred_final_Ob_CV)\n",
    "print(\"Test set Area under ROC for Obscene comments = \" + str(ROC_Ob_CV))\n",
    "\n",
    "pred_final_Ob_CV.groupBy(F.col('prediction'), F.col('obscene_idx')).count().show()\n",
    "\n",
    "# Best Model\n",
    "print(\"Stages: {}\".format(model_Ob_CV.bestModel.stages))\n",
    "print(\"\\n\")\n",
    "print(model_Ob_CV.bestModel.stages[1].explainParam('minDocFreq'))\n",
    "print(model_Ob_CV.bestModel.stages[2].explainParam('regParam'))"
   ]
  },
  {
   "cell_type": "markdown",
   "metadata": {},
   "source": [
    "#### Threat Comments"
   ]
  },
  {
   "cell_type": "code",
   "execution_count": 72,
   "metadata": {},
   "outputs": [
    {
     "name": "stdout",
     "output_type": "stream",
     "text": [
      "Test set F1 score for Threat comments = 0.8432285290683492\n",
      "Test set Accuracy score for Threat comments = 0.7338147488199068\n",
      "Test set Area under ROC for Threat comments = 0.9101421295553419\n",
      "+----------+----------+-----+\n",
      "|prediction|threat_idx|count|\n",
      "+----------+----------+-----+\n",
      "|       1.0|       1.0|  190|\n",
      "|       0.0|       1.0|   21|\n",
      "|       1.0|       0.0|17009|\n",
      "|       0.0|       0.0|46758|\n",
      "+----------+----------+-----+\n",
      "\n",
      "Stages: [CountVectorizerModel: uid=CountVectorizer_0d7a79a89368, vocabularySize=5901, IDFModel: uid=IDF_cb5169703451, numDocs=948, numFeatures=5901, LogisticRegressionModel: uid=LogisticRegression_7b9e4ff03d9b, numClasses=2, numFeatures=5901]\n",
      "\n",
      "\n",
      "minDocFreq: minimum number of documents in which a term should appear for filtering (default: 0, current: 3)\n",
      "regParam: regularization parameter (>= 0). (default: 0.0, current: 0.2)\n"
     ]
    }
   ],
   "source": [
    "# Threat comments - Resampled dataset (w/o Bigrams) - CV\n",
    "\n",
    "pipeline_Thr1 = Pipeline(stages = [vectorizer_unigram, idf, lr_Thr])\n",
    "\n",
    "grid_Thr = ParamGridBuilder().addGrid(idf.minDocFreq, [1,2,3])\\\n",
    "                         .addGrid(lr_Thr.regParam, [0.0, 0.2, 0.5])\\\n",
    "                         .build()\n",
    "\n",
    "evaluator_Thr = MulticlassClassificationEvaluator(labelCol=\"threat_idx\", \n",
    "                                              predictionCol=\"prediction\",\n",
    "                                              metricName=\"f1\",metricLabel=1.0)\n",
    "\n",
    "evaluator_Thr_A = MulticlassClassificationEvaluator(labelCol=\"threat_idx\", \n",
    "                                              predictionCol=\"prediction\",\n",
    "                                              metricName=\"accuracy\",metricLabel=1.0)\n",
    "\n",
    "evaluator_Thr_ROC = BinaryClassificationEvaluator(labelCol=\"threat_idx\", \n",
    "                                              rawPredictionCol=\"rawPrediction\",\n",
    "                                              metricName=\"areaUnderROC\")\n",
    "\n",
    "cv_Thr = CrossValidator(estimator = pipeline_Thr1,\n",
    "                    estimatorParamMaps = grid_Thr,\n",
    "                    evaluator = evaluator_Thr_A,\n",
    "                    numFolds = 5)\n",
    "\n",
    "\n",
    "\n",
    "model_Thr_CV = cv_Thr.fit(df_Thr)\n",
    "\n",
    "predictions_Thr_CV = model_Thr_CV.transform(df_test)\n",
    "\n",
    "predictions_Thr_CV = predictions_Thr_CV.select('id','comment_text','probability',\n",
    "                                         'rawPrediction','prediction')\n",
    "\n",
    "pred_final_Thr_CV = predictions_Thr_CV.join(df_eval, \"id\",'inner')\\\n",
    "                                                .select(predictions_Thr_CV.id,\n",
    "                                                predictions_Thr_CV.comment_text,\n",
    "                                                predictions_Thr_CV.probability,\n",
    "                                                predictions_Thr_CV.rawPrediction,\n",
    "                                                predictions_Thr_CV.prediction, \n",
    "                                                df_eval.threat_idx)\n",
    "\n",
    "pred_final_Thr_CV.cache()\n",
    "\n",
    "\n",
    "f1_Thr_CV = evaluator_Thr.evaluate(pred_final_Thr_CV)\n",
    "print(\"Test set F1 score for Threat comments = \" + str(f1_Thr_CV))\n",
    "\n",
    "Acc_Thr_CV = evaluator_Thr_A.evaluate(pred_final_Thr_CV)\n",
    "print(\"Test set Accuracy score for Threat comments = \" + str(Acc_Thr_CV))\n",
    "\n",
    "ROC_Thr_CV = evaluator_Thr_ROC.evaluate(pred_final_Thr_CV)\n",
    "print(\"Test set Area under ROC for Threat comments = \" + str(ROC_Thr_CV))\n",
    "\n",
    "pred_final_Thr_CV.groupBy(F.col('prediction'), F.col('threat_idx')).count().show()\n",
    "\n",
    "# Best Model\n",
    "print(\"Stages: {}\".format(model_Thr_CV.bestModel.stages))\n",
    "print(\"\\n\")\n",
    "print(model_Thr_CV.bestModel.stages[1].explainParam('minDocFreq'))\n",
    "print(model_Thr_CV.bestModel.stages[2].explainParam('regParam'))"
   ]
  },
  {
   "cell_type": "markdown",
   "metadata": {},
   "source": [
    "#### Insult Comments"
   ]
  },
  {
   "cell_type": "code",
   "execution_count": 73,
   "metadata": {},
   "outputs": [
    {
     "name": "stdout",
     "output_type": "stream",
     "text": [
      "Test set F1 score for Insult comments = 0.7607909518035607\n",
      "Test set Accuracy score for Insult comments = 0.6709493888524181\n",
      "Test set Area under ROC for Insult comments = 0.8605247322255009\n",
      "+----------+----------+-----+\n",
      "|prediction|insult_idx|count|\n",
      "+----------+----------+-----+\n",
      "|       1.0|       1.0| 3077|\n",
      "|       0.0|       1.0|  350|\n",
      "|       1.0|       0.0|20702|\n",
      "|       0.0|       0.0|39849|\n",
      "+----------+----------+-----+\n",
      "\n",
      "Stages: [CountVectorizerModel: uid=CountVectorizer_0d7a79a89368, vocabularySize=36852, IDFModel: uid=IDF_cb5169703451, numDocs=15409, numFeatures=36852, LogisticRegressionModel: uid=LogisticRegression_76320ebf3060, numClasses=2, numFeatures=36852]\n",
      "\n",
      "\n",
      "minDocFreq: minimum number of documents in which a term should appear for filtering (default: 0, current: 3)\n",
      "regParam: regularization parameter (>= 0). (default: 0.0, current: 0.2)\n"
     ]
    }
   ],
   "source": [
    "# Insult comments - Resampled dataset (w/o Bigrams) - CV\n",
    "\n",
    "pipeline_Ins1 = Pipeline(stages = [vectorizer_unigram, idf, lr_Ins])\n",
    "\n",
    "grid_Ins = ParamGridBuilder().addGrid(idf.minDocFreq, [1,2,3])\\\n",
    "                         .addGrid(lr_Ins.regParam, [0.0, 0.2, 0.5])\\\n",
    "                         .build()\n",
    "\n",
    "evaluator_Ins = MulticlassClassificationEvaluator(labelCol=\"insult_idx\", \n",
    "                                              predictionCol=\"prediction\",\n",
    "                                              metricName=\"f1\",metricLabel=1.0)\n",
    "\n",
    "evaluator_Ins_A = MulticlassClassificationEvaluator(labelCol=\"insult_idx\", \n",
    "                                              predictionCol=\"prediction\",\n",
    "                                              metricName=\"accuracy\",metricLabel=1.0)\n",
    "\n",
    "evaluator_Ins_ROC = BinaryClassificationEvaluator(labelCol=\"insult_idx\", \n",
    "                                              rawPredictionCol=\"rawPrediction\",\n",
    "                                              metricName=\"areaUnderROC\")\n",
    "\n",
    "cv_Ins = CrossValidator(estimator = pipeline_Ins1,\n",
    "                    estimatorParamMaps = grid_Ins,\n",
    "                    evaluator = evaluator_Ins_A,\n",
    "                    numFolds = 5)\n",
    "\n",
    "\n",
    "\n",
    "model_Ins_CV = cv_Ins.fit(df_Ins)\n",
    "\n",
    "predictions_Ins_CV = model_Ins_CV.transform(df_test)\n",
    "\n",
    "predictions_Ins_CV = predictions_Ins_CV.select('id','comment_text','probability',\n",
    "                                         'rawPrediction','prediction')\n",
    "\n",
    "pred_final_Ins_CV = predictions_Ins_CV.join(df_eval, \"id\",'inner')\\\n",
    "                                                .select(predictions_Ins_CV.id,\n",
    "                                                predictions_Ins_CV.comment_text,\n",
    "                                                predictions_Ins_CV.probability,\n",
    "                                                predictions_Ins_CV.rawPrediction,\n",
    "                                                predictions_Ins_CV.prediction, \n",
    "                                                df_eval.insult_idx)\n",
    "\n",
    "pred_final_Ins_CV.cache()\n",
    "\n",
    "\n",
    "f1_Ins_CV = evaluator_Ins.evaluate(pred_final_Ins_CV)\n",
    "print(\"Test set F1 score for Insult comments = \" + str(f1_Ins_CV))\n",
    "\n",
    "Acc_Ins_CV = evaluator_Ins_A.evaluate(pred_final_Ins_CV)\n",
    "print(\"Test set Accuracy score for Insult comments = \" + str(Acc_Ins_CV))\n",
    "\n",
    "ROC_Ins_CV = evaluator_Ins_ROC.evaluate(pred_final_Ins_CV)\n",
    "print(\"Test set Area under ROC for Insult comments = \" + str(ROC_Ins_CV))\n",
    "\n",
    "pred_final_Ins_CV.groupBy(F.col('prediction'), F.col('insult_idx')).count().show()\n",
    "\n",
    "# Best Model\n",
    "print(\"Stages: {}\".format(model_Ins_CV.bestModel.stages))\n",
    "print(\"\\n\")\n",
    "print(model_Ins_CV.bestModel.stages[1].explainParam('minDocFreq'))\n",
    "print(model_Ins_CV.bestModel.stages[2].explainParam('regParam'))"
   ]
  },
  {
   "cell_type": "markdown",
   "metadata": {},
   "source": [
    "#### Identity Hate Comments"
   ]
  },
  {
   "cell_type": "code",
   "execution_count": 74,
   "metadata": {},
   "outputs": [
    {
     "name": "stdout",
     "output_type": "stream",
     "text": [
      "Test set F1 score for Identity Hate comments = 0.8181783043509552\n",
      "Test set Accuracy score for Identity Hate comments = 0.7075088311607115\n",
      "Test set Area under ROC for Identity Hate comments = 0.8744727207613149\n",
      "+----------+-----------------+-----+\n",
      "|prediction|identity_hate_idx|count|\n",
      "+----------+-----------------+-----+\n",
      "|       1.0|              1.0|  643|\n",
      "|       0.0|              1.0|   69|\n",
      "|       1.0|              0.0|18644|\n",
      "|       0.0|              0.0|44622|\n",
      "+----------+-----------------+-----+\n",
      "\n",
      "Stages: [CountVectorizerModel: uid=CountVectorizer_0d7a79a89368, vocabularySize=12273, IDFModel: uid=IDF_cb5169703451, numDocs=2827, numFeatures=12273, LogisticRegressionModel: uid=LogisticRegression_354c386c6ea7, numClasses=2, numFeatures=12273]\n",
      "\n",
      "\n",
      "minDocFreq: minimum number of documents in which a term should appear for filtering (default: 0, current: 2)\n",
      "regParam: regularization parameter (>= 0). (default: 0.0, current: 0.2)\n"
     ]
    }
   ],
   "source": [
    "# Identity Hate comments - Resampled dataset (w/o Bigrams) - CV\n",
    "\n",
    "pipeline_IH1 = Pipeline(stages = [vectorizer_unigram, idf, lr_IH])\n",
    "\n",
    "grid_IH = ParamGridBuilder().addGrid(idf.minDocFreq, [1,2,3])\\\n",
    "                         .addGrid(lr_IH.regParam, [0.0, 0.2, 0.5])\\\n",
    "                         .build()\n",
    "\n",
    "evaluator_IH = MulticlassClassificationEvaluator(labelCol=\"identity_hate_idx\", \n",
    "                                              predictionCol=\"prediction\",\n",
    "                                              metricName=\"f1\",metricLabel=1.0)\n",
    "\n",
    "evaluator_IH_A = MulticlassClassificationEvaluator(labelCol=\"identity_hate_idx\", \n",
    "                                              predictionCol=\"prediction\",\n",
    "                                              metricName=\"accuracy\",metricLabel=1.0)\n",
    "\n",
    "evaluator_IH_ROC = BinaryClassificationEvaluator(labelCol=\"identity_hate_idx\", \n",
    "                                              rawPredictionCol=\"rawPrediction\",\n",
    "                                              metricName=\"areaUnderROC\")\n",
    "\n",
    "cv_IH = CrossValidator(estimator = pipeline_IH1,\n",
    "                    estimatorParamMaps = grid_IH,\n",
    "                    evaluator = evaluator_IH_A,\n",
    "                    numFolds = 5)\n",
    "\n",
    "\n",
    "\n",
    "model_IH_CV = cv_IH.fit(df_IH)\n",
    "\n",
    "predictions_IH_CV = model_IH_CV.transform(df_test)\n",
    "\n",
    "predictions_IH_CV = predictions_IH_CV.select('id','comment_text','probability',\n",
    "                                         'rawPrediction','prediction')\n",
    "\n",
    "pred_final_IH_CV = predictions_IH_CV.join(df_eval, \"id\",'inner')\\\n",
    "                                                .select(predictions_IH_CV.id,\n",
    "                                                predictions_IH_CV.comment_text,\n",
    "                                                predictions_IH_CV.probability,\n",
    "                                                predictions_IH_CV.rawPrediction,\n",
    "                                                predictions_IH_CV.prediction, \n",
    "                                                df_eval.identity_hate_idx)\n",
    "\n",
    "pred_final_IH_CV.cache()\n",
    "\n",
    "\n",
    "f1_IH_CV = evaluator_IH.evaluate(pred_final_IH_CV)\n",
    "print(\"Test set F1 score for Identity Hate comments = \" + str(f1_IH_CV))\n",
    "\n",
    "Acc_IH_CV = evaluator_IH_A.evaluate(pred_final_IH_CV)\n",
    "print(\"Test set Accuracy score for Identity Hate comments = \" + str(Acc_IH_CV))\n",
    "\n",
    "ROC_IH_CV = evaluator_IH_ROC.evaluate(pred_final_IH_CV)\n",
    "print(\"Test set Area under ROC for Identity Hate comments = \" + str(ROC_IH_CV))\n",
    "\n",
    "pred_final_IH_CV.groupBy(F.col('prediction'), F.col('identity_hate_idx')).count().show()\n",
    "\n",
    "# Best Model\n",
    "print(\"Stages: {}\".format(model_IH_CV.bestModel.stages))\n",
    "print(\"\\n\")\n",
    "print(model_IH_CV.bestModel.stages[1].explainParam('minDocFreq'))\n",
    "print(model_IH_CV.bestModel.stages[2].explainParam('regParam'))"
   ]
  },
  {
   "cell_type": "markdown",
   "metadata": {},
   "source": [
    "#### Final DataFrame with predictions"
   ]
  },
  {
   "cell_type": "code",
   "execution_count": 75,
   "metadata": {},
   "outputs": [
    {
     "name": "stdout",
     "output_type": "stream",
     "text": [
      "+----------------+--------------------+-----+------------+-------+------+------+-------------+\n",
      "|              id|        comment_text|Toxic|Severe_Toxic|Obscene|Threat|Insult|Identity Hate|\n",
      "+----------------+--------------------+-----+------------+-------+------+------+-------------+\n",
      "|000968ce11f5ee34|Please stop. If y...|  1.0|         1.0|    1.0|   0.0|   1.0|          1.0|\n",
      "|00491682330fdd1d|\" \n",
      "\n",
      " == Revision ...|  0.0|         0.0|    0.0|   0.0|   0.0|          0.0|\n",
      "|008eb47c4684d190|\" \n",
      "\n",
      " So, on the t...|  1.0|         0.0|    1.0|   0.0|   1.0|          0.0|\n",
      "|00d251f47486b6d2|::::Whether you c...|  0.0|         0.0|    0.0|   0.0|   0.0|          0.0|\n",
      "|0114ae82c53101a9|Rabby Ahmed Musa:...|  1.0|         1.0|    1.0|   1.0|   1.0|          1.0|\n",
      "+----------------+--------------------+-----+------------+-------+------+------+-------------+\n",
      "only showing top 5 rows\n",
      "\n"
     ]
    }
   ],
   "source": [
    "results = predictions_Tox_CV.join(predictions_ST_CV, \"id\",'inner')\\\n",
    "                        .join(predictions_Ob_CV, \"id\",'inner')\\\n",
    "                        .join(predictions_Thr_CV, \"id\",'inner')\\\n",
    "                        .join(predictions_Ins_CV, \"id\",'inner')\\\n",
    "                        .join(predictions_IH_CV, \"id\",'inner')\\\n",
    "                        .select(\n",
    "                                predictions_Tox_CV.id,\n",
    "                                predictions_Tox_CV.comment_text,\n",
    "                                predictions_Tox_CV.prediction.alias(\"Toxic\"),\n",
    "                                predictions_ST_CV.prediction.alias(\"Severe_Toxic\"),\n",
    "                                predictions_Ob_CV.prediction.alias(\"Obscene\"),\n",
    "                                predictions_Thr_CV.prediction.alias(\"Threat\"),\n",
    "                                predictions_Ins_CV.prediction.alias(\"Insult\"),\n",
    "                                predictions_IH_CV.prediction.alias(\"Identity Hate\"))\n",
    "\n",
    "results.show(5)"
   ]
  },
  {
   "cell_type": "markdown",
   "metadata": {},
   "source": [
    "### Linear SVC"
   ]
  },
  {
   "cell_type": "markdown",
   "metadata": {},
   "source": [
    "#### Toxic Comments"
   ]
  },
  {
   "cell_type": "code",
   "execution_count": 76,
   "metadata": {},
   "outputs": [
    {
     "name": "stdout",
     "output_type": "stream",
     "text": [
      "Test set F1 score for Toxic comments = 0.8599351541684027\n",
      "Test set Accuracy score for Toxic comments = 0.8297696083028541\n",
      "Test set Area under ROC for Toxic comments = 0.9258976225876646\n",
      "+----------+---------+-----+\n",
      "|prediction|toxic_idx|count|\n",
      "+----------+---------+-----+\n",
      "|       1.0|      1.0| 5579|\n",
      "|       0.0|      1.0|  511|\n",
      "|       1.0|      0.0|10380|\n",
      "|       0.0|      0.0|47508|\n",
      "+----------+---------+-----+\n",
      "\n",
      "Stages: [CountVectorizerModel: uid=CountVectorizer_0d7a79a89368, vocabularySize=60192, IDFModel: uid=IDF_cb5169703451, numDocs=31054, numFeatures=60192, LinearSVCModel: uid=LinearSVC_3a6dfa475ed3, numClasses=2, numFeatures=60192]\n",
      "\n",
      "\n",
      "minDocFreq: minimum number of documents in which a term should appear for filtering (default: 0, current: 2)\n",
      "regParam: regularization parameter (>= 0). (default: 0.0, current: 0.0)\n"
     ]
    }
   ],
   "source": [
    "# Toxic comments - Resampled dataset (w/o Bigrams) - CV\n",
    "\n",
    "pipeline_Tox3 = Pipeline(stages = [vectorizer_unigram, idf, svm_Tox])\n",
    "\n",
    "grid_Tox1 = ParamGridBuilder()\\\n",
    "             .addGrid(idf.minDocFreq, [1,2,3])\\\n",
    "             .addGrid(svm_Tox.regParam, [0.0, 0.2, 0.5])\\\n",
    "             .build()\n",
    "\n",
    "evaluator_Tox = MulticlassClassificationEvaluator(labelCol=\"toxic_idx\", \n",
    "                                              predictionCol=\"prediction\",\n",
    "                                              metricName=\"f1\",metricLabel=1.0)\n",
    "\n",
    "evaluator_Tox_A = MulticlassClassificationEvaluator(labelCol=\"toxic_idx\", \n",
    "                                              predictionCol=\"prediction\",\n",
    "                                              metricName=\"accuracy\",metricLabel=1.0)\n",
    "\n",
    "evaluator_Tox_ROC = BinaryClassificationEvaluator(labelCol=\"toxic_idx\", \n",
    "                                              rawPredictionCol=\"rawPrediction\",\n",
    "                                              metricName=\"areaUnderROC\")\n",
    "\n",
    "cv_Tox1 = CrossValidator(estimator = pipeline_Tox3,\n",
    "                            estimatorParamMaps = grid_Tox1,\n",
    "                            evaluator = evaluator_Tox_A,\n",
    "                            numFolds = 5)\n",
    "\n",
    "\n",
    "model_Tox_CV1 = cv_Tox1.fit(df_Tox)\n",
    "\n",
    "predictions_Tox_CV1 = model_Tox_CV1.transform(df_test)\n",
    "\n",
    "predictions_Tox_CV1 = predictions_Tox_CV1.select('id','comment_text',\n",
    "                                         'rawPrediction','prediction')\n",
    "\n",
    "pred_final_Tox_CV1 = predictions_Tox_CV1.join(df_eval, \"id\",'inner')\\\n",
    "                                                .select(predictions_Tox_CV1.id,\n",
    "                                                predictions_Tox_CV1.comment_text,\n",
    "                                                predictions_Tox_CV1.rawPrediction,\n",
    "                                                predictions_Tox_CV1.prediction, \n",
    "                                                df_eval.toxic_idx)\n",
    "\n",
    "pred_final_Tox_CV1.cache()\n",
    "\n",
    "\n",
    "f1_Tox_CV1 = evaluator_Tox.evaluate(pred_final_Tox_CV1)\n",
    "print(\"Test set F1 score for Toxic comments = \" + str(f1_Tox_CV1))\n",
    "\n",
    "Acc_Tox_CV1 = evaluator_Tox_A.evaluate(pred_final_Tox_CV1)\n",
    "print(\"Test set Accuracy score for Toxic comments = \" + str(Acc_Tox_CV1))\n",
    "\n",
    "ROC_Tox_CV1 = evaluator_Tox_ROC.evaluate(pred_final_Tox_CV1)\n",
    "print(\"Test set Area under ROC for Toxic comments = \" + str(ROC_Tox_CV1))\n",
    "\n",
    "pred_final_Tox_CV1.groupBy(F.col('prediction'), F.col('toxic_idx')).count().show()\n",
    "\n",
    "# Best Model\n",
    "print(\"Stages: {}\".format(model_Tox_CV1.bestModel.stages))\n",
    "print(\"\\n\")\n",
    "print(model_Tox_CV1.bestModel.stages[1].explainParam('minDocFreq'))\n",
    "print(model_Tox_CV1.bestModel.stages[2].explainParam('regParam'))"
   ]
  },
  {
   "cell_type": "markdown",
   "metadata": {},
   "source": [
    "#### Severe Toxic Comments"
   ]
  },
  {
   "cell_type": "code",
   "execution_count": 77,
   "metadata": {},
   "outputs": [
    {
     "name": "stdout",
     "output_type": "stream",
     "text": [
      "Test set F1 score for Severe Toxic comments = 0.8654884663397234\n",
      "Test set Accuracy score for Severe Toxic comments = 0.7714683172340492\n",
      "Test set Area under ROC for Severe Toxic comments = 0.921385548581064\n",
      "+----------+----------------+-----+\n",
      "|prediction|severe_toxic_idx|count|\n",
      "+----------+----------------+-----+\n",
      "|       1.0|             1.0|  333|\n",
      "|       0.0|             1.0|   34|\n",
      "|       1.0|             0.0|14587|\n",
      "|       0.0|             0.0|49024|\n",
      "+----------+----------------+-----+\n",
      "\n",
      "Stages: [CountVectorizerModel: uid=CountVectorizer_0d7a79a89368, vocabularySize=12305, IDFModel: uid=IDF_cb5169703451, numDocs=3182, numFeatures=12305, LinearSVCModel: uid=LinearSVC_ee0efd784411, numClasses=2, numFeatures=12305]\n",
      "\n",
      "\n",
      "minDocFreq: minimum number of documents in which a term should appear for filtering (default: 0, current: 3)\n",
      "regParam: regularization parameter (>= 0). (default: 0.0, current: 0.0)\n"
     ]
    }
   ],
   "source": [
    "# Severe Toxic comments - Resampled dataset (w/o Bigrams) - CV\n",
    "\n",
    "pipeline_ST3 = Pipeline(stages = [vectorizer_unigram, idf, svm_ST])\n",
    "\n",
    "grid_ST1 = ParamGridBuilder().addGrid(idf.minDocFreq, [1,2,3])\\\n",
    "                         .addGrid(svm_ST.regParam, [0.0, 0.2, 0.5])\\\n",
    "                         .build()\n",
    "\n",
    "evaluator_ST = MulticlassClassificationEvaluator(labelCol=\"severe_toxic_idx\", \n",
    "                                              predictionCol=\"prediction\",\n",
    "                                              metricName=\"f1\",metricLabel=1.0)\n",
    "\n",
    "evaluator_ST_A = MulticlassClassificationEvaluator(labelCol=\"severe_toxic_idx\", \n",
    "                                              predictionCol=\"prediction\",\n",
    "                                              metricName=\"accuracy\",metricLabel=1.0)\n",
    "\n",
    "evaluator_ST_ROC = BinaryClassificationEvaluator(labelCol=\"severe_toxic_idx\", \n",
    "                                              rawPredictionCol=\"rawPrediction\",\n",
    "                                              metricName=\"areaUnderROC\")\n",
    "\n",
    "cv_ST1 = CrossValidator(estimator = pipeline_ST3,\n",
    "                    estimatorParamMaps = grid_ST1,\n",
    "                    evaluator = evaluator_ST_A,\n",
    "                    numFolds = 5)\n",
    "\n",
    "\n",
    "\n",
    "model_ST_CV1 = cv_ST1.fit(df_ST)\n",
    "\n",
    "predictions_ST_CV1 = model_ST_CV1.transform(df_test)\n",
    "\n",
    "predictions_ST_CV1 = predictions_ST_CV1.select('id','comment_text',\n",
    "                                         'rawPrediction','prediction')\n",
    "\n",
    "pred_final_ST_CV1 = predictions_ST_CV1.join(df_eval, \"id\",'inner')\\\n",
    "                                                .select(predictions_ST_CV1.id,\n",
    "                                                predictions_ST_CV1.comment_text,\n",
    "                                                predictions_ST_CV1.rawPrediction,\n",
    "                                                predictions_ST_CV1.prediction, \n",
    "                                                df_eval.severe_toxic_idx)\n",
    "\n",
    "pred_final_ST_CV1.cache()\n",
    "\n",
    "\n",
    "f1_ST_CV1 = evaluator_ST.evaluate(pred_final_ST_CV1)\n",
    "print(\"Test set F1 score for Severe Toxic comments = \" + str(f1_ST_CV1))\n",
    "\n",
    "Acc_ST_CV1 = evaluator_ST_A.evaluate(pred_final_ST_CV1)\n",
    "print(\"Test set Accuracy score for Severe Toxic comments = \" + str(Acc_ST_CV1))\n",
    "\n",
    "ROC_ST_CV1 = evaluator_ST_ROC.evaluate(pred_final_ST_CV1)\n",
    "print(\"Test set Area under ROC for Severe Toxic comments = \" + str(ROC_ST_CV1))\n",
    "\n",
    "pred_final_ST_CV1.groupBy(F.col('prediction'), F.col('severe_toxic_idx')).count().show()\n",
    "\n",
    "# Best Model\n",
    "print(\"Stages: {}\".format(model_ST_CV1.bestModel.stages))\n",
    "print(\"\\n\")\n",
    "print(model_ST_CV1.bestModel.stages[1].explainParam('minDocFreq'))\n",
    "print(model_ST_CV1.bestModel.stages[2].explainParam('regParam'))"
   ]
  },
  {
   "cell_type": "markdown",
   "metadata": {},
   "source": [
    "#### Obscene Comments"
   ]
  },
  {
   "cell_type": "code",
   "execution_count": 78,
   "metadata": {},
   "outputs": [
    {
     "name": "stdout",
     "output_type": "stream",
     "text": [
      "Test set F1 score for Obscene comments = 0.9040341872045804\n",
      "Test set Accuracy score for Obscene comments = 0.8781299821813748\n",
      "Test set Area under ROC for Obscene comments = 0.9452758993503434\n",
      "+----------+-----------+-----+\n",
      "|prediction|obscene_idx|count|\n",
      "+----------+-----------+-----+\n",
      "|       1.0|        1.0| 3293|\n",
      "|       0.0|        1.0|  398|\n",
      "|       1.0|        0.0| 7399|\n",
      "|       0.0|        0.0|52888|\n",
      "+----------+-----------+-----+\n",
      "\n",
      "Stages: [CountVectorizerModel: uid=CountVectorizer_0d7a79a89368, vocabularySize=40323, IDFModel: uid=IDF_cb5169703451, numDocs=17440, numFeatures=40323, LinearSVCModel: uid=LinearSVC_99f04c4e6d08, numClasses=2, numFeatures=40323]\n",
      "\n",
      "\n",
      "minDocFreq: minimum number of documents in which a term should appear for filtering (default: 0, current: 1)\n",
      "regParam: regularization parameter (>= 0). (default: 0.0, current: 0.0)\n"
     ]
    }
   ],
   "source": [
    "# Obscene comments - Resampled dataset (w/o Bigrams) - CV\n",
    "\n",
    "pipeline_Ob3 = Pipeline(stages = [vectorizer_unigram, idf, svm_Ob])\n",
    "\n",
    "grid_Ob1 = ParamGridBuilder().addGrid(idf.minDocFreq, [1,2,3])\\\n",
    "                         .addGrid(svm_Ob.regParam, [0.0, 0.2, 0.5])\\\n",
    "                         .build()\n",
    "\n",
    "evaluator_Ob = MulticlassClassificationEvaluator(labelCol=\"obscene_idx\", \n",
    "                                              predictionCol=\"prediction\",\n",
    "                                              metricName=\"f1\",metricLabel=1.0)\n",
    "\n",
    "evaluator_Ob_A = MulticlassClassificationEvaluator(labelCol=\"obscene_idx\", \n",
    "                                              predictionCol=\"prediction\",\n",
    "                                              metricName=\"accuracy\",metricLabel=1.0)\n",
    "\n",
    "evaluator_Ob_ROC = BinaryClassificationEvaluator(labelCol=\"obscene_idx\", \n",
    "                                              rawPredictionCol=\"rawPrediction\",\n",
    "                                              metricName=\"areaUnderROC\")\n",
    "\n",
    "cv_Ob1 = CrossValidator(estimator = pipeline_Ob3,\n",
    "                    estimatorParamMaps = grid_Ob1,\n",
    "                    evaluator = evaluator_Ob_A,\n",
    "                    numFolds = 5)\n",
    "\n",
    "\n",
    "\n",
    "model_Ob_CV1 = cv_Ob1.fit(df_Ob)\n",
    "\n",
    "predictions_Ob_CV1 = model_Ob_CV1.transform(df_test)\n",
    "\n",
    "predictions_Ob_CV1 = predictions_Ob_CV1.select('id','comment_text',\n",
    "                                         'rawPrediction','prediction')\n",
    "\n",
    "pred_final_Ob_CV1 = predictions_Ob_CV1.join(df_eval, \"id\",'inner')\\\n",
    "                                                .select(predictions_Ob_CV1.id,\n",
    "                                                predictions_Ob_CV1.comment_text,\n",
    "                                                predictions_Ob_CV1.rawPrediction,\n",
    "                                                predictions_Ob_CV1.prediction, \n",
    "                                                df_eval.obscene_idx)\n",
    "\n",
    "pred_final_Ob_CV1.cache()\n",
    "\n",
    "f1_Ob_CV1 = evaluator_Ob.evaluate(pred_final_Ob_CV1)\n",
    "print(\"Test set F1 score for Obscene comments = \" + str(f1_Ob_CV1))\n",
    "\n",
    "Acc_Ob_CV1 = evaluator_Ob_A.evaluate(pred_final_Ob_CV1)\n",
    "print(\"Test set Accuracy score for Obscene comments = \" + str(Acc_Ob_CV1))\n",
    "\n",
    "ROC_Ob_CV1 = evaluator_Ob_ROC.evaluate(pred_final_Ob_CV1)\n",
    "print(\"Test set Area under ROC for Obscene comments = \" + str(ROC_Ob_CV1))\n",
    "\n",
    "pred_final_Ob_CV1.groupBy(F.col('prediction'), F.col('obscene_idx')).count().show()\n",
    "\n",
    "# Best Model\n",
    "print(\"Stages: {}\".format(model_Ob_CV1.bestModel.stages))\n",
    "print(\"\\n\")\n",
    "print(model_Ob_CV1.bestModel.stages[1].explainParam('minDocFreq'))\n",
    "print(model_Ob_CV1.bestModel.stages[2].explainParam('regParam'))"
   ]
  },
  {
   "cell_type": "markdown",
   "metadata": {},
   "source": [
    "#### Threat Comments"
   ]
  },
  {
   "cell_type": "code",
   "execution_count": 79,
   "metadata": {},
   "outputs": [
    {
     "name": "stdout",
     "output_type": "stream",
     "text": [
      "Test set F1 score for Threat comments = 0.8600266327848047\n",
      "Test set Accuracy score for Threat comments = 0.7594485604426522\n",
      "Test set Area under ROC for Threat comments = 0.9529225437662315\n",
      "+----------+----------+-----+\n",
      "|prediction|threat_idx|count|\n",
      "+----------+----------+-----+\n",
      "|       1.0|       1.0|  202|\n",
      "|       0.0|       1.0|    9|\n",
      "|       1.0|       0.0|15381|\n",
      "|       0.0|       0.0|48386|\n",
      "+----------+----------+-----+\n",
      "\n",
      "Stages: [CountVectorizerModel: uid=CountVectorizer_0d7a79a89368, vocabularySize=5901, IDFModel: uid=IDF_cb5169703451, numDocs=948, numFeatures=5901, LinearSVCModel: uid=LinearSVC_393cac2eb97e, numClasses=2, numFeatures=5901]\n",
      "\n",
      "\n",
      "minDocFreq: minimum number of documents in which a term should appear for filtering (default: 0, current: 3)\n",
      "regParam: regularization parameter (>= 0). (default: 0.0, current: 0.0)\n"
     ]
    }
   ],
   "source": [
    "# Threat comments - Resampled dataset (w/o Bigrams) - CV\n",
    "\n",
    "pipeline_Thr3 = Pipeline(stages = [vectorizer_unigram, idf, svm_Thr])\n",
    "\n",
    "grid_Thr1 = ParamGridBuilder().addGrid(idf.minDocFreq, [1,2,3])\\\n",
    "                         .addGrid(svm_Thr.regParam, [0.0, 0.2, 0.5])\\\n",
    "                         .build()\n",
    "\n",
    "evaluator_Thr = MulticlassClassificationEvaluator(labelCol=\"threat_idx\", \n",
    "                                              predictionCol=\"prediction\",\n",
    "                                              metricName=\"f1\",metricLabel=1.0)\n",
    "\n",
    "evaluator_Thr_A = MulticlassClassificationEvaluator(labelCol=\"threat_idx\", \n",
    "                                              predictionCol=\"prediction\",\n",
    "                                              metricName=\"accuracy\",metricLabel=1.0)\n",
    "\n",
    "evaluator_Thr_ROC = BinaryClassificationEvaluator(labelCol=\"threat_idx\", \n",
    "                                              rawPredictionCol=\"rawPrediction\",\n",
    "                                              metricName=\"areaUnderROC\")\n",
    "\n",
    "cv_Thr1 = CrossValidator(estimator = pipeline_Thr3,\n",
    "                    estimatorParamMaps = grid_Thr1,\n",
    "                    evaluator = evaluator_Thr_A,\n",
    "                    numFolds = 5)\n",
    "\n",
    "model_Thr_CV1 = cv_Thr1.fit(df_Thr)\n",
    "\n",
    "predictions_Thr_CV1 = model_Thr_CV1.transform(df_test)\n",
    "\n",
    "predictions_Thr_CV1 = predictions_Thr_CV1.select('id','comment_text',\n",
    "                                         'rawPrediction','prediction')\n",
    "\n",
    "pred_final_Thr_CV1 = predictions_Thr_CV1.join(df_eval, \"id\",'inner')\\\n",
    "                                                .select(predictions_Thr_CV1.id,\n",
    "                                                predictions_Thr_CV1.comment_text,\n",
    "                                                predictions_Thr_CV1.rawPrediction,\n",
    "                                                predictions_Thr_CV1.prediction, \n",
    "                                                df_eval.threat_idx)\n",
    "\n",
    "pred_final_Thr_CV1.cache()\n",
    "\n",
    "\n",
    "f1_Thr_CV1 = evaluator_Thr.evaluate(pred_final_Thr_CV1)\n",
    "print(\"Test set F1 score for Threat comments = \" + str(f1_Thr_CV1))\n",
    "\n",
    "Acc_Thr_CV1 = evaluator_Thr_A.evaluate(pred_final_Thr_CV1)\n",
    "print(\"Test set Accuracy score for Threat comments = \" + str(Acc_Thr_CV1))\n",
    "\n",
    "ROC_Thr_CV1 = evaluator_Thr_ROC.evaluate(pred_final_Thr_CV1)\n",
    "print(\"Test set Area under ROC for Threat comments = \" + str(ROC_Thr_CV1))\n",
    "\n",
    "pred_final_Thr_CV1.groupBy(F.col('prediction'), F.col('threat_idx')).count().show()\n",
    "\n",
    "# Best Model\n",
    "print(\"Stages: {}\".format(model_Thr_CV1.bestModel.stages))\n",
    "print(\"\\n\")\n",
    "print(model_Thr_CV1.bestModel.stages[1].explainParam('minDocFreq'))\n",
    "print(model_Thr_CV1.bestModel.stages[2].explainParam('regParam'))"
   ]
  },
  {
   "cell_type": "markdown",
   "metadata": {},
   "source": [
    "#### Insult Comments"
   ]
  },
  {
   "cell_type": "code",
   "execution_count": 80,
   "metadata": {},
   "outputs": [
    {
     "name": "stdout",
     "output_type": "stream",
     "text": [
      "Test set F1 score for Insult comments = 0.8746895179040358\n",
      "Test set Accuracy score for Insult comments = 0.8326612272968833\n",
      "Test set Area under ROC for Insult comments = 0.925172124579878\n",
      "+----------+----------+-----+\n",
      "|prediction|insult_idx|count|\n",
      "+----------+----------+-----+\n",
      "|       1.0|       1.0| 3039|\n",
      "|       0.0|       1.0|  388|\n",
      "|       1.0|       0.0|10318|\n",
      "|       0.0|       0.0|50233|\n",
      "+----------+----------+-----+\n",
      "\n",
      "Stages: [CountVectorizerModel: uid=CountVectorizer_0d7a79a89368, vocabularySize=36852, IDFModel: uid=IDF_cb5169703451, numDocs=15409, numFeatures=36852, LinearSVCModel: uid=LinearSVC_8dacd05f9f0f, numClasses=2, numFeatures=36852]\n",
      "\n",
      "\n",
      "minDocFreq: minimum number of documents in which a term should appear for filtering (default: 0, current: 3)\n",
      "regParam: regularization parameter (>= 0). (default: 0.0, current: 0.0)\n"
     ]
    }
   ],
   "source": [
    "# Insult comments - Resampled dataset (w/o Bigrams) - CV\n",
    "\n",
    "pipeline_Ins3 = Pipeline(stages = [vectorizer_unigram, idf, svm_Ins])\n",
    "\n",
    "grid_Ins1 = ParamGridBuilder().addGrid(idf.minDocFreq, [1,2,3])\\\n",
    "                         .addGrid(svm_Ins.regParam, [0.0, 0.2, 0.5])\\\n",
    "                         .build()\n",
    "\n",
    "evaluator_Ins = MulticlassClassificationEvaluator(labelCol=\"insult_idx\", \n",
    "                                              predictionCol=\"prediction\",\n",
    "                                              metricName=\"f1\",metricLabel=1.0)\n",
    "\n",
    "evaluator_Ins_A = MulticlassClassificationEvaluator(labelCol=\"insult_idx\", \n",
    "                                              predictionCol=\"prediction\",\n",
    "                                              metricName=\"accuracy\",metricLabel=1.0)\n",
    "\n",
    "evaluator_Ins_ROC = BinaryClassificationEvaluator(labelCol=\"insult_idx\", \n",
    "                                              rawPredictionCol=\"rawPrediction\",\n",
    "                                              metricName=\"areaUnderROC\")\n",
    "\n",
    "cv_Ins1 = CrossValidator(estimator = pipeline_Ins3,\n",
    "                    estimatorParamMaps = grid_Ins1,\n",
    "                    evaluator = evaluator_Ins_A,\n",
    "                    numFolds = 5)\n",
    "\n",
    "\n",
    "model_Ins_CV1 = cv_Ins1.fit(df_Ins)\n",
    "\n",
    "predictions_Ins_CV1 = model_Ins_CV1.transform(df_test)\n",
    "\n",
    "predictions_Ins_CV1 = predictions_Ins_CV1.select('id','comment_text',\n",
    "                                         'rawPrediction','prediction')\n",
    "\n",
    "pred_final_Ins_CV1 = predictions_Ins_CV1.join(df_eval, \"id\",'inner')\\\n",
    "                                                .select(predictions_Ins_CV1.id,\n",
    "                                                predictions_Ins_CV1.comment_text,\n",
    "                                                predictions_Ins_CV1.rawPrediction,\n",
    "                                                predictions_Ins_CV1.prediction, \n",
    "                                                df_eval.insult_idx)\n",
    "\n",
    "pred_final_Ins_CV1.cache()\n",
    "\n",
    "\n",
    "f1_Ins_CV1 = evaluator_Ins.evaluate(pred_final_Ins_CV1)\n",
    "print(\"Test set F1 score for Insult comments = \" + str(f1_Ins_CV1))\n",
    "\n",
    "Acc_Ins_CV1 = evaluator_Ins_A.evaluate(pred_final_Ins_CV1)\n",
    "print(\"Test set Accuracy score for Insult comments = \" + str(Acc_Ins_CV1))\n",
    "\n",
    "ROC_Ins_CV1 = evaluator_Ins_ROC.evaluate(pred_final_Ins_CV1)\n",
    "print(\"Test set Area under ROC for Insult comments = \" + str(ROC_Ins_CV1))\n",
    "\n",
    "pred_final_Ins_CV1.groupBy(F.col('prediction'), F.col('insult_idx')).count().show()\n",
    "\n",
    "# Best Model\n",
    "print(\"Stages: {}\".format(model_Ins_CV1.bestModel.stages))\n",
    "print(\"\\n\")\n",
    "print(model_Ins_CV1.bestModel.stages[1].explainParam('minDocFreq'))\n",
    "print(model_Ins_CV1.bestModel.stages[2].explainParam('regParam'))"
   ]
  },
  {
   "cell_type": "markdown",
   "metadata": {},
   "source": [
    "#### Identity Hate Comments"
   ]
  },
  {
   "cell_type": "code",
   "execution_count": 81,
   "metadata": {},
   "outputs": [
    {
     "name": "stdout",
     "output_type": "stream",
     "text": [
      "Test set F1 score for Identity Hate comments = 0.862098672313658\n",
      "Test set Accuracy score for Identity Hate comments = 0.7736096783269248\n",
      "Test set Area under ROC for Identity Hate comments = 0.9240842437335177\n",
      "+----------+-----------------+-----+\n",
      "|prediction|identity_hate_idx|count|\n",
      "+----------+-----------------+-----+\n",
      "|       1.0|              1.0|  653|\n",
      "|       0.0|              1.0|   59|\n",
      "|       1.0|              0.0|14425|\n",
      "|       0.0|              0.0|48841|\n",
      "+----------+-----------------+-----+\n",
      "\n",
      "Stages: [CountVectorizerModel: uid=CountVectorizer_0d7a79a89368, vocabularySize=12273, IDFModel: uid=IDF_cb5169703451, numDocs=2827, numFeatures=12273, LinearSVCModel: uid=LinearSVC_822fd15b9df2, numClasses=2, numFeatures=12273]\n",
      "\n",
      "\n",
      "minDocFreq: minimum number of documents in which a term should appear for filtering (default: 0, current: 2)\n",
      "regParam: regularization parameter (>= 0). (default: 0.0, current: 0.0)\n"
     ]
    }
   ],
   "source": [
    "# Identity Hate comments - Resampled dataset (w/o Bigrams) - CV\n",
    "\n",
    "pipeline_IH3 = Pipeline(stages = [vectorizer_unigram, idf, svm_IH])\n",
    "\n",
    "grid_IH1 = ParamGridBuilder().addGrid(idf.minDocFreq, [1,2,3])\\\n",
    "                         .addGrid(svm_IH.regParam, [0.0, 0.2, 0.5])\\\n",
    "                         .build()\n",
    "\n",
    "evaluator_IH = MulticlassClassificationEvaluator(labelCol=\"identity_hate_idx\", \n",
    "                                              predictionCol=\"prediction\",\n",
    "                                              metricName=\"f1\",metricLabel=1.0)\n",
    "\n",
    "evaluator_IH_A = MulticlassClassificationEvaluator(labelCol=\"identity_hate_idx\", \n",
    "                                              predictionCol=\"prediction\",\n",
    "                                              metricName=\"accuracy\",metricLabel=1.0)\n",
    "\n",
    "evaluator_IH_ROC = BinaryClassificationEvaluator(labelCol=\"identity_hate_idx\", \n",
    "                                              rawPredictionCol=\"rawPrediction\",\n",
    "                                              metricName=\"areaUnderROC\")\n",
    "\n",
    "cv_IH1 = CrossValidator(estimator = pipeline_IH3,\n",
    "                    estimatorParamMaps = grid_IH1,\n",
    "                    evaluator = evaluator_Ins_A,\n",
    "                    numFolds = 5)\n",
    "\n",
    "\n",
    "model_IH_CV1 = cv_IH1.fit(df_IH)\n",
    "\n",
    "predictions_IH_CV1 = model_IH_CV1.transform(df_test)\n",
    "\n",
    "predictions_IH_CV1 = predictions_IH_CV1.select('id','comment_text',\n",
    "                                         'rawPrediction','prediction')\n",
    "\n",
    "pred_final_IH_CV1 = predictions_IH_CV1.join(df_eval, \"id\",'inner')\\\n",
    "                                                .select(predictions_IH_CV1.id,\n",
    "                                                predictions_IH_CV1.comment_text,\n",
    "                                                predictions_IH_CV1.rawPrediction,\n",
    "                                                predictions_IH_CV1.prediction, \n",
    "                                                df_eval.identity_hate_idx)\n",
    "\n",
    "pred_final_IH_CV1.cache()\n",
    "\n",
    "\n",
    "f1_IH_CV1 = evaluator_IH.evaluate(pred_final_IH_CV1)\n",
    "print(\"Test set F1 score for Identity Hate comments = \" + str(f1_IH_CV1))\n",
    "\n",
    "Acc_IH_CV1 = evaluator_IH_A.evaluate(pred_final_IH_CV1)\n",
    "print(\"Test set Accuracy score for Identity Hate comments = \" + str(Acc_IH_CV1))\n",
    "\n",
    "ROC_IH_CV1 = evaluator_IH_ROC.evaluate(pred_final_IH_CV1)\n",
    "print(\"Test set Area under ROC for Identity Hate comments = \" + str(ROC_IH_CV1))\n",
    "\n",
    "pred_final_IH_CV1.groupBy(F.col('prediction'), F.col('identity_hate_idx')).count().show()\n",
    "\n",
    "# Best Model\n",
    "print(\"Stages: {}\".format(model_IH_CV1.bestModel.stages))\n",
    "print(\"\\n\")\n",
    "print(model_IH_CV1.bestModel.stages[1].explainParam('minDocFreq'))\n",
    "print(model_IH_CV1.bestModel.stages[2].explainParam('regParam'))"
   ]
  },
  {
   "cell_type": "markdown",
   "metadata": {},
   "source": [
    "#### Final DataFrame with predictions"
   ]
  },
  {
   "cell_type": "code",
   "execution_count": 82,
   "metadata": {},
   "outputs": [
    {
     "name": "stdout",
     "output_type": "stream",
     "text": [
      "+----------------+--------------------+-----+------------+-------+------+------+-------------+\n",
      "|              id|        comment_text|Toxic|Severe_Toxic|Obscene|Threat|Insult|Identity Hate|\n",
      "+----------------+--------------------+-----+------------+-------+------+------+-------------+\n",
      "|000968ce11f5ee34|Please stop. If y...|  1.0|         0.0|    0.0|   0.0|   1.0|          1.0|\n",
      "|00491682330fdd1d|\" \n",
      "\n",
      " == Revision ...|  0.0|         0.0|    0.0|   0.0|   0.0|          0.0|\n",
      "|008eb47c4684d190|\" \n",
      "\n",
      " So, on the t...|  1.0|         0.0|    1.0|   0.0|   1.0|          0.0|\n",
      "|00d251f47486b6d2|::::Whether you c...|  0.0|         0.0|    0.0|   0.0|   0.0|          0.0|\n",
      "|0114ae82c53101a9|Rabby Ahmed Musa:...|  1.0|         1.0|    1.0|   1.0|   1.0|          1.0|\n",
      "+----------------+--------------------+-----+------------+-------+------+------+-------------+\n",
      "only showing top 5 rows\n",
      "\n"
     ]
    }
   ],
   "source": [
    "results = predictions_Tox_CV1.join(predictions_ST_CV1, \"id\",'inner')\\\n",
    "                        .join(predictions_Ob_CV1, \"id\",'inner')\\\n",
    "                        .join(predictions_Thr_CV1, \"id\",'inner')\\\n",
    "                        .join(predictions_Ins_CV1, \"id\",'inner')\\\n",
    "                        .join(predictions_IH_CV1, \"id\",'inner')\\\n",
    "                        .select(\n",
    "                                predictions_Tox_CV1.id,\n",
    "                                predictions_Tox_CV1.comment_text,\n",
    "                                predictions_Tox_CV1.prediction.alias(\"Toxic\"),\n",
    "                                predictions_ST_CV1.prediction.alias(\"Severe_Toxic\"),\n",
    "                                predictions_Ob_CV1.prediction.alias(\"Obscene\"),\n",
    "                                predictions_Thr_CV1.prediction.alias(\"Threat\"),\n",
    "                                predictions_Ins_CV1.prediction.alias(\"Insult\"),\n",
    "                                predictions_IH_CV1.prediction.alias(\"Identity Hate\"))\n",
    "\n",
    "\n",
    "results.show(5)"
   ]
  },
  {
   "cell_type": "code",
   "execution_count": 83,
   "metadata": {},
   "outputs": [],
   "source": [
    "spark.stop()"
   ]
  },
  {
   "cell_type": "markdown",
   "metadata": {},
   "source": [
    "---"
   ]
  }
 ],
 "metadata": {
  "kernelspec": {
   "display_name": "Python 3 (ipykernel)",
   "language": "python",
   "name": "python3"
  },
  "language_info": {
   "codemirror_mode": {
    "name": "ipython",
    "version": 3
   },
   "file_extension": ".py",
   "mimetype": "text/x-python",
   "name": "python",
   "nbconvert_exporter": "python",
   "pygments_lexer": "ipython3",
   "version": "3.9.12"
  }
 },
 "nbformat": 4,
 "nbformat_minor": 4
}
